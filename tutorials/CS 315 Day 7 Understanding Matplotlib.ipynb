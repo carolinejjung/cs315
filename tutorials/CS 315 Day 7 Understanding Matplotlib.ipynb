{
 "cells": [
  {
   "cell_type": "markdown",
   "id": "0e9387dd-78af-4a96-8c30-f6377c188247",
   "metadata": {},
   "source": [
    "# Understanding Matplotlib\n",
    "\n",
    "Materials adapted from the RealPython tutorial [Python Plotting with Matplotlib](https://realpython.com/python-matplotlib-guide/)\n",
    "\n",
    "**Table of Content**\n",
    "\n",
    "1. [Setting up matplotlib](#sec1)\n",
    "2. [Creating one plot and changing its style](#sec2)\n",
    "3. [Creating subplots](#sec3)\n",
    "4. [Real-data example: California Housing](#sec4)"
   ]
  },
  {
   "cell_type": "markdown",
   "id": "0dd83192-011e-4fc1-84e6-5ce07b595b18",
   "metadata": {},
   "source": [
    "<a id=\"sec1\"></a>\n",
    "## 1. Setting up matplotlib"
   ]
  },
  {
   "cell_type": "markdown",
   "id": "a246ac05-ade3-47f5-8a0a-0cb19e72de8d",
   "metadata": {},
   "source": [
    "**Importing what we need**"
   ]
  },
  {
   "cell_type": "code",
   "execution_count": null,
   "id": "df64b663-7dc2-4d06-9858-e0b7771686d8",
   "metadata": {},
   "outputs": [],
   "source": [
    "import matplotlib.pyplot as plt\n",
    "import numpy as np\n",
    "np.random.seed(444) # initializes our random number generator"
   ]
  },
  {
   "cell_type": "markdown",
   "id": "bf5eaa03-95ec-4036-b974-adfbd62de8d7",
   "metadata": {},
   "source": [
    "**The simplest plot**"
   ]
  },
  {
   "cell_type": "code",
   "execution_count": null,
   "id": "41e9e3e9-24cb-4224-beb8-f69b1e97019b",
   "metadata": {},
   "outputs": [],
   "source": [
    "plt.plot([4, 5, 6])"
   ]
  },
  {
   "cell_type": "markdown",
   "id": "e1e134b0-13f9-4b30-9e30-14e5e2f862ef",
   "metadata": {},
   "source": [
    "**The top object: `figure`**"
   ]
  },
  {
   "cell_type": "code",
   "execution_count": null,
   "id": "09c50389-ef29-4fa9-be9f-b2b0f676dd55",
   "metadata": {},
   "outputs": [],
   "source": [
    "fig, ax = plt.subplots()\n",
    "print(type(fig))"
   ]
  },
  {
   "cell_type": "markdown",
   "id": "406bfce3-6627-4bc9-a9ac-48b16eadc288",
   "metadata": {},
   "source": [
    "**Use object hierarchy to get a nested element**"
   ]
  },
  {
   "cell_type": "code",
   "execution_count": null,
   "id": "0b52b593-5fa4-4ea2-ab5d-af950d3f31fc",
   "metadata": {},
   "outputs": [],
   "source": [
    "one_tick = fig.axes[0].yaxis.get_major_ticks()[0]\n",
    "type(one_tick)"
   ]
  },
  {
   "cell_type": "markdown",
   "id": "ad983ea9-45c9-47d3-99ce-fa1e70cb159c",
   "metadata": {},
   "source": [
    "<a id=\"sec2\"></a>\n",
    "## 2. Creating one plot\n",
    "\n",
    "Creating and decorating a single plot."
   ]
  },
  {
   "cell_type": "code",
   "execution_count": null,
   "id": "cf7501f2-b84f-4dc9-a243-15d56cb639cb",
   "metadata": {},
   "outputs": [],
   "source": [
    "# Generate data\n",
    "import numpy as np\n",
    "rng = np.arange(50)\n",
    "rnd = np.random.randint(0, 10, size=(3, rng.size))\n",
    "yrs = 1950 + rng"
   ]
  },
  {
   "cell_type": "code",
   "execution_count": null,
   "id": "4f3685ae-6d14-4ec5-bb62-6d4760292848",
   "metadata": {},
   "outputs": [],
   "source": [
    "# Generate plot\n",
    "fig, ax = plt.subplots(figsize=(5, 3))\n",
    "ax.stackplot(yrs, rng + rnd, labels=['Eastasia', 'Eurasia', 'Oceania'])\n",
    "ax.set_title('Combined debt growth over time')\n",
    "ax.legend(loc='upper left')\n",
    "ax.set_ylabel('Total debt')\n",
    "ax.set_xlim(xmin=yrs[0], xmax=yrs[-1]) # range of values\n",
    "fig.tight_layout() # clean whitespace"
   ]
  },
  {
   "cell_type": "markdown",
   "id": "f10fa01a-e8e3-4977-9c14-b9ed6cc945c2",
   "metadata": {},
   "source": [
    "**Changing the plot style**\n",
    "\n",
    "The default matplotlib style is not that appealing. It is possible to change the appearance of the entire plot, by setting the style of the image. Each style has its own color scheme, font family and font size, background color, grids, etc. Here are some examples of famous styles:"
   ]
  },
  {
   "cell_type": "code",
   "execution_count": null,
   "id": "635eed3e-8e8f-4751-addc-9b44b6b10822",
   "metadata": {},
   "outputs": [],
   "source": [
    "# The famous data & statisics website \n",
    "plt.style.use('fivethirtyeight')"
   ]
  },
  {
   "cell_type": "code",
   "execution_count": null,
   "id": "a06a7458-6d71-4649-8d03-2436ee5a6b44",
   "metadata": {},
   "outputs": [],
   "source": [
    "# Generate plot\n",
    "def generateOnePlot():\n",
    "    fig, ax = plt.subplots(figsize=(5, 3))\n",
    "    ax.stackplot(yrs, rng + rnd, labels=['Eastasia', 'Eurasia', 'Oceania'])\n",
    "    ax.set_title('Combined debt growth over time')\n",
    "    ax.legend(loc='upper left')\n",
    "    ax.set_ylabel('Total debt')\n",
    "    ax.set_xlim(xmin=yrs[0], xmax=yrs[-1]) # range of values\n",
    "    fig.tight_layout() # clean whitespace\n",
    "\n",
    "generateOnePlot()"
   ]
  },
  {
   "cell_type": "code",
   "execution_count": null,
   "id": "82749fd1-b5fd-4a10-8a41-8d4ea5afab5e",
   "metadata": {},
   "outputs": [],
   "source": [
    "# The famouos R library for plotting, ggplot\n",
    "plt.style.use('ggplot')"
   ]
  },
  {
   "cell_type": "code",
   "execution_count": null,
   "id": "57664728-5aba-4b24-b803-308bf791586c",
   "metadata": {},
   "outputs": [],
   "source": [
    "generateOnePlot()"
   ]
  },
  {
   "cell_type": "markdown",
   "id": "135fa928-13e4-4179-a242-78b23df53e60",
   "metadata": {},
   "source": [
    "Matplotlib has many more styles, you can find them as follows:"
   ]
  },
  {
   "cell_type": "code",
   "execution_count": null,
   "id": "5c09bcb3-0a7d-4c69-8faf-ff21c92e8b31",
   "metadata": {},
   "outputs": [],
   "source": [
    "print(plt.style.available)"
   ]
  },
  {
   "cell_type": "markdown",
   "id": "c4b573df-5084-4839-8c12-589a7ef94179",
   "metadata": {},
   "source": [
    "**Try out some of the styles below**\n",
    "\n",
    "Replace the value of \"bmh\" to any of the values shown above, and rerun the cell."
   ]
  },
  {
   "cell_type": "code",
   "execution_count": null,
   "id": "c6037130-3348-494e-a4a6-b2bcda35c15b",
   "metadata": {},
   "outputs": [],
   "source": [
    "plt.style.use('bmh') \n",
    "generateOnePlot()"
   ]
  },
  {
   "cell_type": "markdown",
   "id": "e253a7c7-0e66-44de-b445-d7d6602475fd",
   "metadata": {},
   "source": [
    "<a id=\"sec3\"></a>\n",
    "## 3. Creating subplots"
   ]
  },
  {
   "cell_type": "code",
   "execution_count": null,
   "id": "6508a24f-e0e2-401a-a482-9b186425765e",
   "metadata": {},
   "outputs": [],
   "source": [
    "plt.style.use('ggplot') \n",
    "\n",
    "\n",
    "# Generate the data\n",
    "x = np.random.randint(low=1, high=11, size=50)\n",
    "y = x + np.random.randint(1, 5, size=x.size)\n",
    "data = np.column_stack((x, y))\n",
    "\n",
    "# Create figure and axes\n",
    "fig, (ax1, ax2) = plt.subplots(nrows=1, ncols=2,\n",
    "                               figsize=(8, 4))\n",
    "\n",
    "# Create the first subplot as a scatterplot\n",
    "ax1.scatter(x=x, y=y, marker='o', c='r', edgecolor='b')\n",
    "ax1.set_title('Scatter: $x$ versus $y$')\n",
    "ax1.set_xlabel('$x$') # Use TeX style, by enclosing value in the dollar signs to italize it\n",
    "ax1.set_ylabel('$y$')\n",
    "\n",
    "# Create the second subplot as a scatterplot\n",
    "ax2.hist(data, bins=np.arange(data.min(), data.max()),\n",
    "         label=('x', 'y'))\n",
    "ax2.legend(loc=(0.65, 0.8))\n",
    "ax2.set_title('Frequencies of $x$ and $y$')\n",
    "ax2.yaxis.tick_right()"
   ]
  },
  {
   "cell_type": "markdown",
   "id": "9a947c24-9ca7-4f76-a426-297b38acec08",
   "metadata": {},
   "source": [
    "Let's create a 2x2 grid of subplots:"
   ]
  },
  {
   "cell_type": "code",
   "execution_count": null,
   "id": "9a67afd1-e257-4bed-b4fe-bfab1b40ffea",
   "metadata": {},
   "outputs": [],
   "source": [
    "fig, ax = plt.subplots(nrows=2, ncols=2, figsize=(7, 7))"
   ]
  },
  {
   "cell_type": "markdown",
   "id": "6c0669cd-368e-45b6-bc3a-3ee7535d4de5",
   "metadata": {},
   "source": [
    "What is the value of ax at the moment?"
   ]
  },
  {
   "cell_type": "code",
   "execution_count": null,
   "id": "1e2b7072-594c-4bd3-96d0-f56a8fe9a5a8",
   "metadata": {},
   "outputs": [],
   "source": [
    "ax"
   ]
  },
  {
   "cell_type": "code",
   "execution_count": null,
   "id": "2d458482-f8d0-433f-af5f-07a0294fba78",
   "metadata": {},
   "outputs": [],
   "source": [
    "type(ax)"
   ]
  },
  {
   "cell_type": "markdown",
   "id": "2e3fc168-3188-4b0a-a8e6-f4dca5c88f4e",
   "metadata": {},
   "source": [
    "It's a numpy array. To access each axes we would have to do double indexing, such as:"
   ]
  },
  {
   "cell_type": "code",
   "execution_count": null,
   "id": "ffd8a05c-82ea-43b8-9468-799a054d9293",
   "metadata": {},
   "outputs": [],
   "source": [
    "ax[1][1]"
   ]
  },
  {
   "cell_type": "markdown",
   "id": "f9a9e65a-1921-4ad6-9874-c38cc2323269",
   "metadata": {},
   "source": [
    "But, we can also **flatten** the array, so that it becomes a list, which is easier to index:"
   ]
  },
  {
   "cell_type": "code",
   "execution_count": null,
   "id": "63b1c137-9c13-4cb9-a256-0d22a353fe2e",
   "metadata": {},
   "outputs": [],
   "source": [
    "fig, ax = plt.subplots(nrows=2, ncols=2, figsize=(7, 7))\n",
    "ax1, ax2, ax3, ax4 = ax.flatten()  # flatten a 2d NumPy array to 1d"
   ]
  },
  {
   "cell_type": "markdown",
   "id": "99140658-8307-4970-b3d2-ec4d474a5bcc",
   "metadata": {},
   "source": [
    "<a id=\"sec4\"></a>\n",
    "## 4. Read data example: California Housing"
   ]
  },
  {
   "cell_type": "code",
   "execution_count": null,
   "id": "700d25ef-9c5b-40e9-9605-9650c5c38bbe",
   "metadata": {},
   "outputs": [],
   "source": [
    "from io import BytesIO\n",
    "import tarfile\n",
    "from urllib.request import urlopen\n",
    "\n",
    "url = 'http://www.dcc.fc.up.pt/~ltorgo/Regression/cal_housing.tgz'\n",
    "b = BytesIO(urlopen(url).read())\n",
    "fpath = 'CaliforniaHousing/cal_housing.data'\n",
    "\n",
    "with tarfile.open(mode='r', fileobj=b) as archive:\n",
    "    housing = np.loadtxt(archive.extractfile(fpath), delimiter=',')"
   ]
  },
  {
   "cell_type": "markdown",
   "id": "7739cf3e-9252-4e00-a464-32560b7d8631",
   "metadata": {},
   "source": [
    "How big is the array housing?"
   ]
  },
  {
   "cell_type": "code",
   "execution_count": null,
   "id": "2b9fe7f3-db9b-4d5d-9568-1b260f408ee6",
   "metadata": {},
   "outputs": [],
   "source": [
    "housing.shape"
   ]
  },
  {
   "cell_type": "code",
   "execution_count": null,
   "id": "ed18b3bc-554f-4799-a9f9-013932e15ec2",
   "metadata": {},
   "outputs": [],
   "source": [
    "housing[0]"
   ]
  },
  {
   "cell_type": "markdown",
   "id": "fd42615a-7b18-4f02-8980-a2ddb6dc9050",
   "metadata": {},
   "source": [
    "Let's create a dataframe, just to see the data:"
   ]
  },
  {
   "cell_type": "code",
   "execution_count": null,
   "id": "f96b4669-656a-4ce6-be90-ba4526f741e0",
   "metadata": {},
   "outputs": [],
   "source": [
    "import pandas as pd"
   ]
  },
  {
   "cell_type": "code",
   "execution_count": null,
   "id": "5fbccf68-96c4-4401-b3d6-f3bd537f352d",
   "metadata": {},
   "outputs": [],
   "source": [
    "df = pd.DataFrame(housing)\n",
    "df.head()"
   ]
  },
  {
   "cell_type": "markdown",
   "id": "5d15dd64-f1b6-4972-ba55-56311fe997b9",
   "metadata": {},
   "source": [
    "Get the response variable (or the dependent variable), which corresponds to the \"area's average home value\".\n",
    "This is the last column:"
   ]
  },
  {
   "cell_type": "code",
   "execution_count": null,
   "id": "fd487632-7c63-4c9f-9be1-38233243416d",
   "metadata": {},
   "outputs": [],
   "source": [
    "y = housing[:, -1]"
   ]
  },
  {
   "cell_type": "markdown",
   "id": "f5cc05f7-66e8-4bed-ac21-b6500c1ecd92",
   "metadata": {},
   "source": [
    "Let's name two other variables:\n",
    "\n",
    "`pop` - area's population  \n",
    "`age` - the average house age"
   ]
  },
  {
   "cell_type": "code",
   "execution_count": null,
   "id": "084985e7-4bfa-4d43-ba7b-d15754e00d86",
   "metadata": {},
   "outputs": [],
   "source": [
    "pop, age = housing[:, [4, 7]].T # transpose from vertical column to horizontal row"
   ]
  },
  {
   "cell_type": "markdown",
   "id": "937fdb73-e420-481a-93a5-5af3da5c1e77",
   "metadata": {},
   "source": [
    "**Helper function for the inplot title**"
   ]
  },
  {
   "cell_type": "code",
   "execution_count": null,
   "id": "f4867b95-6c42-4fc9-88f7-4913f8fce463",
   "metadata": {},
   "outputs": [],
   "source": [
    "def add_titlebox(ax, text):\n",
    "    ax.text(.55, .8, text,\n",
    "        horizontalalignment='center',\n",
    "        transform=ax.transAxes,\n",
    "        bbox=dict(facecolor='white', alpha=0.6),\n",
    "        fontsize=12.5)\n",
    "    return ax"
   ]
  },
  {
   "cell_type": "markdown",
   "id": "0ffea25f-07a5-4634-9e00-31f6e3422d88",
   "metadata": {},
   "source": [
    "**Create a subgrid and plot the data**"
   ]
  },
  {
   "cell_type": "code",
   "execution_count": null,
   "id": "78ce5c06-9774-4f46-8a21-7c16bfb5b680",
   "metadata": {},
   "outputs": [],
   "source": [
    "# Create the grid\n",
    "gridsize = (3, 2)\n",
    "fig = plt.figure(figsize=(12, 8))\n",
    "ax1 = plt.subplot2grid(gridsize, (0, 0), colspan=2, rowspan=2)\n",
    "ax2 = plt.subplot2grid(gridsize, (2, 0))\n",
    "ax3 = plt.subplot2grid(gridsize, (2, 1))\n",
    "\n",
    "\n",
    "# Plot data in each axes of the grid\n",
    "ax1.set_title('Home value as a function of home age & area population',\n",
    "              fontsize=14)\n",
    "sctr = ax1.scatter(x=age, y=pop, c=y, cmap='RdYlGn')\n",
    "plt.colorbar(sctr, ax=ax1, format='$%d')\n",
    "ax1.set_yscale('log')\n",
    "ax2.hist(age, bins='auto')\n",
    "ax3.hist(pop, bins='auto', log=True)\n",
    "\n",
    "add_titlebox(ax2, 'Histogram: home age')\n",
    "add_titlebox(ax3, 'Histogram: area population (log scl.)')\n",
    "\n",
    "plt.savefig(\"california-housing.png\") # make sure to save it\n",
    "plt.show()"
   ]
  },
  {
   "cell_type": "code",
   "execution_count": null,
   "id": "477c64dc-780d-4efc-ac2b-6d92927b49ff",
   "metadata": {},
   "outputs": [],
   "source": []
  }
 ],
 "metadata": {
  "kernelspec": {
   "display_name": "Python 3 (ipykernel)",
   "language": "python",
   "name": "python3"
  },
  "language_info": {
   "codemirror_mode": {
    "name": "ipython",
    "version": 3
   },
   "file_extension": ".py",
   "mimetype": "text/x-python",
   "name": "python",
   "nbconvert_exporter": "python",
   "pygments_lexer": "ipython3",
   "version": "3.11.5"
  }
 },
 "nbformat": 4,
 "nbformat_minor": 5
}
