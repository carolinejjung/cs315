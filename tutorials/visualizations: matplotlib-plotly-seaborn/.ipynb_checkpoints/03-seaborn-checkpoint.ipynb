{
 "cells": [
  {
   "cell_type": "markdown",
   "metadata": {},
   "source": [
    "# Visualization with Seaborn\n",
    "\n",
    "Reference: https://seaborn.pydata.org/ or https://seaborn.pydata.org/introduction.html\n",
    "\n",
    "Seaborn is a library for making statistical graphs in Python. It builds on top of matplotlib and integrates closely with pandas data structures.\n",
    "\n",
    "**Table of Content**\n",
    "\n",
    "1. [Create a barplot](#sec1)\n",
    "2. [Create a scatterplot](#sec2)\n",
    "3. [Create a heatmap](#sec3)\n",
    "\n",
    "As usually, you might need to install the library if you are using miniconda."
   ]
  },
  {
   "cell_type": "code",
   "execution_count": null,
   "metadata": {},
   "outputs": [],
   "source": [
    "pip install seaborn"
   ]
  },
  {
   "cell_type": "markdown",
   "metadata": {},
   "source": [
    "Let's then import the packages we need:"
   ]
  },
  {
   "cell_type": "code",
   "execution_count": null,
   "metadata": {},
   "outputs": [],
   "source": [
    "import seaborn as sns # notice the short name for seaborn\n",
    "import json\n",
    "import matplotlib.pyplot as plt # this is useful, when we want to access the underlying plot features"
   ]
  },
  {
   "cell_type": "markdown",
   "metadata": {},
   "source": [
    "As in other Python data science libraries, seaborn also comes with several datasets included, that can be used for illustration."
   ]
  },
  {
   "cell_type": "code",
   "execution_count": null,
   "metadata": {},
   "outputs": [],
   "source": [
    "sns.get_dataset_names()"
   ]
  },
  {
   "cell_type": "markdown",
   "metadata": {},
   "source": [
    "We will use different ones in this notebook. The Seaborn documentation refers to several of these datasets, so it's worth spending a bit of time familarizing yourself with a dataset, whenever it's used in an example.\n",
    "\n",
    "We do this by first loading a dataset and then inspecting its dataframe, as shown below:"
   ]
  },
  {
   "cell_type": "code",
   "execution_count": null,
   "metadata": {},
   "outputs": [],
   "source": [
    "penguins = sns.load_dataset(\"penguins\")"
   ]
  },
  {
   "cell_type": "code",
   "execution_count": null,
   "metadata": {
    "scrolled": true
   },
   "outputs": [],
   "source": [
    "penguins.head()"
   ]
  },
  {
   "cell_type": "markdown",
   "metadata": {},
   "source": [
    "<a id=\"sec1\"></a>\n",
    "## 1. Create a barplot\n",
    "\n",
    "In Seaborn, a barplot shows point estimates and confidence intervals as rectangular bars. A bar plot represents an estimate of central tendency for a numeric variable with the height of each rectangle and provides some indication of the uncertainty around that estimate using error bars."
   ]
  },
  {
   "cell_type": "code",
   "execution_count": null,
   "metadata": {},
   "outputs": [],
   "source": [
    "sns.set_theme(style=\"whitegrid\")\n",
    "fig = sns.barplot(x=\"species\", \n",
    "                  y=\"bill_length_mm\", \n",
    "                  data=penguins, \n",
    "                  hue=\"island\")"
   ]
  },
  {
   "cell_type": "markdown",
   "metadata": {},
   "source": [
    "Two things here:\n",
    "- the legend is shown on top of the bars, that is not a good idea, we might want to move it somewhere else\n",
    "- there is not much free space for the legend elsewehere, so we might want to increase the size of the figure first\n",
    "\n",
    "To do both these things, we need to access the underlying plot on top of which seaborn is drawing. We do that, via the `plt` object."
   ]
  },
  {
   "cell_type": "code",
   "execution_count": null,
   "metadata": {},
   "outputs": [],
   "source": [
    "plt.figure(figsize=(10,8))\n",
    "\n",
    "fig = sns.barplot(x=\"species\", \n",
    "                  y=\"bill_length_mm\", \n",
    "                  data=penguins, \n",
    "                  hue=\"island\")\n",
    "\n",
    "plt.legend(loc='upper left', title=\"Island\")"
   ]
  },
  {
   "cell_type": "markdown",
   "metadata": {},
   "source": [
    "<a id='sec2'></a>\n",
    "## 2. Create a  scatterplot\n",
    "\n",
    "It is a simple as invoking the function with the dataframe and specifying a few named parameters."
   ]
  },
  {
   "cell_type": "code",
   "execution_count": null,
   "metadata": {},
   "outputs": [],
   "source": [
    "plt.figure(figsize=(10,6))\n",
    "fig1 = sns.scatterplot(data=penguins, \n",
    "                       x=\"bill_depth_mm\", \n",
    "                       y=\"bill_length_mm\", \n",
    "                       hue=\"species\", \n",
    "                       style=\"sex\")"
   ]
  },
  {
   "cell_type": "markdown",
   "metadata": {},
   "source": [
    "We can use `relplot` to combine `FacetGrid` and `scatterplot`"
   ]
  },
  {
   "cell_type": "code",
   "execution_count": null,
   "metadata": {},
   "outputs": [],
   "source": [
    "fig2 = sns.relplot(data=penguins, \n",
    "                   x=\"bill_depth_mm\", \n",
    "                   y=\"bill_length_mm\", \n",
    "                   col=\"species\", \n",
    "                   hue=\"sex\")"
   ]
  },
  {
   "cell_type": "markdown",
   "metadata": {},
   "source": [
    "We can use `regplot` to plot data and a linear regression model fit. We can also use `lmplot` to combine `regplot` and `FacetGrid`."
   ]
  },
  {
   "cell_type": "code",
   "execution_count": null,
   "metadata": {},
   "outputs": [],
   "source": [
    "# I'm interested in seeing the relationship between bill length and bill depth\n",
    "# for penguins of species Adelie\n",
    "df3 = penguins[penguins['species']=='Adelie']\n",
    "df3.head()"
   ]
  },
  {
   "cell_type": "code",
   "execution_count": null,
   "metadata": {},
   "outputs": [],
   "source": [
    "fig3 = sns.regplot(data=df3, \n",
    "                   x=\"bill_depth_mm\", \n",
    "                   y=\"bill_length_mm\")"
   ]
  },
  {
   "cell_type": "code",
   "execution_count": null,
   "metadata": {},
   "outputs": [],
   "source": [
    "fig4 = sns.lmplot(data=penguins, \n",
    "                  x='bill_depth_mm', \n",
    "                  y='bill_length_mm', \n",
    "                  col='species')"
   ]
  },
  {
   "cell_type": "markdown",
   "metadata": {},
   "source": [
    "<a id=\"sec3\"></a>\n",
    "## 3. Create a heatmap\n",
    "\n",
    "Here we will use our own dataset `positional.json` again. Remember that to create a heatmap, we need to have a matrix or rectangular dataset."
   ]
  },
  {
   "cell_type": "code",
   "execution_count": null,
   "metadata": {},
   "outputs": [],
   "source": [
    "with open(\"positional.json\", \"r\") as infile:\n",
    "    pos = json.load(infile)"
   ]
  },
  {
   "cell_type": "code",
   "execution_count": null,
   "metadata": {},
   "outputs": [],
   "source": [
    "print(pos)"
   ]
  },
  {
   "cell_type": "code",
   "execution_count": null,
   "metadata": {
    "scrolled": true
   },
   "outputs": [],
   "source": [
    "# here's how our matrix (10x10) looks like:\n",
    "matr = [ii for ii in pos.values()]\n",
    "matr"
   ]
  },
  {
   "cell_type": "markdown",
   "metadata": {},
   "source": [
    "Now that we have a matrix like this, we simply call the function heatmap:"
   ]
  },
  {
   "cell_type": "code",
   "execution_count": null,
   "metadata": {},
   "outputs": [],
   "source": [
    "fig5 = sns.heatmap(matr)"
   ]
  },
  {
   "cell_type": "markdown",
   "metadata": {},
   "source": [
    "### Your Turn:\n",
    "\n",
    "The default heatmap doesn't look that nice. Do two things:\n",
    "\n",
    "- make the figure larger (as we have shown above)\n",
    "- apply a different color map\n",
    "\n",
    "Show your code and new heatmap below:"
   ]
  },
  {
   "cell_type": "code",
   "execution_count": null,
   "metadata": {},
   "outputs": [],
   "source": []
  }
 ],
 "metadata": {
  "kernelspec": {
   "display_name": "Python 3",
   "language": "python",
   "name": "python3"
  },
  "language_info": {
   "codemirror_mode": {
    "name": "ipython",
    "version": 3
   },
   "file_extension": ".py",
   "mimetype": "text/x-python",
   "name": "python",
   "nbconvert_exporter": "python",
   "pygments_lexer": "ipython3",
   "version": "3.7.7"
  }
 },
 "nbformat": 4,
 "nbformat_minor": 4
}
