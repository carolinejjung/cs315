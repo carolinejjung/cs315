{
 "cells": [
  {
   "cell_type": "markdown",
   "metadata": {},
   "source": [
    "# Working with Pandas\n",
    "\n",
    "**Table of Content**\n",
    "\n",
    "1. [Shortnames for imported packages](#sec1)\n",
    "2. [The `DataFrame` Class](#sec2)\n",
    "3. [Construct a dataframe from Python data structures](#sec3)\n",
    "4. [Import external data](#sec4)\n",
    "5. [Head and Tail](#sec5)\n",
    "6. [The `describe` method](#sec6)\n",
    "7. [Attached attributes: `dtypes`, `index`, `columns`](#sec7)\n",
    "8. [Rename columns](#sec8)\n",
    "9. [Sorting by one or more columns](#sec9)\n",
    "10. [Indexing and Slicing](#sec10)\n",
    "11. [Apply operations](#sec11)\n",
    "12. [Creating new columns](#sec12)\n",
    "13. [Deleting duplicates](#sec13)\n",
    "14. [Filtering values](#sec14)\n",
    "15. [Replacing values](#sec15)\n",
    "16. [Dropping values](#sec16)\n",
    "17. [A `groupby` example](#sec17)\n",
    "\n",
    "\n",
    "**Credit:** Many of these examples are adapted from the extensive library of examples on data science by [Chris Albon](https://chrisalbon.com/). Visit the website for many more examples."
   ]
  },
  {
   "cell_type": "markdown",
   "metadata": {},
   "source": [
    "<a id=\"sec1\"></a>\n",
    "## 1. Shortnames for imported packages\n",
    "\n",
    "There is a practice in Python to use shortnames for packages, instead of their full names. Also, instead of importing everything from a package, we refer to functions through the package name, to preserve the name space (i.e., avoid that functions with the same name override each other in the program's name space).\n",
    "\n",
    "Thus, most pandas objects below are accessed as: `pd._object_name_`\n",
    "\n",
    "It's a good idea to learn the conventional shortnames for all libraries that we'll use in the class."
   ]
  },
  {
   "cell_type": "code",
   "execution_count": 2,
   "metadata": {},
   "outputs": [
    {
     "name": "stderr",
     "output_type": "stream",
     "text": [
      "/var/folders/cw/4tmbrj3d1pzd4rhyrm8vnwyc0000gn/T/ipykernel_78698/409801440.py:1: DeprecationWarning: \n",
      "Pyarrow will become a required dependency of pandas in the next major release of pandas (pandas 3.0),\n",
      "(to allow more performant data types, such as the Arrow string type, and better interoperability with other libraries)\n",
      "but was not found to be installed on your system.\n",
      "If this would cause problems for you,\n",
      "please provide us feedback at https://github.com/pandas-dev/pandas/issues/54466\n",
      "        \n",
      "  import pandas as pd\n"
     ]
    }
   ],
   "source": [
    "import pandas as pd\n",
    "import numpy as np # a very useful library"
   ]
  },
  {
   "cell_type": "markdown",
   "metadata": {},
   "source": [
    "<a id=\"sec2\"></a>\n",
    "## 2. The `DataFrame` Class\n",
    "\n",
    "The most important class in `pandas` is the `DataFrame`, which represents data as a table. We will usually store in it the \"tidy tables\" or data that we will eventually transform into a tidy table to do the rest of the analysis."
   ]
  },
  {
   "cell_type": "code",
   "execution_count": 3,
   "metadata": {},
   "outputs": [
    {
     "data": {
      "text/plain": [
       "pandas.core.frame.DataFrame"
      ]
     },
     "execution_count": 3,
     "metadata": {},
     "output_type": "execute_result"
    }
   ],
   "source": [
    "pd.DataFrame # check the nature of this object"
   ]
  },
  {
   "cell_type": "markdown",
   "metadata": {},
   "source": [
    "One of the most powerful Python commands is `help`. You don't need to Google! With `help` you can get useful examples to understand a data structure, a class, a method, etc. Peruse the parameters and the examples for `DataFrame` below."
   ]
  },
  {
   "cell_type": "code",
   "execution_count": null,
   "metadata": {},
   "outputs": [],
   "source": [
    "help(pd.DataFrame)"
   ]
  },
  {
   "cell_type": "markdown",
   "metadata": {},
   "source": [
    "**Note:** Before converting a notebook into an HTML, comment out cells like the one below that print documentation through help, becuase in HTML format, they are collapsed and take up a lot of space in the noteboook."
   ]
  },
  {
   "cell_type": "markdown",
   "metadata": {},
   "source": [
    "<a id=\"sec3\"></a>\n",
    "## 3. Construct a dataframe from Python data structures\n",
    "\n",
    "Because the dataframe is a table of rows and columns, to create one from scratch we need to supply it with two-dimensional data, for example a dictionary of lists, a list of dictionaries, a list of lists, etc."
   ]
  },
  {
   "cell_type": "markdown",
   "metadata": {},
   "source": [
    "### From a dictionary of lists\n",
    "\n",
    "Notice her that each list associated with a key will become a column."
   ]
  },
  {
   "cell_type": "code",
   "execution_count": 5,
   "metadata": {},
   "outputs": [
    {
     "data": {
      "text/plain": [
       "{'col1': [1, 2, 3], 'col2': [4, 5, 6], 'col3': [7, 8, 9]}"
      ]
     },
     "execution_count": 5,
     "metadata": {},
     "output_type": "execute_result"
    }
   ],
   "source": [
    "d = {'col1': [1, 2, 3], \n",
    "     'col2': [4, 5, 6], \n",
    "     'col3': [7, 8, 9]}\n",
    "d"
   ]
  },
  {
   "cell_type": "code",
   "execution_count": 6,
   "metadata": {},
   "outputs": [
    {
     "data": {
      "text/html": [
       "<div>\n",
       "<style scoped>\n",
       "    .dataframe tbody tr th:only-of-type {\n",
       "        vertical-align: middle;\n",
       "    }\n",
       "\n",
       "    .dataframe tbody tr th {\n",
       "        vertical-align: top;\n",
       "    }\n",
       "\n",
       "    .dataframe thead th {\n",
       "        text-align: right;\n",
       "    }\n",
       "</style>\n",
       "<table border=\"1\" class=\"dataframe\">\n",
       "  <thead>\n",
       "    <tr style=\"text-align: right;\">\n",
       "      <th></th>\n",
       "      <th>col1</th>\n",
       "      <th>col2</th>\n",
       "      <th>col3</th>\n",
       "    </tr>\n",
       "  </thead>\n",
       "  <tbody>\n",
       "    <tr>\n",
       "      <th>0</th>\n",
       "      <td>1</td>\n",
       "      <td>4</td>\n",
       "      <td>7</td>\n",
       "    </tr>\n",
       "    <tr>\n",
       "      <th>1</th>\n",
       "      <td>2</td>\n",
       "      <td>5</td>\n",
       "      <td>8</td>\n",
       "    </tr>\n",
       "    <tr>\n",
       "      <th>2</th>\n",
       "      <td>3</td>\n",
       "      <td>6</td>\n",
       "      <td>9</td>\n",
       "    </tr>\n",
       "  </tbody>\n",
       "</table>\n",
       "</div>"
      ],
      "text/plain": [
       "   col1  col2  col3\n",
       "0     1     4     7\n",
       "1     2     5     8\n",
       "2     3     6     9"
      ]
     },
     "execution_count": 6,
     "metadata": {},
     "output_type": "execute_result"
    }
   ],
   "source": [
    "df = pd.DataFrame(data=d) # the named parameter data is optional\n",
    "df"
   ]
  },
  {
   "cell_type": "code",
   "execution_count": 7,
   "metadata": {},
   "outputs": [
    {
     "data": {
      "text/html": [
       "<div>\n",
       "<style scoped>\n",
       "    .dataframe tbody tr th:only-of-type {\n",
       "        vertical-align: middle;\n",
       "    }\n",
       "\n",
       "    .dataframe tbody tr th {\n",
       "        vertical-align: top;\n",
       "    }\n",
       "\n",
       "    .dataframe thead th {\n",
       "        text-align: right;\n",
       "    }\n",
       "</style>\n",
       "<table border=\"1\" class=\"dataframe\">\n",
       "  <thead>\n",
       "    <tr style=\"text-align: right;\">\n",
       "      <th></th>\n",
       "      <th>col1</th>\n",
       "      <th>col2</th>\n",
       "      <th>col3</th>\n",
       "    </tr>\n",
       "  </thead>\n",
       "  <tbody>\n",
       "    <tr>\n",
       "      <th>0</th>\n",
       "      <td>1</td>\n",
       "      <td>4</td>\n",
       "      <td>7</td>\n",
       "    </tr>\n",
       "    <tr>\n",
       "      <th>1</th>\n",
       "      <td>2</td>\n",
       "      <td>5</td>\n",
       "      <td>8</td>\n",
       "    </tr>\n",
       "    <tr>\n",
       "      <th>2</th>\n",
       "      <td>3</td>\n",
       "      <td>6</td>\n",
       "      <td>9</td>\n",
       "    </tr>\n",
       "  </tbody>\n",
       "</table>\n",
       "</div>"
      ],
      "text/plain": [
       "   col1  col2  col3\n",
       "0     1     4     7\n",
       "1     2     5     8\n",
       "2     3     6     9"
      ]
     },
     "execution_count": 7,
     "metadata": {},
     "output_type": "execute_result"
    }
   ],
   "source": [
    "# you can create the dataframe by passing the argument directly, no need for the named parameter, try it out\n",
    "pd.DataFrame(d)"
   ]
  },
  {
   "cell_type": "markdown",
   "metadata": {},
   "source": [
    "### From a list of dictionaries\n",
    "\n",
    "Dictionaries need to have the same keys. Notice that each dictionary becomes a row in the table."
   ]
  },
  {
   "cell_type": "code",
   "execution_count": 8,
   "metadata": {},
   "outputs": [
    {
     "data": {
      "text/plain": [
       "[{'colA': 10, 'colB': 20}, {'colA': 15, 'colB': 30}]"
      ]
     },
     "execution_count": 8,
     "metadata": {},
     "output_type": "execute_result"
    }
   ],
   "source": [
    "d = [{'colA': 10, 'colB': 20}, \n",
    "     {'colA': 15, 'colB': 30}]\n",
    "d"
   ]
  },
  {
   "cell_type": "code",
   "execution_count": 9,
   "metadata": {},
   "outputs": [
    {
     "data": {
      "text/html": [
       "<div>\n",
       "<style scoped>\n",
       "    .dataframe tbody tr th:only-of-type {\n",
       "        vertical-align: middle;\n",
       "    }\n",
       "\n",
       "    .dataframe tbody tr th {\n",
       "        vertical-align: top;\n",
       "    }\n",
       "\n",
       "    .dataframe thead th {\n",
       "        text-align: right;\n",
       "    }\n",
       "</style>\n",
       "<table border=\"1\" class=\"dataframe\">\n",
       "  <thead>\n",
       "    <tr style=\"text-align: right;\">\n",
       "      <th></th>\n",
       "      <th>colA</th>\n",
       "      <th>colB</th>\n",
       "    </tr>\n",
       "  </thead>\n",
       "  <tbody>\n",
       "    <tr>\n",
       "      <th>0</th>\n",
       "      <td>10</td>\n",
       "      <td>20</td>\n",
       "    </tr>\n",
       "    <tr>\n",
       "      <th>1</th>\n",
       "      <td>15</td>\n",
       "      <td>30</td>\n",
       "    </tr>\n",
       "  </tbody>\n",
       "</table>\n",
       "</div>"
      ],
      "text/plain": [
       "   colA  colB\n",
       "0    10    20\n",
       "1    15    30"
      ]
     },
     "execution_count": 9,
     "metadata": {},
     "output_type": "execute_result"
    }
   ],
   "source": [
    "df2 = pd.DataFrame(data=d)\n",
    "df2"
   ]
  },
  {
   "cell_type": "markdown",
   "metadata": {},
   "source": [
    "### From a numpy array\n",
    "\n",
    "We will create first a 2D array (a matrix), 5x5 with random integers, using `numpy`, and then will feed that data to the DataFrame constructor."
   ]
  },
  {
   "cell_type": "code",
   "execution_count": 10,
   "metadata": {},
   "outputs": [
    {
     "data": {
      "text/plain": [
       "array([[2, 4, 6, 4, 4],\n",
       "       [7, 2, 5, 9, 9],\n",
       "       [0, 9, 1, 5, 0],\n",
       "       [3, 4, 1, 7, 9],\n",
       "       [6, 5, 7, 3, 0]])"
      ]
     },
     "execution_count": 10,
     "metadata": {},
     "output_type": "execute_result"
    }
   ],
   "source": [
    "matrix = np.random.randint(low=0, high=10, \n",
    "                           size=(5, 5))\n",
    "matrix                  "
   ]
  },
  {
   "cell_type": "markdown",
   "metadata": {},
   "source": [
    "Because an array doesn't have keys that can be used as column names (see the first two examples), we need to supply them through the named parameter `columns`, see below:"
   ]
  },
  {
   "cell_type": "code",
   "execution_count": 11,
   "metadata": {},
   "outputs": [
    {
     "data": {
      "text/html": [
       "<div>\n",
       "<style scoped>\n",
       "    .dataframe tbody tr th:only-of-type {\n",
       "        vertical-align: middle;\n",
       "    }\n",
       "\n",
       "    .dataframe tbody tr th {\n",
       "        vertical-align: top;\n",
       "    }\n",
       "\n",
       "    .dataframe thead th {\n",
       "        text-align: right;\n",
       "    }\n",
       "</style>\n",
       "<table border=\"1\" class=\"dataframe\">\n",
       "  <thead>\n",
       "    <tr style=\"text-align: right;\">\n",
       "      <th></th>\n",
       "      <th>a</th>\n",
       "      <th>b</th>\n",
       "      <th>c</th>\n",
       "      <th>d</th>\n",
       "      <th>e</th>\n",
       "    </tr>\n",
       "  </thead>\n",
       "  <tbody>\n",
       "    <tr>\n",
       "      <th>0</th>\n",
       "      <td>2</td>\n",
       "      <td>4</td>\n",
       "      <td>6</td>\n",
       "      <td>4</td>\n",
       "      <td>4</td>\n",
       "    </tr>\n",
       "    <tr>\n",
       "      <th>1</th>\n",
       "      <td>7</td>\n",
       "      <td>2</td>\n",
       "      <td>5</td>\n",
       "      <td>9</td>\n",
       "      <td>9</td>\n",
       "    </tr>\n",
       "    <tr>\n",
       "      <th>2</th>\n",
       "      <td>0</td>\n",
       "      <td>9</td>\n",
       "      <td>1</td>\n",
       "      <td>5</td>\n",
       "      <td>0</td>\n",
       "    </tr>\n",
       "    <tr>\n",
       "      <th>3</th>\n",
       "      <td>3</td>\n",
       "      <td>4</td>\n",
       "      <td>1</td>\n",
       "      <td>7</td>\n",
       "      <td>9</td>\n",
       "    </tr>\n",
       "    <tr>\n",
       "      <th>4</th>\n",
       "      <td>6</td>\n",
       "      <td>5</td>\n",
       "      <td>7</td>\n",
       "      <td>3</td>\n",
       "      <td>0</td>\n",
       "    </tr>\n",
       "  </tbody>\n",
       "</table>\n",
       "</div>"
      ],
      "text/plain": [
       "   a  b  c  d  e\n",
       "0  2  4  6  4  4\n",
       "1  7  2  5  9  9\n",
       "2  0  9  1  5  0\n",
       "3  3  4  1  7  9\n",
       "4  6  5  7  3  0"
      ]
     },
     "execution_count": 11,
     "metadata": {},
     "output_type": "execute_result"
    }
   ],
   "source": [
    "df3 = pd.DataFrame(matrix, columns=['a', 'b', 'c', 'd', 'e'])\n",
    "df3"
   ]
  },
  {
   "cell_type": "markdown",
   "metadata": {},
   "source": [
    "### From a list of lists (with indices and columns as parameters)\n",
    "\n",
    "If we don't like it that the rows have indices like 0, 1, 2, etc., we can provide our own indices. Below, we first create a list of indices and columns, and then use them as values for the parameters `index` and `columns` in the `DataFrame` constructor call."
   ]
  },
  {
   "cell_type": "code",
   "execution_count": 12,
   "metadata": {},
   "outputs": [
    {
     "name": "stdout",
     "output_type": "stream",
     "text": [
      "['A', 'B', 'C', 'D', 'E', 'F', 'G', 'H', 'I', 'J', 'K', 'L', 'M', 'N', 'O', 'P', 'Q', 'R', 'S', 'T', 'U', 'V', 'W', 'X', 'Y', 'Z']\n",
      "['a', 'b', 'c', 'd', 'e', 'f', 'g', 'h', 'i', 'j', 'k', 'l', 'm', 'n', 'o', 'p', 'q', 'r', 's', 't', 'u', 'v', 'w', 'x', 'y', 'z']\n"
     ]
    }
   ],
   "source": [
    "import string\n",
    "indices = list(string.ascii_uppercase) # all the uppercase letters\n",
    "columns = list(string.ascii_lowercase) # all the lowercase letters\n",
    "\n",
    "print(indices)\n",
    "print(columns)"
   ]
  },
  {
   "cell_type": "code",
   "execution_count": 13,
   "metadata": {},
   "outputs": [
    {
     "data": {
      "text/html": [
       "<div>\n",
       "<style scoped>\n",
       "    .dataframe tbody tr th:only-of-type {\n",
       "        vertical-align: middle;\n",
       "    }\n",
       "\n",
       "    .dataframe tbody tr th {\n",
       "        vertical-align: top;\n",
       "    }\n",
       "\n",
       "    .dataframe thead th {\n",
       "        text-align: right;\n",
       "    }\n",
       "</style>\n",
       "<table border=\"1\" class=\"dataframe\">\n",
       "  <thead>\n",
       "    <tr style=\"text-align: right;\">\n",
       "      <th></th>\n",
       "      <th>a</th>\n",
       "      <th>b</th>\n",
       "      <th>c</th>\n",
       "      <th>d</th>\n",
       "      <th>e</th>\n",
       "      <th>f</th>\n",
       "      <th>g</th>\n",
       "      <th>h</th>\n",
       "      <th>i</th>\n",
       "      <th>j</th>\n",
       "    </tr>\n",
       "  </thead>\n",
       "  <tbody>\n",
       "    <tr>\n",
       "      <th>A</th>\n",
       "      <td>76</td>\n",
       "      <td>77</td>\n",
       "      <td>42</td>\n",
       "      <td>9</td>\n",
       "      <td>34</td>\n",
       "      <td>79</td>\n",
       "      <td>98</td>\n",
       "      <td>16</td>\n",
       "      <td>20</td>\n",
       "      <td>94</td>\n",
       "    </tr>\n",
       "    <tr>\n",
       "      <th>B</th>\n",
       "      <td>61</td>\n",
       "      <td>37</td>\n",
       "      <td>34</td>\n",
       "      <td>41</td>\n",
       "      <td>68</td>\n",
       "      <td>73</td>\n",
       "      <td>40</td>\n",
       "      <td>67</td>\n",
       "      <td>33</td>\n",
       "      <td>49</td>\n",
       "    </tr>\n",
       "    <tr>\n",
       "      <th>C</th>\n",
       "      <td>64</td>\n",
       "      <td>5</td>\n",
       "      <td>69</td>\n",
       "      <td>70</td>\n",
       "      <td>2</td>\n",
       "      <td>33</td>\n",
       "      <td>66</td>\n",
       "      <td>76</td>\n",
       "      <td>67</td>\n",
       "      <td>10</td>\n",
       "    </tr>\n",
       "    <tr>\n",
       "      <th>D</th>\n",
       "      <td>33</td>\n",
       "      <td>72</td>\n",
       "      <td>27</td>\n",
       "      <td>92</td>\n",
       "      <td>15</td>\n",
       "      <td>2</td>\n",
       "      <td>40</td>\n",
       "      <td>53</td>\n",
       "      <td>64</td>\n",
       "      <td>83</td>\n",
       "    </tr>\n",
       "    <tr>\n",
       "      <th>E</th>\n",
       "      <td>56</td>\n",
       "      <td>8</td>\n",
       "      <td>74</td>\n",
       "      <td>61</td>\n",
       "      <td>21</td>\n",
       "      <td>82</td>\n",
       "      <td>97</td>\n",
       "      <td>24</td>\n",
       "      <td>16</td>\n",
       "      <td>21</td>\n",
       "    </tr>\n",
       "    <tr>\n",
       "      <th>F</th>\n",
       "      <td>72</td>\n",
       "      <td>57</td>\n",
       "      <td>97</td>\n",
       "      <td>42</td>\n",
       "      <td>98</td>\n",
       "      <td>19</td>\n",
       "      <td>46</td>\n",
       "      <td>71</td>\n",
       "      <td>59</td>\n",
       "      <td>87</td>\n",
       "    </tr>\n",
       "    <tr>\n",
       "      <th>G</th>\n",
       "      <td>42</td>\n",
       "      <td>66</td>\n",
       "      <td>58</td>\n",
       "      <td>17</td>\n",
       "      <td>54</td>\n",
       "      <td>63</td>\n",
       "      <td>35</td>\n",
       "      <td>58</td>\n",
       "      <td>23</td>\n",
       "      <td>98</td>\n",
       "    </tr>\n",
       "    <tr>\n",
       "      <th>H</th>\n",
       "      <td>39</td>\n",
       "      <td>93</td>\n",
       "      <td>75</td>\n",
       "      <td>34</td>\n",
       "      <td>43</td>\n",
       "      <td>97</td>\n",
       "      <td>81</td>\n",
       "      <td>23</td>\n",
       "      <td>31</td>\n",
       "      <td>96</td>\n",
       "    </tr>\n",
       "    <tr>\n",
       "      <th>I</th>\n",
       "      <td>48</td>\n",
       "      <td>49</td>\n",
       "      <td>6</td>\n",
       "      <td>44</td>\n",
       "      <td>64</td>\n",
       "      <td>7</td>\n",
       "      <td>95</td>\n",
       "      <td>15</td>\n",
       "      <td>90</td>\n",
       "      <td>56</td>\n",
       "    </tr>\n",
       "    <tr>\n",
       "      <th>J</th>\n",
       "      <td>75</td>\n",
       "      <td>90</td>\n",
       "      <td>83</td>\n",
       "      <td>18</td>\n",
       "      <td>61</td>\n",
       "      <td>40</td>\n",
       "      <td>87</td>\n",
       "      <td>5</td>\n",
       "      <td>97</td>\n",
       "      <td>29</td>\n",
       "    </tr>\n",
       "  </tbody>\n",
       "</table>\n",
       "</div>"
      ],
      "text/plain": [
       "    a   b   c   d   e   f   g   h   i   j\n",
       "A  76  77  42   9  34  79  98  16  20  94\n",
       "B  61  37  34  41  68  73  40  67  33  49\n",
       "C  64   5  69  70   2  33  66  76  67  10\n",
       "D  33  72  27  92  15   2  40  53  64  83\n",
       "E  56   8  74  61  21  82  97  24  16  21\n",
       "F  72  57  97  42  98  19  46  71  59  87\n",
       "G  42  66  58  17  54  63  35  58  23  98\n",
       "H  39  93  75  34  43  97  81  23  31  96\n",
       "I  48  49   6  44  64   7  95  15  90  56\n",
       "J  75  90  83  18  61  40  87   5  97  29"
      ]
     },
     "execution_count": 13,
     "metadata": {},
     "output_type": "execute_result"
    }
   ],
   "source": [
    "df4 = pd.DataFrame(np.random.randint(low=0, high=100, size=(10, 10)),\n",
    "                               index=indices[:10], \n",
    "                               columns=columns[:10])\n",
    "df4"
   ]
  },
  {
   "cell_type": "markdown",
   "metadata": {},
   "source": [
    "As you can see, the `DataFrame` constructor is very flexible. The first parameter refers to the data that we want to store in it, but then we can provide values for the other parameters, referring them through names."
   ]
  },
  {
   "cell_type": "markdown",
   "metadata": {},
   "source": [
    "<a id=\"sec4\"></a>\n",
    "## 4. Import external data\n",
    "\n",
    "Very frequently, we will be importing data into `pandas` from external files.\n",
    "\n",
    "In the row below, put the cursor at the end and press the key _tab_ to see the many `read` methods that allow you to import various data formats:"
   ]
  },
  {
   "cell_type": "code",
   "execution_count": null,
   "metadata": {},
   "outputs": [],
   "source": [
    "pd.read_"
   ]
  },
  {
   "cell_type": "markdown",
   "metadata": {},
   "source": [
    "**Read from a CSV file**\n",
    "\n",
    "The most common file from which data is imported is the CSV. For the example below, we will use a CSV file with responses from a survey of CS 234 students in 2019."
   ]
  },
  {
   "cell_type": "code",
   "execution_count": 14,
   "metadata": {},
   "outputs": [
    {
     "data": {
      "text/html": [
       "<div>\n",
       "<style scoped>\n",
       "    .dataframe tbody tr th:only-of-type {\n",
       "        vertical-align: middle;\n",
       "    }\n",
       "\n",
       "    .dataframe tbody tr th {\n",
       "        vertical-align: top;\n",
       "    }\n",
       "\n",
       "    .dataframe thead th {\n",
       "        text-align: right;\n",
       "    }\n",
       "</style>\n",
       "<table border=\"1\" class=\"dataframe\">\n",
       "  <thead>\n",
       "    <tr style=\"text-align: right;\">\n",
       "      <th></th>\n",
       "      <th>Your class year:</th>\n",
       "      <th>Your favorite number:</th>\n",
       "      <th>Your height in centimeters:</th>\n",
       "      <th>Your weight in kilogram:</th>\n",
       "      <th>Your favorite drink:</th>\n",
       "      <th>What is your favorite animal?</th>\n",
       "      <th>What is your favorite movie?</th>\n",
       "      <th>Who is your favorite woman author?</th>\n",
       "    </tr>\n",
       "  </thead>\n",
       "  <tbody>\n",
       "    <tr>\n",
       "      <th>0</th>\n",
       "      <td>2020</td>\n",
       "      <td>16</td>\n",
       "      <td>167.00</td>\n",
       "      <td>59.000</td>\n",
       "      <td>Tea</td>\n",
       "      <td>Otter</td>\n",
       "      <td>The Arrival</td>\n",
       "      <td>Margaret Atwood</td>\n",
       "    </tr>\n",
       "    <tr>\n",
       "      <th>1</th>\n",
       "      <td>2020</td>\n",
       "      <td>17</td>\n",
       "      <td>152.00</td>\n",
       "      <td>66.000</td>\n",
       "      <td>Water</td>\n",
       "      <td>Cat</td>\n",
       "      <td>North by Northwest</td>\n",
       "      <td>Tamora Pierce</td>\n",
       "    </tr>\n",
       "    <tr>\n",
       "      <th>2</th>\n",
       "      <td>2021</td>\n",
       "      <td>3</td>\n",
       "      <td>157.48</td>\n",
       "      <td>53.070</td>\n",
       "      <td>Apple Cider</td>\n",
       "      <td>Whiptail Lizard</td>\n",
       "      <td>Good Will Hunting</td>\n",
       "      <td>Virginia Woolf</td>\n",
       "    </tr>\n",
       "    <tr>\n",
       "      <th>3</th>\n",
       "      <td>2021</td>\n",
       "      <td>7</td>\n",
       "      <td>160.00</td>\n",
       "      <td>61.000</td>\n",
       "      <td>Milk</td>\n",
       "      <td>Elephant</td>\n",
       "      <td>Catch Me if You Can</td>\n",
       "      <td>Donna Tartt</td>\n",
       "    </tr>\n",
       "    <tr>\n",
       "      <th>4</th>\n",
       "      <td>2020</td>\n",
       "      <td>3</td>\n",
       "      <td>165.10</td>\n",
       "      <td>70.000</td>\n",
       "      <td>Boba</td>\n",
       "      <td>Cat</td>\n",
       "      <td>Mulan</td>\n",
       "      <td>J.K. Rowling</td>\n",
       "    </tr>\n",
       "    <tr>\n",
       "      <th>5</th>\n",
       "      <td>2022</td>\n",
       "      <td>25</td>\n",
       "      <td>159.00</td>\n",
       "      <td>45.000</td>\n",
       "      <td>Tea</td>\n",
       "      <td>Bunny</td>\n",
       "      <td>Tangled</td>\n",
       "      <td>Maggie Stiefvater</td>\n",
       "    </tr>\n",
       "    <tr>\n",
       "      <th>6</th>\n",
       "      <td>2020</td>\n",
       "      <td>68</td>\n",
       "      <td>168.00</td>\n",
       "      <td>52.000</td>\n",
       "      <td>Hot chocolate</td>\n",
       "      <td>Octopus</td>\n",
       "      <td>Lord of the Rings: Two Towers</td>\n",
       "      <td>Megan Whalen Turner</td>\n",
       "    </tr>\n",
       "    <tr>\n",
       "      <th>7</th>\n",
       "      <td>2020</td>\n",
       "      <td>10</td>\n",
       "      <td>175.00</td>\n",
       "      <td>76.000</td>\n",
       "      <td>Water</td>\n",
       "      <td>Horse</td>\n",
       "      <td>Up</td>\n",
       "      <td>Rebecca Skloot</td>\n",
       "    </tr>\n",
       "    <tr>\n",
       "      <th>8</th>\n",
       "      <td>2021</td>\n",
       "      <td>7</td>\n",
       "      <td>170.00</td>\n",
       "      <td>71.000</td>\n",
       "      <td>Water</td>\n",
       "      <td>Cat</td>\n",
       "      <td>Ocean's 11</td>\n",
       "      <td>Agatha Christie</td>\n",
       "    </tr>\n",
       "    <tr>\n",
       "      <th>9</th>\n",
       "      <td>2021</td>\n",
       "      <td>13</td>\n",
       "      <td>163.00</td>\n",
       "      <td>54.500</td>\n",
       "      <td>Coffee</td>\n",
       "      <td>Cat</td>\n",
       "      <td>10 things I hate about you</td>\n",
       "      <td>J.K. Rowling</td>\n",
       "    </tr>\n",
       "    <tr>\n",
       "      <th>10</th>\n",
       "      <td>2022</td>\n",
       "      <td>11</td>\n",
       "      <td>168.00</td>\n",
       "      <td>55.000</td>\n",
       "      <td>Water</td>\n",
       "      <td>Giraffe</td>\n",
       "      <td>Superbad</td>\n",
       "      <td>Zora Neale Hurston</td>\n",
       "    </tr>\n",
       "    <tr>\n",
       "      <th>11</th>\n",
       "      <td>2021</td>\n",
       "      <td>5</td>\n",
       "      <td>171.00</td>\n",
       "      <td>60.000</td>\n",
       "      <td>Water</td>\n",
       "      <td>Wolf</td>\n",
       "      <td>Rogue One</td>\n",
       "      <td>Donna Tartt</td>\n",
       "    </tr>\n",
       "    <tr>\n",
       "      <th>12</th>\n",
       "      <td>2020</td>\n",
       "      <td>14</td>\n",
       "      <td>178.00</td>\n",
       "      <td>61.000</td>\n",
       "      <td>Water</td>\n",
       "      <td>Giraffe</td>\n",
       "      <td>The Shape of Water</td>\n",
       "      <td>Donna Tartt</td>\n",
       "    </tr>\n",
       "    <tr>\n",
       "      <th>13</th>\n",
       "      <td>2020</td>\n",
       "      <td>7</td>\n",
       "      <td>165.00</td>\n",
       "      <td>56.000</td>\n",
       "      <td>Water</td>\n",
       "      <td>Dog</td>\n",
       "      <td>The Sisterhood of the Traveling Pants</td>\n",
       "      <td>Celeste Ng</td>\n",
       "    </tr>\n",
       "    <tr>\n",
       "      <th>14</th>\n",
       "      <td>2021</td>\n",
       "      <td>3</td>\n",
       "      <td>181.00</td>\n",
       "      <td>79.000</td>\n",
       "      <td>Bubble Tea</td>\n",
       "      <td>French Bulldog</td>\n",
       "      <td>The Help</td>\n",
       "      <td>Ling Ma</td>\n",
       "    </tr>\n",
       "    <tr>\n",
       "      <th>15</th>\n",
       "      <td>2022</td>\n",
       "      <td>27</td>\n",
       "      <td>157.48</td>\n",
       "      <td>58.967</td>\n",
       "      <td>Tea</td>\n",
       "      <td>Tiger</td>\n",
       "      <td>The Godfather</td>\n",
       "      <td>Toni Morrison</td>\n",
       "    </tr>\n",
       "    <tr>\n",
       "      <th>16</th>\n",
       "      <td>2021</td>\n",
       "      <td>17</td>\n",
       "      <td>150.00</td>\n",
       "      <td>40.800</td>\n",
       "      <td>Water</td>\n",
       "      <td>Mouse</td>\n",
       "      <td>The Lizzie McGuire movie</td>\n",
       "      <td>J.K. Rowling</td>\n",
       "    </tr>\n",
       "  </tbody>\n",
       "</table>\n",
       "</div>"
      ],
      "text/plain": [
       "    Your class year:  Your favorite number:  Your height in centimeters:  \\\n",
       "0               2020                     16                       167.00   \n",
       "1               2020                     17                       152.00   \n",
       "2               2021                      3                       157.48   \n",
       "3               2021                      7                       160.00   \n",
       "4               2020                      3                       165.10   \n",
       "5               2022                     25                       159.00   \n",
       "6               2020                     68                       168.00   \n",
       "7               2020                     10                       175.00   \n",
       "8               2021                      7                       170.00   \n",
       "9               2021                     13                       163.00   \n",
       "10              2022                     11                       168.00   \n",
       "11              2021                      5                       171.00   \n",
       "12              2020                     14                       178.00   \n",
       "13              2020                      7                       165.00   \n",
       "14              2021                      3                       181.00   \n",
       "15              2022                     27                       157.48   \n",
       "16              2021                     17                       150.00   \n",
       "\n",
       "    Your weight in kilogram: Your favorite drink:  \\\n",
       "0                     59.000                  Tea   \n",
       "1                     66.000                Water   \n",
       "2                     53.070          Apple Cider   \n",
       "3                     61.000                 Milk   \n",
       "4                     70.000                 Boba   \n",
       "5                     45.000                  Tea   \n",
       "6                     52.000        Hot chocolate   \n",
       "7                     76.000                Water   \n",
       "8                     71.000                Water   \n",
       "9                     54.500               Coffee   \n",
       "10                    55.000                Water   \n",
       "11                    60.000                Water   \n",
       "12                    61.000                Water   \n",
       "13                    56.000                Water   \n",
       "14                    79.000           Bubble Tea   \n",
       "15                    58.967                  Tea   \n",
       "16                    40.800                Water   \n",
       "\n",
       "   What is your favorite animal?           What is your favorite movie?  \\\n",
       "0                          Otter                            The Arrival   \n",
       "1                            Cat                     North by Northwest   \n",
       "2                Whiptail Lizard                      Good Will Hunting   \n",
       "3                       Elephant                    Catch Me if You Can   \n",
       "4                            Cat                                  Mulan   \n",
       "5                          Bunny                                Tangled   \n",
       "6                        Octopus          Lord of the Rings: Two Towers   \n",
       "7                          Horse                                     Up   \n",
       "8                            Cat                             Ocean's 11   \n",
       "9                            Cat            10 things I hate about you    \n",
       "10                       Giraffe                               Superbad   \n",
       "11                          Wolf                              Rogue One   \n",
       "12                       Giraffe                     The Shape of Water   \n",
       "13                           Dog  The Sisterhood of the Traveling Pants   \n",
       "14                French Bulldog                               The Help   \n",
       "15                         Tiger                          The Godfather   \n",
       "16                         Mouse               The Lizzie McGuire movie   \n",
       "\n",
       "   Who is your favorite woman author?  \n",
       "0                     Margaret Atwood  \n",
       "1                       Tamora Pierce  \n",
       "2                      Virginia Woolf  \n",
       "3                         Donna Tartt  \n",
       "4                        J.K. Rowling  \n",
       "5                   Maggie Stiefvater  \n",
       "6                 Megan Whalen Turner  \n",
       "7                      Rebecca Skloot  \n",
       "8                     Agatha Christie  \n",
       "9                        J.K. Rowling  \n",
       "10                 Zora Neale Hurston  \n",
       "11                        Donna Tartt  \n",
       "12                        Donna Tartt  \n",
       "13                         Celeste Ng  \n",
       "14                            Ling Ma  \n",
       "15                      Toni Morrison  \n",
       "16                       J.K. Rowling  "
      ]
     },
     "execution_count": 14,
     "metadata": {},
     "output_type": "execute_result"
    }
   ],
   "source": [
    "dfStudents = pd.read_csv('survey-responses.csv')\n",
    "dfStudents"
   ]
  },
  {
   "cell_type": "markdown",
   "metadata": {},
   "source": [
    "<a id=\"sec5\"></a>\n",
    "## 5. Head and Tail\n",
    "\n",
    "You can use these two commands (`head`, `tail`) to print only a portion of the dataframe, this is usefuld when the dataframe has too many rows and you only want to look at a few."
   ]
  },
  {
   "cell_type": "code",
   "execution_count": 15,
   "metadata": {},
   "outputs": [
    {
     "data": {
      "text/html": [
       "<div>\n",
       "<style scoped>\n",
       "    .dataframe tbody tr th:only-of-type {\n",
       "        vertical-align: middle;\n",
       "    }\n",
       "\n",
       "    .dataframe tbody tr th {\n",
       "        vertical-align: top;\n",
       "    }\n",
       "\n",
       "    .dataframe thead th {\n",
       "        text-align: right;\n",
       "    }\n",
       "</style>\n",
       "<table border=\"1\" class=\"dataframe\">\n",
       "  <thead>\n",
       "    <tr style=\"text-align: right;\">\n",
       "      <th></th>\n",
       "      <th>Your class year:</th>\n",
       "      <th>Your favorite number:</th>\n",
       "      <th>Your height in centimeters:</th>\n",
       "      <th>Your weight in kilogram:</th>\n",
       "      <th>Your favorite drink:</th>\n",
       "      <th>What is your favorite animal?</th>\n",
       "      <th>What is your favorite movie?</th>\n",
       "      <th>Who is your favorite woman author?</th>\n",
       "    </tr>\n",
       "  </thead>\n",
       "  <tbody>\n",
       "    <tr>\n",
       "      <th>0</th>\n",
       "      <td>2020</td>\n",
       "      <td>16</td>\n",
       "      <td>167.00</td>\n",
       "      <td>59.00</td>\n",
       "      <td>Tea</td>\n",
       "      <td>Otter</td>\n",
       "      <td>The Arrival</td>\n",
       "      <td>Margaret Atwood</td>\n",
       "    </tr>\n",
       "    <tr>\n",
       "      <th>1</th>\n",
       "      <td>2020</td>\n",
       "      <td>17</td>\n",
       "      <td>152.00</td>\n",
       "      <td>66.00</td>\n",
       "      <td>Water</td>\n",
       "      <td>Cat</td>\n",
       "      <td>North by Northwest</td>\n",
       "      <td>Tamora Pierce</td>\n",
       "    </tr>\n",
       "    <tr>\n",
       "      <th>2</th>\n",
       "      <td>2021</td>\n",
       "      <td>3</td>\n",
       "      <td>157.48</td>\n",
       "      <td>53.07</td>\n",
       "      <td>Apple Cider</td>\n",
       "      <td>Whiptail Lizard</td>\n",
       "      <td>Good Will Hunting</td>\n",
       "      <td>Virginia Woolf</td>\n",
       "    </tr>\n",
       "    <tr>\n",
       "      <th>3</th>\n",
       "      <td>2021</td>\n",
       "      <td>7</td>\n",
       "      <td>160.00</td>\n",
       "      <td>61.00</td>\n",
       "      <td>Milk</td>\n",
       "      <td>Elephant</td>\n",
       "      <td>Catch Me if You Can</td>\n",
       "      <td>Donna Tartt</td>\n",
       "    </tr>\n",
       "    <tr>\n",
       "      <th>4</th>\n",
       "      <td>2020</td>\n",
       "      <td>3</td>\n",
       "      <td>165.10</td>\n",
       "      <td>70.00</td>\n",
       "      <td>Boba</td>\n",
       "      <td>Cat</td>\n",
       "      <td>Mulan</td>\n",
       "      <td>J.K. Rowling</td>\n",
       "    </tr>\n",
       "  </tbody>\n",
       "</table>\n",
       "</div>"
      ],
      "text/plain": [
       "   Your class year:  Your favorite number:  Your height in centimeters:  \\\n",
       "0              2020                     16                       167.00   \n",
       "1              2020                     17                       152.00   \n",
       "2              2021                      3                       157.48   \n",
       "3              2021                      7                       160.00   \n",
       "4              2020                      3                       165.10   \n",
       "\n",
       "   Your weight in kilogram: Your favorite drink:  \\\n",
       "0                     59.00                  Tea   \n",
       "1                     66.00                Water   \n",
       "2                     53.07          Apple Cider   \n",
       "3                     61.00                 Milk   \n",
       "4                     70.00                 Boba   \n",
       "\n",
       "  What is your favorite animal? What is your favorite movie?  \\\n",
       "0                         Otter                  The Arrival   \n",
       "1                           Cat           North by Northwest   \n",
       "2               Whiptail Lizard            Good Will Hunting   \n",
       "3                      Elephant          Catch Me if You Can   \n",
       "4                           Cat                        Mulan   \n",
       "\n",
       "  Who is your favorite woman author?  \n",
       "0                    Margaret Atwood  \n",
       "1                      Tamora Pierce  \n",
       "2                     Virginia Woolf  \n",
       "3                        Donna Tartt  \n",
       "4                       J.K. Rowling  "
      ]
     },
     "execution_count": 15,
     "metadata": {},
     "output_type": "execute_result"
    }
   ],
   "source": [
    "dfStudents.head()"
   ]
  },
  {
   "cell_type": "markdown",
   "metadata": {},
   "source": [
    "By default, the first (or last) five rows will be printed. But, we can control the number of printed rows:"
   ]
  },
  {
   "cell_type": "code",
   "execution_count": 16,
   "metadata": {},
   "outputs": [
    {
     "data": {
      "text/html": [
       "<div>\n",
       "<style scoped>\n",
       "    .dataframe tbody tr th:only-of-type {\n",
       "        vertical-align: middle;\n",
       "    }\n",
       "\n",
       "    .dataframe tbody tr th {\n",
       "        vertical-align: top;\n",
       "    }\n",
       "\n",
       "    .dataframe thead th {\n",
       "        text-align: right;\n",
       "    }\n",
       "</style>\n",
       "<table border=\"1\" class=\"dataframe\">\n",
       "  <thead>\n",
       "    <tr style=\"text-align: right;\">\n",
       "      <th></th>\n",
       "      <th>Your class year:</th>\n",
       "      <th>Your favorite number:</th>\n",
       "      <th>Your height in centimeters:</th>\n",
       "      <th>Your weight in kilogram:</th>\n",
       "      <th>Your favorite drink:</th>\n",
       "      <th>What is your favorite animal?</th>\n",
       "      <th>What is your favorite movie?</th>\n",
       "      <th>Who is your favorite woman author?</th>\n",
       "    </tr>\n",
       "  </thead>\n",
       "  <tbody>\n",
       "    <tr>\n",
       "      <th>14</th>\n",
       "      <td>2021</td>\n",
       "      <td>3</td>\n",
       "      <td>181.00</td>\n",
       "      <td>79.000</td>\n",
       "      <td>Bubble Tea</td>\n",
       "      <td>French Bulldog</td>\n",
       "      <td>The Help</td>\n",
       "      <td>Ling Ma</td>\n",
       "    </tr>\n",
       "    <tr>\n",
       "      <th>15</th>\n",
       "      <td>2022</td>\n",
       "      <td>27</td>\n",
       "      <td>157.48</td>\n",
       "      <td>58.967</td>\n",
       "      <td>Tea</td>\n",
       "      <td>Tiger</td>\n",
       "      <td>The Godfather</td>\n",
       "      <td>Toni Morrison</td>\n",
       "    </tr>\n",
       "    <tr>\n",
       "      <th>16</th>\n",
       "      <td>2021</td>\n",
       "      <td>17</td>\n",
       "      <td>150.00</td>\n",
       "      <td>40.800</td>\n",
       "      <td>Water</td>\n",
       "      <td>Mouse</td>\n",
       "      <td>The Lizzie McGuire movie</td>\n",
       "      <td>J.K. Rowling</td>\n",
       "    </tr>\n",
       "  </tbody>\n",
       "</table>\n",
       "</div>"
      ],
      "text/plain": [
       "    Your class year:  Your favorite number:  Your height in centimeters:  \\\n",
       "14              2021                      3                       181.00   \n",
       "15              2022                     27                       157.48   \n",
       "16              2021                     17                       150.00   \n",
       "\n",
       "    Your weight in kilogram: Your favorite drink:  \\\n",
       "14                    79.000           Bubble Tea   \n",
       "15                    58.967                  Tea   \n",
       "16                    40.800                Water   \n",
       "\n",
       "   What is your favorite animal? What is your favorite movie?  \\\n",
       "14                French Bulldog                     The Help   \n",
       "15                         Tiger                The Godfather   \n",
       "16                         Mouse     The Lizzie McGuire movie   \n",
       "\n",
       "   Who is your favorite woman author?  \n",
       "14                            Ling Ma  \n",
       "15                      Toni Morrison  \n",
       "16                       J.K. Rowling  "
      ]
     },
     "execution_count": 16,
     "metadata": {},
     "output_type": "execute_result"
    }
   ],
   "source": [
    "dfStudents.tail(3)"
   ]
  },
  {
   "cell_type": "markdown",
   "metadata": {},
   "source": [
    "<a id=\"sec6\"></a>\n",
    "## 6. Attached attributes\n",
    "\n",
    "The attributes `dtypes`, `index` and `columns` can be accessed individually to learn more about the dataframe:"
   ]
  },
  {
   "cell_type": "code",
   "execution_count": 17,
   "metadata": {},
   "outputs": [
    {
     "data": {
      "text/plain": [
       "Your class year:                        int64\n",
       "Your favorite number:                   int64\n",
       "Your height in centimeters:           float64\n",
       "Your weight in kilogram:              float64\n",
       "Your favorite drink:                   object\n",
       "What is your favorite animal?          object\n",
       "What is your favorite movie?           object\n",
       "Who is your favorite woman author?     object\n",
       "dtype: object"
      ]
     },
     "execution_count": 17,
     "metadata": {},
     "output_type": "execute_result"
    }
   ],
   "source": [
    "dfStudents.dtypes # describes the datatype for each column\n",
    "# this is helpful to know what operations you can apply on each column"
   ]
  },
  {
   "cell_type": "code",
   "execution_count": 18,
   "metadata": {},
   "outputs": [
    {
     "data": {
      "text/plain": [
       "RangeIndex(start=0, stop=17, step=1)"
      ]
     },
     "execution_count": 18,
     "metadata": {},
     "output_type": "execute_result"
    }
   ],
   "source": [
    "dfStudents.index # often, this shows the automatic indices assigned to the dataframe"
   ]
  },
  {
   "cell_type": "code",
   "execution_count": 19,
   "metadata": {},
   "outputs": [
    {
     "data": {
      "text/plain": [
       "Index(['A', 'B', 'C', 'D', 'E', 'F', 'G', 'H', 'I', 'J'], dtype='object')"
      ]
     },
     "execution_count": 19,
     "metadata": {},
     "output_type": "execute_result"
    }
   ],
   "source": [
    "df4.index # this is for the dataframe we created with our own indices"
   ]
  },
  {
   "cell_type": "code",
   "execution_count": 20,
   "metadata": {},
   "outputs": [
    {
     "data": {
      "text/plain": [
       "Index(['Your class year:', 'Your favorite number:',\n",
       "       'Your height in centimeters:', 'Your weight in kilogram:',\n",
       "       'Your favorite drink:', 'What is your favorite animal?',\n",
       "       'What is your favorite movie?', 'Who is your favorite woman author?'],\n",
       "      dtype='object')"
      ]
     },
     "execution_count": 20,
     "metadata": {},
     "output_type": "execute_result"
    }
   ],
   "source": [
    "dfStudents.columns"
   ]
  },
  {
   "cell_type": "markdown",
   "metadata": {},
   "source": [
    "<a id=\"sec7\"></a>\n",
    "## 7. The `describe` method\n",
    "\n",
    "This method provides descriptive statistics for every quantitative variable of the dataframe. It's the best way to explore the dataset in one step. Generating descriptive statistics is one of the first steps in data exploration."
   ]
  },
  {
   "cell_type": "code",
   "execution_count": 21,
   "metadata": {},
   "outputs": [
    {
     "data": {
      "text/html": [
       "<div>\n",
       "<style scoped>\n",
       "    .dataframe tbody tr th:only-of-type {\n",
       "        vertical-align: middle;\n",
       "    }\n",
       "\n",
       "    .dataframe tbody tr th {\n",
       "        vertical-align: top;\n",
       "    }\n",
       "\n",
       "    .dataframe thead th {\n",
       "        text-align: right;\n",
       "    }\n",
       "</style>\n",
       "<table border=\"1\" class=\"dataframe\">\n",
       "  <thead>\n",
       "    <tr style=\"text-align: right;\">\n",
       "      <th></th>\n",
       "      <th>Your class year:</th>\n",
       "      <th>Your favorite number:</th>\n",
       "      <th>Your height in centimeters:</th>\n",
       "      <th>Your weight in kilogram:</th>\n",
       "    </tr>\n",
       "  </thead>\n",
       "  <tbody>\n",
       "    <tr>\n",
       "      <th>count</th>\n",
       "      <td>17.000000</td>\n",
       "      <td>17.000000</td>\n",
       "      <td>17.000000</td>\n",
       "      <td>17.000000</td>\n",
       "    </tr>\n",
       "    <tr>\n",
       "      <th>mean</th>\n",
       "      <td>2020.764706</td>\n",
       "      <td>14.882353</td>\n",
       "      <td>165.121176</td>\n",
       "      <td>59.902176</td>\n",
       "    </tr>\n",
       "    <tr>\n",
       "      <th>std</th>\n",
       "      <td>0.752447</td>\n",
       "      <td>15.475312</td>\n",
       "      <td>8.587277</td>\n",
       "      <td>10.169868</td>\n",
       "    </tr>\n",
       "    <tr>\n",
       "      <th>min</th>\n",
       "      <td>2020.000000</td>\n",
       "      <td>3.000000</td>\n",
       "      <td>150.000000</td>\n",
       "      <td>40.800000</td>\n",
       "    </tr>\n",
       "    <tr>\n",
       "      <th>25%</th>\n",
       "      <td>2020.000000</td>\n",
       "      <td>7.000000</td>\n",
       "      <td>159.000000</td>\n",
       "      <td>54.500000</td>\n",
       "    </tr>\n",
       "    <tr>\n",
       "      <th>50%</th>\n",
       "      <td>2021.000000</td>\n",
       "      <td>11.000000</td>\n",
       "      <td>165.100000</td>\n",
       "      <td>59.000000</td>\n",
       "    </tr>\n",
       "    <tr>\n",
       "      <th>75%</th>\n",
       "      <td>2021.000000</td>\n",
       "      <td>17.000000</td>\n",
       "      <td>170.000000</td>\n",
       "      <td>66.000000</td>\n",
       "    </tr>\n",
       "    <tr>\n",
       "      <th>max</th>\n",
       "      <td>2022.000000</td>\n",
       "      <td>68.000000</td>\n",
       "      <td>181.000000</td>\n",
       "      <td>79.000000</td>\n",
       "    </tr>\n",
       "  </tbody>\n",
       "</table>\n",
       "</div>"
      ],
      "text/plain": [
       "       Your class year:  Your favorite number:  Your height in centimeters:  \\\n",
       "count         17.000000              17.000000                    17.000000   \n",
       "mean        2020.764706              14.882353                   165.121176   \n",
       "std            0.752447              15.475312                     8.587277   \n",
       "min         2020.000000               3.000000                   150.000000   \n",
       "25%         2020.000000               7.000000                   159.000000   \n",
       "50%         2021.000000              11.000000                   165.100000   \n",
       "75%         2021.000000              17.000000                   170.000000   \n",
       "max         2022.000000              68.000000                   181.000000   \n",
       "\n",
       "       Your weight in kilogram:  \n",
       "count                 17.000000  \n",
       "mean                  59.902176  \n",
       "std                   10.169868  \n",
       "min                   40.800000  \n",
       "25%                   54.500000  \n",
       "50%                   59.000000  \n",
       "75%                   66.000000  \n",
       "max                   79.000000  "
      ]
     },
     "execution_count": 21,
     "metadata": {},
     "output_type": "execute_result"
    }
   ],
   "source": [
    "dfStudents.describe()"
   ]
  },
  {
   "cell_type": "markdown",
   "metadata": {},
   "source": [
    "When applied on the dataframe, the method calculates the descriptive statistics for every variable that is quantitative (in the case above, 4 variables)."
   ]
  },
  {
   "cell_type": "markdown",
   "metadata": {},
   "source": [
    "One can use the method for qualitative variables as well, but the returned descriptive statistics are different. See an example below:"
   ]
  },
  {
   "cell_type": "code",
   "execution_count": 22,
   "metadata": {},
   "outputs": [
    {
     "data": {
      "text/plain": [
       "count        17\n",
       "unique        8\n",
       "top       Water\n",
       "freq          8\n",
       "Name: Your favorite drink:, dtype: object"
      ]
     },
     "execution_count": 22,
     "metadata": {},
     "output_type": "execute_result"
    }
   ],
   "source": [
    "dfStudents['Your favorite drink:'].describe()"
   ]
  },
  {
   "cell_type": "markdown",
   "metadata": {},
   "source": [
    "<a id=\"sec8\"></a>\n",
    "## 8. Rename columns in a dataframe\n",
    "\n",
    "The column names of a survey are long strings, and hard to distinguish. It is better to have some short names, which then are easy to use when we want to refer to columns in our code. To change the names, we can create a dict of pairs mapping old names to new ones and then using the `rename` method by passing the dict as a parameter."
   ]
  },
  {
   "cell_type": "code",
   "execution_count": 23,
   "metadata": {},
   "outputs": [
    {
     "data": {
      "text/html": [
       "<div>\n",
       "<style scoped>\n",
       "    .dataframe tbody tr th:only-of-type {\n",
       "        vertical-align: middle;\n",
       "    }\n",
       "\n",
       "    .dataframe tbody tr th {\n",
       "        vertical-align: top;\n",
       "    }\n",
       "\n",
       "    .dataframe thead th {\n",
       "        text-align: right;\n",
       "    }\n",
       "</style>\n",
       "<table border=\"1\" class=\"dataframe\">\n",
       "  <thead>\n",
       "    <tr style=\"text-align: right;\">\n",
       "      <th></th>\n",
       "      <th>classyear</th>\n",
       "      <th>fav_num</th>\n",
       "      <th>height</th>\n",
       "      <th>weight</th>\n",
       "      <th>fav_drink</th>\n",
       "      <th>fav_animal</th>\n",
       "      <th>fav_movie</th>\n",
       "      <th>fav_author</th>\n",
       "    </tr>\n",
       "  </thead>\n",
       "  <tbody>\n",
       "    <tr>\n",
       "      <th>0</th>\n",
       "      <td>2020</td>\n",
       "      <td>16</td>\n",
       "      <td>167.00</td>\n",
       "      <td>59.000</td>\n",
       "      <td>Tea</td>\n",
       "      <td>Otter</td>\n",
       "      <td>The Arrival</td>\n",
       "      <td>Margaret Atwood</td>\n",
       "    </tr>\n",
       "    <tr>\n",
       "      <th>1</th>\n",
       "      <td>2020</td>\n",
       "      <td>17</td>\n",
       "      <td>152.00</td>\n",
       "      <td>66.000</td>\n",
       "      <td>Water</td>\n",
       "      <td>Cat</td>\n",
       "      <td>North by Northwest</td>\n",
       "      <td>Tamora Pierce</td>\n",
       "    </tr>\n",
       "    <tr>\n",
       "      <th>2</th>\n",
       "      <td>2021</td>\n",
       "      <td>3</td>\n",
       "      <td>157.48</td>\n",
       "      <td>53.070</td>\n",
       "      <td>Apple Cider</td>\n",
       "      <td>Whiptail Lizard</td>\n",
       "      <td>Good Will Hunting</td>\n",
       "      <td>Virginia Woolf</td>\n",
       "    </tr>\n",
       "    <tr>\n",
       "      <th>3</th>\n",
       "      <td>2021</td>\n",
       "      <td>7</td>\n",
       "      <td>160.00</td>\n",
       "      <td>61.000</td>\n",
       "      <td>Milk</td>\n",
       "      <td>Elephant</td>\n",
       "      <td>Catch Me if You Can</td>\n",
       "      <td>Donna Tartt</td>\n",
       "    </tr>\n",
       "    <tr>\n",
       "      <th>4</th>\n",
       "      <td>2020</td>\n",
       "      <td>3</td>\n",
       "      <td>165.10</td>\n",
       "      <td>70.000</td>\n",
       "      <td>Boba</td>\n",
       "      <td>Cat</td>\n",
       "      <td>Mulan</td>\n",
       "      <td>J.K. Rowling</td>\n",
       "    </tr>\n",
       "    <tr>\n",
       "      <th>5</th>\n",
       "      <td>2022</td>\n",
       "      <td>25</td>\n",
       "      <td>159.00</td>\n",
       "      <td>45.000</td>\n",
       "      <td>Tea</td>\n",
       "      <td>Bunny</td>\n",
       "      <td>Tangled</td>\n",
       "      <td>Maggie Stiefvater</td>\n",
       "    </tr>\n",
       "    <tr>\n",
       "      <th>6</th>\n",
       "      <td>2020</td>\n",
       "      <td>68</td>\n",
       "      <td>168.00</td>\n",
       "      <td>52.000</td>\n",
       "      <td>Hot chocolate</td>\n",
       "      <td>Octopus</td>\n",
       "      <td>Lord of the Rings: Two Towers</td>\n",
       "      <td>Megan Whalen Turner</td>\n",
       "    </tr>\n",
       "    <tr>\n",
       "      <th>7</th>\n",
       "      <td>2020</td>\n",
       "      <td>10</td>\n",
       "      <td>175.00</td>\n",
       "      <td>76.000</td>\n",
       "      <td>Water</td>\n",
       "      <td>Horse</td>\n",
       "      <td>Up</td>\n",
       "      <td>Rebecca Skloot</td>\n",
       "    </tr>\n",
       "    <tr>\n",
       "      <th>8</th>\n",
       "      <td>2021</td>\n",
       "      <td>7</td>\n",
       "      <td>170.00</td>\n",
       "      <td>71.000</td>\n",
       "      <td>Water</td>\n",
       "      <td>Cat</td>\n",
       "      <td>Ocean's 11</td>\n",
       "      <td>Agatha Christie</td>\n",
       "    </tr>\n",
       "    <tr>\n",
       "      <th>9</th>\n",
       "      <td>2021</td>\n",
       "      <td>13</td>\n",
       "      <td>163.00</td>\n",
       "      <td>54.500</td>\n",
       "      <td>Coffee</td>\n",
       "      <td>Cat</td>\n",
       "      <td>10 things I hate about you</td>\n",
       "      <td>J.K. Rowling</td>\n",
       "    </tr>\n",
       "    <tr>\n",
       "      <th>10</th>\n",
       "      <td>2022</td>\n",
       "      <td>11</td>\n",
       "      <td>168.00</td>\n",
       "      <td>55.000</td>\n",
       "      <td>Water</td>\n",
       "      <td>Giraffe</td>\n",
       "      <td>Superbad</td>\n",
       "      <td>Zora Neale Hurston</td>\n",
       "    </tr>\n",
       "    <tr>\n",
       "      <th>11</th>\n",
       "      <td>2021</td>\n",
       "      <td>5</td>\n",
       "      <td>171.00</td>\n",
       "      <td>60.000</td>\n",
       "      <td>Water</td>\n",
       "      <td>Wolf</td>\n",
       "      <td>Rogue One</td>\n",
       "      <td>Donna Tartt</td>\n",
       "    </tr>\n",
       "    <tr>\n",
       "      <th>12</th>\n",
       "      <td>2020</td>\n",
       "      <td>14</td>\n",
       "      <td>178.00</td>\n",
       "      <td>61.000</td>\n",
       "      <td>Water</td>\n",
       "      <td>Giraffe</td>\n",
       "      <td>The Shape of Water</td>\n",
       "      <td>Donna Tartt</td>\n",
       "    </tr>\n",
       "    <tr>\n",
       "      <th>13</th>\n",
       "      <td>2020</td>\n",
       "      <td>7</td>\n",
       "      <td>165.00</td>\n",
       "      <td>56.000</td>\n",
       "      <td>Water</td>\n",
       "      <td>Dog</td>\n",
       "      <td>The Sisterhood of the Traveling Pants</td>\n",
       "      <td>Celeste Ng</td>\n",
       "    </tr>\n",
       "    <tr>\n",
       "      <th>14</th>\n",
       "      <td>2021</td>\n",
       "      <td>3</td>\n",
       "      <td>181.00</td>\n",
       "      <td>79.000</td>\n",
       "      <td>Bubble Tea</td>\n",
       "      <td>French Bulldog</td>\n",
       "      <td>The Help</td>\n",
       "      <td>Ling Ma</td>\n",
       "    </tr>\n",
       "    <tr>\n",
       "      <th>15</th>\n",
       "      <td>2022</td>\n",
       "      <td>27</td>\n",
       "      <td>157.48</td>\n",
       "      <td>58.967</td>\n",
       "      <td>Tea</td>\n",
       "      <td>Tiger</td>\n",
       "      <td>The Godfather</td>\n",
       "      <td>Toni Morrison</td>\n",
       "    </tr>\n",
       "    <tr>\n",
       "      <th>16</th>\n",
       "      <td>2021</td>\n",
       "      <td>17</td>\n",
       "      <td>150.00</td>\n",
       "      <td>40.800</td>\n",
       "      <td>Water</td>\n",
       "      <td>Mouse</td>\n",
       "      <td>The Lizzie McGuire movie</td>\n",
       "      <td>J.K. Rowling</td>\n",
       "    </tr>\n",
       "  </tbody>\n",
       "</table>\n",
       "</div>"
      ],
      "text/plain": [
       "    classyear  fav_num  height  weight      fav_drink       fav_animal  \\\n",
       "0        2020       16  167.00  59.000            Tea            Otter   \n",
       "1        2020       17  152.00  66.000          Water              Cat   \n",
       "2        2021        3  157.48  53.070    Apple Cider  Whiptail Lizard   \n",
       "3        2021        7  160.00  61.000           Milk         Elephant   \n",
       "4        2020        3  165.10  70.000           Boba              Cat   \n",
       "5        2022       25  159.00  45.000            Tea            Bunny   \n",
       "6        2020       68  168.00  52.000  Hot chocolate          Octopus   \n",
       "7        2020       10  175.00  76.000          Water            Horse   \n",
       "8        2021        7  170.00  71.000          Water              Cat   \n",
       "9        2021       13  163.00  54.500         Coffee              Cat   \n",
       "10       2022       11  168.00  55.000          Water          Giraffe   \n",
       "11       2021        5  171.00  60.000          Water             Wolf   \n",
       "12       2020       14  178.00  61.000          Water          Giraffe   \n",
       "13       2020        7  165.00  56.000          Water              Dog   \n",
       "14       2021        3  181.00  79.000     Bubble Tea   French Bulldog   \n",
       "15       2022       27  157.48  58.967            Tea            Tiger   \n",
       "16       2021       17  150.00  40.800          Water            Mouse   \n",
       "\n",
       "                                fav_movie           fav_author  \n",
       "0                             The Arrival      Margaret Atwood  \n",
       "1                      North by Northwest        Tamora Pierce  \n",
       "2                       Good Will Hunting       Virginia Woolf  \n",
       "3                     Catch Me if You Can          Donna Tartt  \n",
       "4                                   Mulan         J.K. Rowling  \n",
       "5                                 Tangled    Maggie Stiefvater  \n",
       "6           Lord of the Rings: Two Towers  Megan Whalen Turner  \n",
       "7                                      Up       Rebecca Skloot  \n",
       "8                              Ocean's 11      Agatha Christie  \n",
       "9             10 things I hate about you          J.K. Rowling  \n",
       "10                               Superbad   Zora Neale Hurston  \n",
       "11                              Rogue One          Donna Tartt  \n",
       "12                     The Shape of Water          Donna Tartt  \n",
       "13  The Sisterhood of the Traveling Pants           Celeste Ng  \n",
       "14                               The Help              Ling Ma  \n",
       "15                          The Godfather        Toni Morrison  \n",
       "16               The Lizzie McGuire movie         J.K. Rowling  "
      ]
     },
     "execution_count": 23,
     "metadata": {},
     "output_type": "execute_result"
    }
   ],
   "source": [
    "names = {'Your class year:': 'classyear', \n",
    "         'Your favorite number:': 'fav_num',\n",
    "         'Your height in centimeters:': 'height', \n",
    "         'Your weight in kilogram:': 'weight',\n",
    "         'Your favorite drink:': 'fav_drink', \n",
    "         'What is your favorite animal?': 'fav_animal',\n",
    "         'What is your favorite movie?': 'fav_movie', \n",
    "         'Who is your favorite woman author?': 'fav_author'}\n",
    "\n",
    "dfStudents.rename(columns=names)"
   ]
  },
  {
   "cell_type": "markdown",
   "metadata": {},
   "source": [
    "We can see that the column names have changed, but is that change permanent? We can print the dataframe again:"
   ]
  },
  {
   "cell_type": "code",
   "execution_count": null,
   "metadata": {},
   "outputs": [],
   "source": [
    "dfStudents.head()"
   ]
  },
  {
   "cell_type": "markdown",
   "metadata": {},
   "source": [
    "**What is going on, why do we still have the old names?**\n",
    "\n",
    "When we invoke a method on a dataframe object, a new object is created and the old one is preserved unchanged. We have two options at this point:\n",
    "\n",
    "- use a new variable to store the result of a method\n",
    "- change the original object\n",
    "\n",
    "Most dataframe objects have a boolean parameter `inplace`, which controls whether the manipulation should happen to the current object or not. We can verify that with the help command:"
   ]
  },
  {
   "cell_type": "code",
   "execution_count": null,
   "metadata": {},
   "outputs": [],
   "source": [
    "help(dfStudents.rename)"
   ]
  },
  {
   "cell_type": "markdown",
   "metadata": {},
   "source": [
    "Now we can try it out, we will use `inplace` instead of creating a new dataframe object. Calling `head` let's us verify that the change happened."
   ]
  },
  {
   "cell_type": "code",
   "execution_count": 25,
   "metadata": {},
   "outputs": [
    {
     "data": {
      "text/html": [
       "<div>\n",
       "<style scoped>\n",
       "    .dataframe tbody tr th:only-of-type {\n",
       "        vertical-align: middle;\n",
       "    }\n",
       "\n",
       "    .dataframe tbody tr th {\n",
       "        vertical-align: top;\n",
       "    }\n",
       "\n",
       "    .dataframe thead th {\n",
       "        text-align: right;\n",
       "    }\n",
       "</style>\n",
       "<table border=\"1\" class=\"dataframe\">\n",
       "  <thead>\n",
       "    <tr style=\"text-align: right;\">\n",
       "      <th></th>\n",
       "      <th>classyear</th>\n",
       "      <th>fav_num</th>\n",
       "      <th>height</th>\n",
       "      <th>weight</th>\n",
       "      <th>fav_drink</th>\n",
       "      <th>fav_animal</th>\n",
       "      <th>fav_movie</th>\n",
       "      <th>fav_author</th>\n",
       "    </tr>\n",
       "  </thead>\n",
       "  <tbody>\n",
       "    <tr>\n",
       "      <th>0</th>\n",
       "      <td>2020</td>\n",
       "      <td>16</td>\n",
       "      <td>167.00</td>\n",
       "      <td>59.00</td>\n",
       "      <td>Tea</td>\n",
       "      <td>Otter</td>\n",
       "      <td>The Arrival</td>\n",
       "      <td>Margaret Atwood</td>\n",
       "    </tr>\n",
       "    <tr>\n",
       "      <th>1</th>\n",
       "      <td>2020</td>\n",
       "      <td>17</td>\n",
       "      <td>152.00</td>\n",
       "      <td>66.00</td>\n",
       "      <td>Water</td>\n",
       "      <td>Cat</td>\n",
       "      <td>North by Northwest</td>\n",
       "      <td>Tamora Pierce</td>\n",
       "    </tr>\n",
       "    <tr>\n",
       "      <th>2</th>\n",
       "      <td>2021</td>\n",
       "      <td>3</td>\n",
       "      <td>157.48</td>\n",
       "      <td>53.07</td>\n",
       "      <td>Apple Cider</td>\n",
       "      <td>Whiptail Lizard</td>\n",
       "      <td>Good Will Hunting</td>\n",
       "      <td>Virginia Woolf</td>\n",
       "    </tr>\n",
       "    <tr>\n",
       "      <th>3</th>\n",
       "      <td>2021</td>\n",
       "      <td>7</td>\n",
       "      <td>160.00</td>\n",
       "      <td>61.00</td>\n",
       "      <td>Milk</td>\n",
       "      <td>Elephant</td>\n",
       "      <td>Catch Me if You Can</td>\n",
       "      <td>Donna Tartt</td>\n",
       "    </tr>\n",
       "    <tr>\n",
       "      <th>4</th>\n",
       "      <td>2020</td>\n",
       "      <td>3</td>\n",
       "      <td>165.10</td>\n",
       "      <td>70.00</td>\n",
       "      <td>Boba</td>\n",
       "      <td>Cat</td>\n",
       "      <td>Mulan</td>\n",
       "      <td>J.K. Rowling</td>\n",
       "    </tr>\n",
       "  </tbody>\n",
       "</table>\n",
       "</div>"
      ],
      "text/plain": [
       "   classyear  fav_num  height  weight    fav_drink       fav_animal  \\\n",
       "0       2020       16  167.00   59.00          Tea            Otter   \n",
       "1       2020       17  152.00   66.00        Water              Cat   \n",
       "2       2021        3  157.48   53.07  Apple Cider  Whiptail Lizard   \n",
       "3       2021        7  160.00   61.00         Milk         Elephant   \n",
       "4       2020        3  165.10   70.00         Boba              Cat   \n",
       "\n",
       "             fav_movie       fav_author  \n",
       "0          The Arrival  Margaret Atwood  \n",
       "1   North by Northwest    Tamora Pierce  \n",
       "2    Good Will Hunting   Virginia Woolf  \n",
       "3  Catch Me if You Can      Donna Tartt  \n",
       "4                Mulan     J.K. Rowling  "
      ]
     },
     "execution_count": 25,
     "metadata": {},
     "output_type": "execute_result"
    }
   ],
   "source": [
    "dfStudents.rename(columns=names, inplace=True)\n",
    "dfStudents.head()"
   ]
  },
  {
   "cell_type": "markdown",
   "metadata": {},
   "source": [
    "<a id=\"sec9\"></a>\n",
    "## 9. Sorting by one or more columns\n",
    "\n",
    "Let's look at the various columns and pick one to sort by:"
   ]
  },
  {
   "cell_type": "code",
   "execution_count": null,
   "metadata": {},
   "outputs": [],
   "source": [
    "dfStudents.head()"
   ]
  },
  {
   "cell_type": "markdown",
   "metadata": {},
   "source": [
    "Let's sort by **height**, by simply providing its name as a parameter to the `sort_values` method. Also, notice that we can chain multiple method calls, as shown below:"
   ]
  },
  {
   "cell_type": "code",
   "execution_count": 26,
   "metadata": {},
   "outputs": [
    {
     "data": {
      "text/html": [
       "<div>\n",
       "<style scoped>\n",
       "    .dataframe tbody tr th:only-of-type {\n",
       "        vertical-align: middle;\n",
       "    }\n",
       "\n",
       "    .dataframe tbody tr th {\n",
       "        vertical-align: top;\n",
       "    }\n",
       "\n",
       "    .dataframe thead th {\n",
       "        text-align: right;\n",
       "    }\n",
       "</style>\n",
       "<table border=\"1\" class=\"dataframe\">\n",
       "  <thead>\n",
       "    <tr style=\"text-align: right;\">\n",
       "      <th></th>\n",
       "      <th>classyear</th>\n",
       "      <th>fav_num</th>\n",
       "      <th>height</th>\n",
       "      <th>weight</th>\n",
       "      <th>fav_drink</th>\n",
       "      <th>fav_animal</th>\n",
       "      <th>fav_movie</th>\n",
       "      <th>fav_author</th>\n",
       "    </tr>\n",
       "  </thead>\n",
       "  <tbody>\n",
       "    <tr>\n",
       "      <th>16</th>\n",
       "      <td>2021</td>\n",
       "      <td>17</td>\n",
       "      <td>150.00</td>\n",
       "      <td>40.800</td>\n",
       "      <td>Water</td>\n",
       "      <td>Mouse</td>\n",
       "      <td>The Lizzie McGuire movie</td>\n",
       "      <td>J.K. Rowling</td>\n",
       "    </tr>\n",
       "    <tr>\n",
       "      <th>1</th>\n",
       "      <td>2020</td>\n",
       "      <td>17</td>\n",
       "      <td>152.00</td>\n",
       "      <td>66.000</td>\n",
       "      <td>Water</td>\n",
       "      <td>Cat</td>\n",
       "      <td>North by Northwest</td>\n",
       "      <td>Tamora Pierce</td>\n",
       "    </tr>\n",
       "    <tr>\n",
       "      <th>15</th>\n",
       "      <td>2022</td>\n",
       "      <td>27</td>\n",
       "      <td>157.48</td>\n",
       "      <td>58.967</td>\n",
       "      <td>Tea</td>\n",
       "      <td>Tiger</td>\n",
       "      <td>The Godfather</td>\n",
       "      <td>Toni Morrison</td>\n",
       "    </tr>\n",
       "    <tr>\n",
       "      <th>2</th>\n",
       "      <td>2021</td>\n",
       "      <td>3</td>\n",
       "      <td>157.48</td>\n",
       "      <td>53.070</td>\n",
       "      <td>Apple Cider</td>\n",
       "      <td>Whiptail Lizard</td>\n",
       "      <td>Good Will Hunting</td>\n",
       "      <td>Virginia Woolf</td>\n",
       "    </tr>\n",
       "    <tr>\n",
       "      <th>5</th>\n",
       "      <td>2022</td>\n",
       "      <td>25</td>\n",
       "      <td>159.00</td>\n",
       "      <td>45.000</td>\n",
       "      <td>Tea</td>\n",
       "      <td>Bunny</td>\n",
       "      <td>Tangled</td>\n",
       "      <td>Maggie Stiefvater</td>\n",
       "    </tr>\n",
       "  </tbody>\n",
       "</table>\n",
       "</div>"
      ],
      "text/plain": [
       "    classyear  fav_num  height  weight    fav_drink       fav_animal  \\\n",
       "16       2021       17  150.00  40.800        Water            Mouse   \n",
       "1        2020       17  152.00  66.000        Water              Cat   \n",
       "15       2022       27  157.48  58.967          Tea            Tiger   \n",
       "2        2021        3  157.48  53.070  Apple Cider  Whiptail Lizard   \n",
       "5        2022       25  159.00  45.000          Tea            Bunny   \n",
       "\n",
       "                   fav_movie         fav_author  \n",
       "16  The Lizzie McGuire movie       J.K. Rowling  \n",
       "1         North by Northwest      Tamora Pierce  \n",
       "15             The Godfather      Toni Morrison  \n",
       "2          Good Will Hunting     Virginia Woolf  \n",
       "5                    Tangled  Maggie Stiefvater  "
      ]
     },
     "execution_count": 26,
     "metadata": {},
     "output_type": "execute_result"
    }
   ],
   "source": [
    "dfStudents.sort_values(\"height\").head()"
   ]
  },
  {
   "cell_type": "markdown",
   "metadata": {},
   "source": [
    "Does `sort_values` change the current dataframe? We should check:"
   ]
  },
  {
   "cell_type": "code",
   "execution_count": 27,
   "metadata": {},
   "outputs": [
    {
     "data": {
      "text/html": [
       "<div>\n",
       "<style scoped>\n",
       "    .dataframe tbody tr th:only-of-type {\n",
       "        vertical-align: middle;\n",
       "    }\n",
       "\n",
       "    .dataframe tbody tr th {\n",
       "        vertical-align: top;\n",
       "    }\n",
       "\n",
       "    .dataframe thead th {\n",
       "        text-align: right;\n",
       "    }\n",
       "</style>\n",
       "<table border=\"1\" class=\"dataframe\">\n",
       "  <thead>\n",
       "    <tr style=\"text-align: right;\">\n",
       "      <th></th>\n",
       "      <th>classyear</th>\n",
       "      <th>fav_num</th>\n",
       "      <th>height</th>\n",
       "      <th>weight</th>\n",
       "      <th>fav_drink</th>\n",
       "      <th>fav_animal</th>\n",
       "      <th>fav_movie</th>\n",
       "      <th>fav_author</th>\n",
       "    </tr>\n",
       "  </thead>\n",
       "  <tbody>\n",
       "    <tr>\n",
       "      <th>0</th>\n",
       "      <td>2020</td>\n",
       "      <td>16</td>\n",
       "      <td>167.00</td>\n",
       "      <td>59.00</td>\n",
       "      <td>Tea</td>\n",
       "      <td>Otter</td>\n",
       "      <td>The Arrival</td>\n",
       "      <td>Margaret Atwood</td>\n",
       "    </tr>\n",
       "    <tr>\n",
       "      <th>1</th>\n",
       "      <td>2020</td>\n",
       "      <td>17</td>\n",
       "      <td>152.00</td>\n",
       "      <td>66.00</td>\n",
       "      <td>Water</td>\n",
       "      <td>Cat</td>\n",
       "      <td>North by Northwest</td>\n",
       "      <td>Tamora Pierce</td>\n",
       "    </tr>\n",
       "    <tr>\n",
       "      <th>2</th>\n",
       "      <td>2021</td>\n",
       "      <td>3</td>\n",
       "      <td>157.48</td>\n",
       "      <td>53.07</td>\n",
       "      <td>Apple Cider</td>\n",
       "      <td>Whiptail Lizard</td>\n",
       "      <td>Good Will Hunting</td>\n",
       "      <td>Virginia Woolf</td>\n",
       "    </tr>\n",
       "    <tr>\n",
       "      <th>3</th>\n",
       "      <td>2021</td>\n",
       "      <td>7</td>\n",
       "      <td>160.00</td>\n",
       "      <td>61.00</td>\n",
       "      <td>Milk</td>\n",
       "      <td>Elephant</td>\n",
       "      <td>Catch Me if You Can</td>\n",
       "      <td>Donna Tartt</td>\n",
       "    </tr>\n",
       "    <tr>\n",
       "      <th>4</th>\n",
       "      <td>2020</td>\n",
       "      <td>3</td>\n",
       "      <td>165.10</td>\n",
       "      <td>70.00</td>\n",
       "      <td>Boba</td>\n",
       "      <td>Cat</td>\n",
       "      <td>Mulan</td>\n",
       "      <td>J.K. Rowling</td>\n",
       "    </tr>\n",
       "  </tbody>\n",
       "</table>\n",
       "</div>"
      ],
      "text/plain": [
       "   classyear  fav_num  height  weight    fav_drink       fav_animal  \\\n",
       "0       2020       16  167.00   59.00          Tea            Otter   \n",
       "1       2020       17  152.00   66.00        Water              Cat   \n",
       "2       2021        3  157.48   53.07  Apple Cider  Whiptail Lizard   \n",
       "3       2021        7  160.00   61.00         Milk         Elephant   \n",
       "4       2020        3  165.10   70.00         Boba              Cat   \n",
       "\n",
       "             fav_movie       fav_author  \n",
       "0          The Arrival  Margaret Atwood  \n",
       "1   North by Northwest    Tamora Pierce  \n",
       "2    Good Will Hunting   Virginia Woolf  \n",
       "3  Catch Me if You Can      Donna Tartt  \n",
       "4                Mulan     J.K. Rowling  "
      ]
     },
     "execution_count": 27,
     "metadata": {},
     "output_type": "execute_result"
    }
   ],
   "source": [
    "dfStudents.head()"
   ]
  },
  {
   "cell_type": "markdown",
   "metadata": {},
   "source": [
    "It did not. Thus, yet another example that methods create a new dataframe object, and you have to make a choice of whether to store the result into a new variable, or use `inplace=True` to change the current object. \n",
    "\n",
    "Always use `help` to check what parameters a method provides."
   ]
  },
  {
   "cell_type": "code",
   "execution_count": null,
   "metadata": {},
   "outputs": [],
   "source": [
    "help(dfStudents.sort_values)"
   ]
  },
  {
   "cell_type": "markdown",
   "metadata": {},
   "source": [
    "Now that we have seen what is possible, we try out some of the parameters ourselves, for example, ascending, and multiple columns:"
   ]
  },
  {
   "cell_type": "code",
   "execution_count": 29,
   "metadata": {},
   "outputs": [
    {
     "data": {
      "text/html": [
       "<div>\n",
       "<style scoped>\n",
       "    .dataframe tbody tr th:only-of-type {\n",
       "        vertical-align: middle;\n",
       "    }\n",
       "\n",
       "    .dataframe tbody tr th {\n",
       "        vertical-align: top;\n",
       "    }\n",
       "\n",
       "    .dataframe thead th {\n",
       "        text-align: right;\n",
       "    }\n",
       "</style>\n",
       "<table border=\"1\" class=\"dataframe\">\n",
       "  <thead>\n",
       "    <tr style=\"text-align: right;\">\n",
       "      <th></th>\n",
       "      <th>classyear</th>\n",
       "      <th>fav_num</th>\n",
       "      <th>height</th>\n",
       "      <th>weight</th>\n",
       "      <th>fav_drink</th>\n",
       "      <th>fav_animal</th>\n",
       "      <th>fav_movie</th>\n",
       "      <th>fav_author</th>\n",
       "    </tr>\n",
       "  </thead>\n",
       "  <tbody>\n",
       "    <tr>\n",
       "      <th>6</th>\n",
       "      <td>2020</td>\n",
       "      <td>68</td>\n",
       "      <td>168.00</td>\n",
       "      <td>52.000</td>\n",
       "      <td>Hot chocolate</td>\n",
       "      <td>Octopus</td>\n",
       "      <td>Lord of the Rings: Two Towers</td>\n",
       "      <td>Megan Whalen Turner</td>\n",
       "    </tr>\n",
       "    <tr>\n",
       "      <th>15</th>\n",
       "      <td>2022</td>\n",
       "      <td>27</td>\n",
       "      <td>157.48</td>\n",
       "      <td>58.967</td>\n",
       "      <td>Tea</td>\n",
       "      <td>Tiger</td>\n",
       "      <td>The Godfather</td>\n",
       "      <td>Toni Morrison</td>\n",
       "    </tr>\n",
       "    <tr>\n",
       "      <th>5</th>\n",
       "      <td>2022</td>\n",
       "      <td>25</td>\n",
       "      <td>159.00</td>\n",
       "      <td>45.000</td>\n",
       "      <td>Tea</td>\n",
       "      <td>Bunny</td>\n",
       "      <td>Tangled</td>\n",
       "      <td>Maggie Stiefvater</td>\n",
       "    </tr>\n",
       "    <tr>\n",
       "      <th>1</th>\n",
       "      <td>2020</td>\n",
       "      <td>17</td>\n",
       "      <td>152.00</td>\n",
       "      <td>66.000</td>\n",
       "      <td>Water</td>\n",
       "      <td>Cat</td>\n",
       "      <td>North by Northwest</td>\n",
       "      <td>Tamora Pierce</td>\n",
       "    </tr>\n",
       "    <tr>\n",
       "      <th>16</th>\n",
       "      <td>2021</td>\n",
       "      <td>17</td>\n",
       "      <td>150.00</td>\n",
       "      <td>40.800</td>\n",
       "      <td>Water</td>\n",
       "      <td>Mouse</td>\n",
       "      <td>The Lizzie McGuire movie</td>\n",
       "      <td>J.K. Rowling</td>\n",
       "    </tr>\n",
       "    <tr>\n",
       "      <th>0</th>\n",
       "      <td>2020</td>\n",
       "      <td>16</td>\n",
       "      <td>167.00</td>\n",
       "      <td>59.000</td>\n",
       "      <td>Tea</td>\n",
       "      <td>Otter</td>\n",
       "      <td>The Arrival</td>\n",
       "      <td>Margaret Atwood</td>\n",
       "    </tr>\n",
       "    <tr>\n",
       "      <th>12</th>\n",
       "      <td>2020</td>\n",
       "      <td>14</td>\n",
       "      <td>178.00</td>\n",
       "      <td>61.000</td>\n",
       "      <td>Water</td>\n",
       "      <td>Giraffe</td>\n",
       "      <td>The Shape of Water</td>\n",
       "      <td>Donna Tartt</td>\n",
       "    </tr>\n",
       "    <tr>\n",
       "      <th>9</th>\n",
       "      <td>2021</td>\n",
       "      <td>13</td>\n",
       "      <td>163.00</td>\n",
       "      <td>54.500</td>\n",
       "      <td>Coffee</td>\n",
       "      <td>Cat</td>\n",
       "      <td>10 things I hate about you</td>\n",
       "      <td>J.K. Rowling</td>\n",
       "    </tr>\n",
       "    <tr>\n",
       "      <th>10</th>\n",
       "      <td>2022</td>\n",
       "      <td>11</td>\n",
       "      <td>168.00</td>\n",
       "      <td>55.000</td>\n",
       "      <td>Water</td>\n",
       "      <td>Giraffe</td>\n",
       "      <td>Superbad</td>\n",
       "      <td>Zora Neale Hurston</td>\n",
       "    </tr>\n",
       "    <tr>\n",
       "      <th>7</th>\n",
       "      <td>2020</td>\n",
       "      <td>10</td>\n",
       "      <td>175.00</td>\n",
       "      <td>76.000</td>\n",
       "      <td>Water</td>\n",
       "      <td>Horse</td>\n",
       "      <td>Up</td>\n",
       "      <td>Rebecca Skloot</td>\n",
       "    </tr>\n",
       "    <tr>\n",
       "      <th>8</th>\n",
       "      <td>2021</td>\n",
       "      <td>7</td>\n",
       "      <td>170.00</td>\n",
       "      <td>71.000</td>\n",
       "      <td>Water</td>\n",
       "      <td>Cat</td>\n",
       "      <td>Ocean's 11</td>\n",
       "      <td>Agatha Christie</td>\n",
       "    </tr>\n",
       "    <tr>\n",
       "      <th>13</th>\n",
       "      <td>2020</td>\n",
       "      <td>7</td>\n",
       "      <td>165.00</td>\n",
       "      <td>56.000</td>\n",
       "      <td>Water</td>\n",
       "      <td>Dog</td>\n",
       "      <td>The Sisterhood of the Traveling Pants</td>\n",
       "      <td>Celeste Ng</td>\n",
       "    </tr>\n",
       "    <tr>\n",
       "      <th>3</th>\n",
       "      <td>2021</td>\n",
       "      <td>7</td>\n",
       "      <td>160.00</td>\n",
       "      <td>61.000</td>\n",
       "      <td>Milk</td>\n",
       "      <td>Elephant</td>\n",
       "      <td>Catch Me if You Can</td>\n",
       "      <td>Donna Tartt</td>\n",
       "    </tr>\n",
       "    <tr>\n",
       "      <th>11</th>\n",
       "      <td>2021</td>\n",
       "      <td>5</td>\n",
       "      <td>171.00</td>\n",
       "      <td>60.000</td>\n",
       "      <td>Water</td>\n",
       "      <td>Wolf</td>\n",
       "      <td>Rogue One</td>\n",
       "      <td>Donna Tartt</td>\n",
       "    </tr>\n",
       "    <tr>\n",
       "      <th>14</th>\n",
       "      <td>2021</td>\n",
       "      <td>3</td>\n",
       "      <td>181.00</td>\n",
       "      <td>79.000</td>\n",
       "      <td>Bubble Tea</td>\n",
       "      <td>French Bulldog</td>\n",
       "      <td>The Help</td>\n",
       "      <td>Ling Ma</td>\n",
       "    </tr>\n",
       "    <tr>\n",
       "      <th>4</th>\n",
       "      <td>2020</td>\n",
       "      <td>3</td>\n",
       "      <td>165.10</td>\n",
       "      <td>70.000</td>\n",
       "      <td>Boba</td>\n",
       "      <td>Cat</td>\n",
       "      <td>Mulan</td>\n",
       "      <td>J.K. Rowling</td>\n",
       "    </tr>\n",
       "    <tr>\n",
       "      <th>2</th>\n",
       "      <td>2021</td>\n",
       "      <td>3</td>\n",
       "      <td>157.48</td>\n",
       "      <td>53.070</td>\n",
       "      <td>Apple Cider</td>\n",
       "      <td>Whiptail Lizard</td>\n",
       "      <td>Good Will Hunting</td>\n",
       "      <td>Virginia Woolf</td>\n",
       "    </tr>\n",
       "  </tbody>\n",
       "</table>\n",
       "</div>"
      ],
      "text/plain": [
       "    classyear  fav_num  height  weight      fav_drink       fav_animal  \\\n",
       "6        2020       68  168.00  52.000  Hot chocolate          Octopus   \n",
       "15       2022       27  157.48  58.967            Tea            Tiger   \n",
       "5        2022       25  159.00  45.000            Tea            Bunny   \n",
       "1        2020       17  152.00  66.000          Water              Cat   \n",
       "16       2021       17  150.00  40.800          Water            Mouse   \n",
       "0        2020       16  167.00  59.000            Tea            Otter   \n",
       "12       2020       14  178.00  61.000          Water          Giraffe   \n",
       "9        2021       13  163.00  54.500         Coffee              Cat   \n",
       "10       2022       11  168.00  55.000          Water          Giraffe   \n",
       "7        2020       10  175.00  76.000          Water            Horse   \n",
       "8        2021        7  170.00  71.000          Water              Cat   \n",
       "13       2020        7  165.00  56.000          Water              Dog   \n",
       "3        2021        7  160.00  61.000           Milk         Elephant   \n",
       "11       2021        5  171.00  60.000          Water             Wolf   \n",
       "14       2021        3  181.00  79.000     Bubble Tea   French Bulldog   \n",
       "4        2020        3  165.10  70.000           Boba              Cat   \n",
       "2        2021        3  157.48  53.070    Apple Cider  Whiptail Lizard   \n",
       "\n",
       "                                fav_movie           fav_author  \n",
       "6           Lord of the Rings: Two Towers  Megan Whalen Turner  \n",
       "15                          The Godfather        Toni Morrison  \n",
       "5                                 Tangled    Maggie Stiefvater  \n",
       "1                      North by Northwest        Tamora Pierce  \n",
       "16               The Lizzie McGuire movie         J.K. Rowling  \n",
       "0                             The Arrival      Margaret Atwood  \n",
       "12                     The Shape of Water          Donna Tartt  \n",
       "9             10 things I hate about you          J.K. Rowling  \n",
       "10                               Superbad   Zora Neale Hurston  \n",
       "7                                      Up       Rebecca Skloot  \n",
       "8                              Ocean's 11      Agatha Christie  \n",
       "13  The Sisterhood of the Traveling Pants           Celeste Ng  \n",
       "3                     Catch Me if You Can          Donna Tartt  \n",
       "11                              Rogue One          Donna Tartt  \n",
       "14                               The Help              Ling Ma  \n",
       "4                                   Mulan         J.K. Rowling  \n",
       "2                       Good Will Hunting       Virginia Woolf  "
      ]
     },
     "execution_count": 29,
     "metadata": {},
     "output_type": "execute_result"
    }
   ],
   "source": [
    "dfStudents.sort_values(['fav_num', 'height'], ascending=False)"
   ]
  },
  {
   "cell_type": "markdown",
   "metadata": {},
   "source": [
    "**Sorting by rows**\n",
    "\n",
    "We most commonly will sort by columns, but in pandas it's possible to sort by a row too, this will change the order of the columns as a result. Let's try it out with df4, in which all values are numerical:"
   ]
  },
  {
   "cell_type": "code",
   "execution_count": null,
   "metadata": {},
   "outputs": [],
   "source": [
    "df4"
   ]
  },
  {
   "cell_type": "code",
   "execution_count": 30,
   "metadata": {},
   "outputs": [
    {
     "data": {
      "text/html": [
       "<div>\n",
       "<style scoped>\n",
       "    .dataframe tbody tr th:only-of-type {\n",
       "        vertical-align: middle;\n",
       "    }\n",
       "\n",
       "    .dataframe tbody tr th {\n",
       "        vertical-align: top;\n",
       "    }\n",
       "\n",
       "    .dataframe thead th {\n",
       "        text-align: right;\n",
       "    }\n",
       "</style>\n",
       "<table border=\"1\" class=\"dataframe\">\n",
       "  <thead>\n",
       "    <tr style=\"text-align: right;\">\n",
       "      <th></th>\n",
       "      <th>d</th>\n",
       "      <th>h</th>\n",
       "      <th>i</th>\n",
       "      <th>e</th>\n",
       "      <th>c</th>\n",
       "      <th>a</th>\n",
       "      <th>b</th>\n",
       "      <th>f</th>\n",
       "      <th>j</th>\n",
       "      <th>g</th>\n",
       "    </tr>\n",
       "  </thead>\n",
       "  <tbody>\n",
       "    <tr>\n",
       "      <th>A</th>\n",
       "      <td>9</td>\n",
       "      <td>16</td>\n",
       "      <td>20</td>\n",
       "      <td>34</td>\n",
       "      <td>42</td>\n",
       "      <td>76</td>\n",
       "      <td>77</td>\n",
       "      <td>79</td>\n",
       "      <td>94</td>\n",
       "      <td>98</td>\n",
       "    </tr>\n",
       "    <tr>\n",
       "      <th>B</th>\n",
       "      <td>41</td>\n",
       "      <td>67</td>\n",
       "      <td>33</td>\n",
       "      <td>68</td>\n",
       "      <td>34</td>\n",
       "      <td>61</td>\n",
       "      <td>37</td>\n",
       "      <td>73</td>\n",
       "      <td>49</td>\n",
       "      <td>40</td>\n",
       "    </tr>\n",
       "    <tr>\n",
       "      <th>C</th>\n",
       "      <td>70</td>\n",
       "      <td>76</td>\n",
       "      <td>67</td>\n",
       "      <td>2</td>\n",
       "      <td>69</td>\n",
       "      <td>64</td>\n",
       "      <td>5</td>\n",
       "      <td>33</td>\n",
       "      <td>10</td>\n",
       "      <td>66</td>\n",
       "    </tr>\n",
       "    <tr>\n",
       "      <th>D</th>\n",
       "      <td>92</td>\n",
       "      <td>53</td>\n",
       "      <td>64</td>\n",
       "      <td>15</td>\n",
       "      <td>27</td>\n",
       "      <td>33</td>\n",
       "      <td>72</td>\n",
       "      <td>2</td>\n",
       "      <td>83</td>\n",
       "      <td>40</td>\n",
       "    </tr>\n",
       "    <tr>\n",
       "      <th>E</th>\n",
       "      <td>61</td>\n",
       "      <td>24</td>\n",
       "      <td>16</td>\n",
       "      <td>21</td>\n",
       "      <td>74</td>\n",
       "      <td>56</td>\n",
       "      <td>8</td>\n",
       "      <td>82</td>\n",
       "      <td>21</td>\n",
       "      <td>97</td>\n",
       "    </tr>\n",
       "    <tr>\n",
       "      <th>F</th>\n",
       "      <td>42</td>\n",
       "      <td>71</td>\n",
       "      <td>59</td>\n",
       "      <td>98</td>\n",
       "      <td>97</td>\n",
       "      <td>72</td>\n",
       "      <td>57</td>\n",
       "      <td>19</td>\n",
       "      <td>87</td>\n",
       "      <td>46</td>\n",
       "    </tr>\n",
       "    <tr>\n",
       "      <th>G</th>\n",
       "      <td>17</td>\n",
       "      <td>58</td>\n",
       "      <td>23</td>\n",
       "      <td>54</td>\n",
       "      <td>58</td>\n",
       "      <td>42</td>\n",
       "      <td>66</td>\n",
       "      <td>63</td>\n",
       "      <td>98</td>\n",
       "      <td>35</td>\n",
       "    </tr>\n",
       "    <tr>\n",
       "      <th>H</th>\n",
       "      <td>34</td>\n",
       "      <td>23</td>\n",
       "      <td>31</td>\n",
       "      <td>43</td>\n",
       "      <td>75</td>\n",
       "      <td>39</td>\n",
       "      <td>93</td>\n",
       "      <td>97</td>\n",
       "      <td>96</td>\n",
       "      <td>81</td>\n",
       "    </tr>\n",
       "    <tr>\n",
       "      <th>I</th>\n",
       "      <td>44</td>\n",
       "      <td>15</td>\n",
       "      <td>90</td>\n",
       "      <td>64</td>\n",
       "      <td>6</td>\n",
       "      <td>48</td>\n",
       "      <td>49</td>\n",
       "      <td>7</td>\n",
       "      <td>56</td>\n",
       "      <td>95</td>\n",
       "    </tr>\n",
       "    <tr>\n",
       "      <th>J</th>\n",
       "      <td>18</td>\n",
       "      <td>5</td>\n",
       "      <td>97</td>\n",
       "      <td>61</td>\n",
       "      <td>83</td>\n",
       "      <td>75</td>\n",
       "      <td>90</td>\n",
       "      <td>40</td>\n",
       "      <td>29</td>\n",
       "      <td>87</td>\n",
       "    </tr>\n",
       "  </tbody>\n",
       "</table>\n",
       "</div>"
      ],
      "text/plain": [
       "    d   h   i   e   c   a   b   f   j   g\n",
       "A   9  16  20  34  42  76  77  79  94  98\n",
       "B  41  67  33  68  34  61  37  73  49  40\n",
       "C  70  76  67   2  69  64   5  33  10  66\n",
       "D  92  53  64  15  27  33  72   2  83  40\n",
       "E  61  24  16  21  74  56   8  82  21  97\n",
       "F  42  71  59  98  97  72  57  19  87  46\n",
       "G  17  58  23  54  58  42  66  63  98  35\n",
       "H  34  23  31  43  75  39  93  97  96  81\n",
       "I  44  15  90  64   6  48  49   7  56  95\n",
       "J  18   5  97  61  83  75  90  40  29  87"
      ]
     },
     "execution_count": 30,
     "metadata": {},
     "output_type": "execute_result"
    }
   ],
   "source": [
    "df4.sort_values('A', axis=1) # we need to set axis=1, in order to sort by row"
   ]
  },
  {
   "cell_type": "markdown",
   "metadata": {},
   "source": [
    "Notice that the values in row A are sorted from the smallest to the largest, and the column names are in different oroder."
   ]
  },
  {
   "cell_type": "markdown",
   "metadata": {},
   "source": [
    "<a id=\"sec10\"></a>\n",
    "## 10. Indexing and Slicing\n",
    "\n",
    "One of the most common operations that we might want to perform is slicing, which allows us to select only some desired values such as:\n",
    "- a single column\n",
    "- several columns\n",
    "- a single row\n",
    "- several rows\n",
    "- a subtable (a few rows and a few columns)\n",
    "- a single value"
   ]
  },
  {
   "cell_type": "markdown",
   "metadata": {},
   "source": [
    "Let's refer to a simpler dataframe to work with, for example, `df4`:"
   ]
  },
  {
   "cell_type": "code",
   "execution_count": null,
   "metadata": {},
   "outputs": [],
   "source": [
    "df4"
   ]
  },
  {
   "cell_type": "markdown",
   "metadata": {},
   "source": [
    "### Two ways to get a single column\n",
    "\n",
    "- use column name as attribute name: df.colname\n",
    "- use column name in brackets: df['colname']"
   ]
  },
  {
   "cell_type": "code",
   "execution_count": 31,
   "metadata": {},
   "outputs": [
    {
     "data": {
      "text/plain": [
       "A    76\n",
       "B    61\n",
       "C    64\n",
       "D    33\n",
       "E    56\n",
       "F    72\n",
       "G    42\n",
       "H    39\n",
       "I    48\n",
       "J    75\n",
       "Name: a, dtype: int64"
      ]
     },
     "execution_count": 31,
     "metadata": {},
     "output_type": "execute_result"
    }
   ],
   "source": [
    "df4.a"
   ]
  },
  {
   "cell_type": "code",
   "execution_count": 32,
   "metadata": {},
   "outputs": [
    {
     "data": {
      "text/plain": [
       "A    77\n",
       "B    37\n",
       "C     5\n",
       "D    72\n",
       "E     8\n",
       "F    57\n",
       "G    66\n",
       "H    93\n",
       "I    49\n",
       "J    90\n",
       "Name: b, dtype: int64"
      ]
     },
     "execution_count": 32,
     "metadata": {},
     "output_type": "execute_result"
    }
   ],
   "source": [
    "df4['b']"
   ]
  },
  {
   "cell_type": "markdown",
   "metadata": {},
   "source": [
    "### Several columns\n",
    "\n",
    "Use a list of names to get multiple columns. We'll end up with double brackets:\n",
    "- outer brackets are the subscription operator\n",
    "- inner brackets are for the list of column names"
   ]
  },
  {
   "cell_type": "code",
   "execution_count": null,
   "metadata": {},
   "outputs": [],
   "source": [
    "df4[['a', 'c', 'd']]"
   ]
  },
  {
   "cell_type": "markdown",
   "metadata": {},
   "source": [
    "The order of columns can be different from the original, so we can create a different dataframe, if we want:"
   ]
  },
  {
   "cell_type": "code",
   "execution_count": 33,
   "metadata": {},
   "outputs": [
    {
     "data": {
      "text/html": [
       "<div>\n",
       "<style scoped>\n",
       "    .dataframe tbody tr th:only-of-type {\n",
       "        vertical-align: middle;\n",
       "    }\n",
       "\n",
       "    .dataframe tbody tr th {\n",
       "        vertical-align: top;\n",
       "    }\n",
       "\n",
       "    .dataframe thead th {\n",
       "        text-align: right;\n",
       "    }\n",
       "</style>\n",
       "<table border=\"1\" class=\"dataframe\">\n",
       "  <thead>\n",
       "    <tr style=\"text-align: right;\">\n",
       "      <th></th>\n",
       "      <th>g</th>\n",
       "      <th>e</th>\n",
       "      <th>a</th>\n",
       "    </tr>\n",
       "  </thead>\n",
       "  <tbody>\n",
       "    <tr>\n",
       "      <th>A</th>\n",
       "      <td>98</td>\n",
       "      <td>34</td>\n",
       "      <td>76</td>\n",
       "    </tr>\n",
       "    <tr>\n",
       "      <th>B</th>\n",
       "      <td>40</td>\n",
       "      <td>68</td>\n",
       "      <td>61</td>\n",
       "    </tr>\n",
       "    <tr>\n",
       "      <th>C</th>\n",
       "      <td>66</td>\n",
       "      <td>2</td>\n",
       "      <td>64</td>\n",
       "    </tr>\n",
       "    <tr>\n",
       "      <th>D</th>\n",
       "      <td>40</td>\n",
       "      <td>15</td>\n",
       "      <td>33</td>\n",
       "    </tr>\n",
       "    <tr>\n",
       "      <th>E</th>\n",
       "      <td>97</td>\n",
       "      <td>21</td>\n",
       "      <td>56</td>\n",
       "    </tr>\n",
       "  </tbody>\n",
       "</table>\n",
       "</div>"
      ],
      "text/plain": [
       "    g   e   a\n",
       "A  98  34  76\n",
       "B  40  68  61\n",
       "C  66   2  64\n",
       "D  40  15  33\n",
       "E  97  21  56"
      ]
     },
     "execution_count": 33,
     "metadata": {},
     "output_type": "execute_result"
    }
   ],
   "source": [
    "df5 = df4[['g', 'e', 'a']]\n",
    "df5.head()"
   ]
  },
  {
   "cell_type": "markdown",
   "metadata": {},
   "source": [
    "However, the order of the indices (rows) remains the same:"
   ]
  },
  {
   "cell_type": "code",
   "execution_count": 34,
   "metadata": {},
   "outputs": [
    {
     "data": {
      "text/plain": [
       "Index(['A', 'B', 'C', 'D', 'E', 'F', 'G', 'H', 'I', 'J'], dtype='object')"
      ]
     },
     "execution_count": 34,
     "metadata": {},
     "output_type": "execute_result"
    }
   ],
   "source": [
    "df5.index"
   ]
  },
  {
   "cell_type": "markdown",
   "metadata": {},
   "source": [
    "### Accessing single rows\n",
    "\n",
    "A common mistake is to think that just like we accessed single columns by using the column name, we can do the same by using the index label, or its index. However, such efforts will cause a KeyError:"
   ]
  },
  {
   "cell_type": "code",
   "execution_count": null,
   "metadata": {},
   "outputs": [],
   "source": [
    "df5['A'] #cannot access with just column name"
   ]
  },
  {
   "cell_type": "code",
   "execution_count": null,
   "metadata": {},
   "outputs": [],
   "source": [
    "df5[2] #cannot access by index number"
   ]
  },
  {
   "cell_type": "markdown",
   "metadata": {},
   "source": [
    "In the following, we show various ways to overcome this error using either the slice operator (:), or the two dedicated methods `loc` and `iloc`."
   ]
  },
  {
   "cell_type": "markdown",
   "metadata": {},
   "source": [
    "### Select many entire rows via indices or labels\n",
    "\n",
    "We can use the slice operator to get several rows:"
   ]
  },
  {
   "cell_type": "code",
   "execution_count": 37,
   "metadata": {},
   "outputs": [
    {
     "data": {
      "text/html": [
       "<div>\n",
       "<style scoped>\n",
       "    .dataframe tbody tr th:only-of-type {\n",
       "        vertical-align: middle;\n",
       "    }\n",
       "\n",
       "    .dataframe tbody tr th {\n",
       "        vertical-align: top;\n",
       "    }\n",
       "\n",
       "    .dataframe thead th {\n",
       "        text-align: right;\n",
       "    }\n",
       "</style>\n",
       "<table border=\"1\" class=\"dataframe\">\n",
       "  <thead>\n",
       "    <tr style=\"text-align: right;\">\n",
       "      <th></th>\n",
       "      <th>g</th>\n",
       "      <th>e</th>\n",
       "      <th>a</th>\n",
       "    </tr>\n",
       "  </thead>\n",
       "  <tbody>\n",
       "    <tr>\n",
       "      <th>B</th>\n",
       "      <td>40</td>\n",
       "      <td>68</td>\n",
       "      <td>61</td>\n",
       "    </tr>\n",
       "    <tr>\n",
       "      <th>C</th>\n",
       "      <td>66</td>\n",
       "      <td>2</td>\n",
       "      <td>64</td>\n",
       "    </tr>\n",
       "    <tr>\n",
       "      <th>D</th>\n",
       "      <td>40</td>\n",
       "      <td>15</td>\n",
       "      <td>33</td>\n",
       "    </tr>\n",
       "  </tbody>\n",
       "</table>\n",
       "</div>"
      ],
      "text/plain": [
       "    g   e   a\n",
       "B  40  68  61\n",
       "C  66   2  64\n",
       "D  40  15  33"
      ]
     },
     "execution_count": 37,
     "metadata": {},
     "output_type": "execute_result"
    }
   ],
   "source": [
    "df5[1:4]"
   ]
  },
  {
   "cell_type": "markdown",
   "metadata": {},
   "source": [
    "But, labels can also be used, together with the slicing operator, as in:"
   ]
  },
  {
   "cell_type": "code",
   "execution_count": null,
   "metadata": {},
   "outputs": [],
   "source": [
    "df5[:'A']"
   ]
  },
  {
   "cell_type": "markdown",
   "metadata": {},
   "source": [
    "You can get all rows up (and including) a given label:"
   ]
  },
  {
   "cell_type": "code",
   "execution_count": null,
   "metadata": {},
   "outputs": [],
   "source": [
    "df5[:'C']"
   ]
  },
  {
   "cell_type": "markdown",
   "metadata": {},
   "source": [
    "Or provide a range of rows:"
   ]
  },
  {
   "cell_type": "code",
   "execution_count": null,
   "metadata": {},
   "outputs": [],
   "source": [
    "df5['D':'G']"
   ]
  },
  {
   "cell_type": "markdown",
   "metadata": {},
   "source": [
    "Notice that with labels, the slicing operator is inclusive. This is not the case for indices:"
   ]
  },
  {
   "cell_type": "code",
   "execution_count": null,
   "metadata": {},
   "outputs": [],
   "source": [
    "df5[2:4] # shows only rows 2 and 3, not, 2, 3, 4."
   ]
  },
  {
   "cell_type": "markdown",
   "metadata": {},
   "source": [
    "### Operators `loc` and `iloc` to access groups of rows & columns or single cells\n",
    "\n",
    "Both these operators have similar functionality, but `loc` uses labels for indexing, while `iloc` uses integers. As for the other operations, I recommend that you read the documentation via `help` for more clarification and examples.\n",
    "\n",
    "#### Using `loc`"
   ]
  },
  {
   "cell_type": "code",
   "execution_count": null,
   "metadata": {},
   "outputs": [],
   "source": [
    "# try this, if you are curious about loc\n",
    "help(df5.loc)"
   ]
  },
  {
   "cell_type": "code",
   "execution_count": 38,
   "metadata": {},
   "outputs": [
    {
     "data": {
      "text/plain": [
       "g    98\n",
       "e    34\n",
       "a    76\n",
       "Name: A, dtype: int64"
      ]
     },
     "execution_count": 38,
     "metadata": {},
     "output_type": "execute_result"
    }
   ],
   "source": [
    "# one row\n",
    "df5.loc['A']"
   ]
  },
  {
   "cell_type": "markdown",
   "metadata": {},
   "source": [
    "If the output of an operation looks unfamiliar, use `type` to check what kind of value it is, in this case, instead of a dataframe, we received an object of type `Series`:"
   ]
  },
  {
   "cell_type": "code",
   "execution_count": 39,
   "metadata": {},
   "outputs": [
    {
     "data": {
      "text/plain": [
       "pandas.core.series.Series"
      ]
     },
     "execution_count": 39,
     "metadata": {},
     "output_type": "execute_result"
    }
   ],
   "source": [
    "type(df5.loc['A'])"
   ]
  },
  {
   "cell_type": "markdown",
   "metadata": {},
   "source": [
    "We can use `loc` to access multiple rows:"
   ]
  },
  {
   "cell_type": "code",
   "execution_count": null,
   "metadata": {},
   "outputs": [],
   "source": [
    "# multiple rows\n",
    "df5.loc[['A','C']] # list of index labels"
   ]
  },
  {
   "cell_type": "code",
   "execution_count": null,
   "metadata": {},
   "outputs": [],
   "source": [
    "# multiple rows and one column\n",
    "df5.loc['A': 'C', 'e']"
   ]
  },
  {
   "cell_type": "code",
   "execution_count": null,
   "metadata": {},
   "outputs": [],
   "source": [
    "# one row two columns\n",
    "df5.loc['A', ['e','a']]"
   ]
  },
  {
   "cell_type": "code",
   "execution_count": 40,
   "metadata": {},
   "outputs": [
    {
     "data": {
      "text/html": [
       "<div>\n",
       "<style scoped>\n",
       "    .dataframe tbody tr th:only-of-type {\n",
       "        vertical-align: middle;\n",
       "    }\n",
       "\n",
       "    .dataframe tbody tr th {\n",
       "        vertical-align: top;\n",
       "    }\n",
       "\n",
       "    .dataframe thead th {\n",
       "        text-align: right;\n",
       "    }\n",
       "</style>\n",
       "<table border=\"1\" class=\"dataframe\">\n",
       "  <thead>\n",
       "    <tr style=\"text-align: right;\">\n",
       "      <th></th>\n",
       "      <th>e</th>\n",
       "      <th>a</th>\n",
       "    </tr>\n",
       "  </thead>\n",
       "  <tbody>\n",
       "    <tr>\n",
       "      <th>A</th>\n",
       "      <td>34</td>\n",
       "      <td>76</td>\n",
       "    </tr>\n",
       "    <tr>\n",
       "      <th>B</th>\n",
       "      <td>68</td>\n",
       "      <td>61</td>\n",
       "    </tr>\n",
       "    <tr>\n",
       "      <th>C</th>\n",
       "      <td>2</td>\n",
       "      <td>64</td>\n",
       "    </tr>\n",
       "  </tbody>\n",
       "</table>\n",
       "</div>"
      ],
      "text/plain": [
       "    e   a\n",
       "A  34  76\n",
       "B  68  61\n",
       "C   2  64"
      ]
     },
     "execution_count": 40,
     "metadata": {},
     "output_type": "execute_result"
    }
   ],
   "source": [
    "# multiple rows, multiple columns\n",
    "df5.loc['A':'C', ['e','a']]"
   ]
  },
  {
   "cell_type": "markdown",
   "metadata": {},
   "source": [
    "#### Use `iloc`"
   ]
  },
  {
   "cell_type": "code",
   "execution_count": null,
   "metadata": {},
   "outputs": [],
   "source": [
    "help(df5.iloc)"
   ]
  },
  {
   "cell_type": "code",
   "execution_count": null,
   "metadata": {},
   "outputs": [],
   "source": [
    "# access one row\n",
    "df5.iloc[0]"
   ]
  },
  {
   "cell_type": "code",
   "execution_count": null,
   "metadata": {},
   "outputs": [],
   "source": [
    "# access many rows\n",
    "df5.iloc[2:5]"
   ]
  },
  {
   "cell_type": "code",
   "execution_count": null,
   "metadata": {},
   "outputs": [],
   "source": [
    "# access one column\n",
    "df5.iloc[:,2]"
   ]
  },
  {
   "cell_type": "code",
   "execution_count": 41,
   "metadata": {},
   "outputs": [
    {
     "data": {
      "text/html": [
       "<div>\n",
       "<style scoped>\n",
       "    .dataframe tbody tr th:only-of-type {\n",
       "        vertical-align: middle;\n",
       "    }\n",
       "\n",
       "    .dataframe tbody tr th {\n",
       "        vertical-align: top;\n",
       "    }\n",
       "\n",
       "    .dataframe thead th {\n",
       "        text-align: right;\n",
       "    }\n",
       "</style>\n",
       "<table border=\"1\" class=\"dataframe\">\n",
       "  <thead>\n",
       "    <tr style=\"text-align: right;\">\n",
       "      <th></th>\n",
       "      <th>e</th>\n",
       "      <th>a</th>\n",
       "    </tr>\n",
       "  </thead>\n",
       "  <tbody>\n",
       "    <tr>\n",
       "      <th>A</th>\n",
       "      <td>34</td>\n",
       "      <td>76</td>\n",
       "    </tr>\n",
       "    <tr>\n",
       "      <th>B</th>\n",
       "      <td>68</td>\n",
       "      <td>61</td>\n",
       "    </tr>\n",
       "    <tr>\n",
       "      <th>C</th>\n",
       "      <td>2</td>\n",
       "      <td>64</td>\n",
       "    </tr>\n",
       "    <tr>\n",
       "      <th>D</th>\n",
       "      <td>15</td>\n",
       "      <td>33</td>\n",
       "    </tr>\n",
       "    <tr>\n",
       "      <th>E</th>\n",
       "      <td>21</td>\n",
       "      <td>56</td>\n",
       "    </tr>\n",
       "    <tr>\n",
       "      <th>F</th>\n",
       "      <td>98</td>\n",
       "      <td>72</td>\n",
       "    </tr>\n",
       "    <tr>\n",
       "      <th>G</th>\n",
       "      <td>54</td>\n",
       "      <td>42</td>\n",
       "    </tr>\n",
       "    <tr>\n",
       "      <th>H</th>\n",
       "      <td>43</td>\n",
       "      <td>39</td>\n",
       "    </tr>\n",
       "    <tr>\n",
       "      <th>I</th>\n",
       "      <td>64</td>\n",
       "      <td>48</td>\n",
       "    </tr>\n",
       "    <tr>\n",
       "      <th>J</th>\n",
       "      <td>61</td>\n",
       "      <td>75</td>\n",
       "    </tr>\n",
       "  </tbody>\n",
       "</table>\n",
       "</div>"
      ],
      "text/plain": [
       "    e   a\n",
       "A  34  76\n",
       "B  68  61\n",
       "C   2  64\n",
       "D  15  33\n",
       "E  21  56\n",
       "F  98  72\n",
       "G  54  42\n",
       "H  43  39\n",
       "I  64  48\n",
       "J  61  75"
      ]
     },
     "execution_count": 41,
     "metadata": {},
     "output_type": "execute_result"
    }
   ],
   "source": [
    "# access many columns\n",
    "df5.iloc[:,1:3]"
   ]
  },
  {
   "cell_type": "code",
   "execution_count": 42,
   "metadata": {},
   "outputs": [
    {
     "data": {
      "text/html": [
       "<div>\n",
       "<style scoped>\n",
       "    .dataframe tbody tr th:only-of-type {\n",
       "        vertical-align: middle;\n",
       "    }\n",
       "\n",
       "    .dataframe tbody tr th {\n",
       "        vertical-align: top;\n",
       "    }\n",
       "\n",
       "    .dataframe thead th {\n",
       "        text-align: right;\n",
       "    }\n",
       "</style>\n",
       "<table border=\"1\" class=\"dataframe\">\n",
       "  <thead>\n",
       "    <tr style=\"text-align: right;\">\n",
       "      <th></th>\n",
       "      <th>e</th>\n",
       "      <th>a</th>\n",
       "    </tr>\n",
       "  </thead>\n",
       "  <tbody>\n",
       "    <tr>\n",
       "      <th>B</th>\n",
       "      <td>68</td>\n",
       "      <td>61</td>\n",
       "    </tr>\n",
       "    <tr>\n",
       "      <th>C</th>\n",
       "      <td>2</td>\n",
       "      <td>64</td>\n",
       "    </tr>\n",
       "  </tbody>\n",
       "</table>\n",
       "</div>"
      ],
      "text/plain": [
       "    e   a\n",
       "B  68  61\n",
       "C   2  64"
      ]
     },
     "execution_count": 42,
     "metadata": {},
     "output_type": "execute_result"
    }
   ],
   "source": [
    "# access few rows and few colums\n",
    "df5.iloc[1:3,1:3]"
   ]
  },
  {
   "cell_type": "markdown",
   "metadata": {},
   "source": [
    "### How to access a single value in the dataframe\n",
    "\n",
    "Let's see again the whole dataframe:"
   ]
  },
  {
   "cell_type": "code",
   "execution_count": null,
   "metadata": {},
   "outputs": [],
   "source": [
    "df5"
   ]
  },
  {
   "cell_type": "markdown",
   "metadata": {},
   "source": [
    "We can use labels (names for rows and columns) together to locate a single cell in the dataframe:"
   ]
  },
  {
   "cell_type": "code",
   "execution_count": 43,
   "metadata": {},
   "outputs": [
    {
     "data": {
      "text/plain": [
       "76"
      ]
     },
     "execution_count": 43,
     "metadata": {},
     "output_type": "execute_result"
    }
   ],
   "source": [
    "df5.loc['A', 'a']  # the cell at the intersection of 'A' and 'a'"
   ]
  },
  {
   "cell_type": "markdown",
   "metadata": {},
   "source": [
    "Or we can use indices for both rows and columns:"
   ]
  },
  {
   "cell_type": "code",
   "execution_count": 44,
   "metadata": {},
   "outputs": [
    {
     "data": {
      "text/plain": [
       "76"
      ]
     },
     "execution_count": 44,
     "metadata": {},
     "output_type": "execute_result"
    }
   ],
   "source": [
    "df5.iloc[0, 2] # item in 0th row, 2nd column"
   ]
  },
  {
   "cell_type": "markdown",
   "metadata": {},
   "source": [
    "<a id=\"sec11\"></a>\n",
    "## 11. Apply operations\n",
    "\n",
    "In pandas, we often need to apply an operation to all members of a column or the whole dataframe. The methods `apply` and `applymap` will be helpful in that regard.\n",
    "\n",
    "Let's create a dataframe from a dictionary first, to use in the examples:"
   ]
  },
  {
   "cell_type": "code",
   "execution_count": 45,
   "metadata": {},
   "outputs": [
    {
     "data": {
      "text/html": [
       "<div>\n",
       "<style scoped>\n",
       "    .dataframe tbody tr th:only-of-type {\n",
       "        vertical-align: middle;\n",
       "    }\n",
       "\n",
       "    .dataframe tbody tr th {\n",
       "        vertical-align: top;\n",
       "    }\n",
       "\n",
       "    .dataframe thead th {\n",
       "        text-align: right;\n",
       "    }\n",
       "</style>\n",
       "<table border=\"1\" class=\"dataframe\">\n",
       "  <thead>\n",
       "    <tr style=\"text-align: right;\">\n",
       "      <th></th>\n",
       "      <th>name</th>\n",
       "      <th>year</th>\n",
       "      <th>reports</th>\n",
       "      <th>coverage</th>\n",
       "    </tr>\n",
       "  </thead>\n",
       "  <tbody>\n",
       "    <tr>\n",
       "      <th>Cochice</th>\n",
       "      <td>Jason</td>\n",
       "      <td>2012</td>\n",
       "      <td>4</td>\n",
       "      <td>25</td>\n",
       "    </tr>\n",
       "    <tr>\n",
       "      <th>Pima</th>\n",
       "      <td>Molly</td>\n",
       "      <td>2012</td>\n",
       "      <td>24</td>\n",
       "      <td>94</td>\n",
       "    </tr>\n",
       "    <tr>\n",
       "      <th>Santa Cruz</th>\n",
       "      <td>Tina</td>\n",
       "      <td>2013</td>\n",
       "      <td>31</td>\n",
       "      <td>57</td>\n",
       "    </tr>\n",
       "    <tr>\n",
       "      <th>Maricopa</th>\n",
       "      <td>Jake</td>\n",
       "      <td>2014</td>\n",
       "      <td>2</td>\n",
       "      <td>62</td>\n",
       "    </tr>\n",
       "    <tr>\n",
       "      <th>Yuma</th>\n",
       "      <td>Amy</td>\n",
       "      <td>2014</td>\n",
       "      <td>3</td>\n",
       "      <td>70</td>\n",
       "    </tr>\n",
       "  </tbody>\n",
       "</table>\n",
       "</div>"
      ],
      "text/plain": [
       "             name  year  reports  coverage\n",
       "Cochice     Jason  2012        4        25\n",
       "Pima        Molly  2012       24        94\n",
       "Santa Cruz   Tina  2013       31        57\n",
       "Maricopa     Jake  2014        2        62\n",
       "Yuma          Amy  2014        3        70"
      ]
     },
     "execution_count": 45,
     "metadata": {},
     "output_type": "execute_result"
    }
   ],
   "source": [
    "data = {'name': ['Jason', 'Molly', 'Tina', 'Jake', 'Amy'], \n",
    "        'year': [2012, 2012, 2013, 2014, 2014], \n",
    "        'reports': [4, 24, 31, 2, 3],\n",
    "        'coverage': [25, 94, 57, 62, 70]}\n",
    "\n",
    "df = pd.DataFrame(data, index = ['Cochice', 'Pima', 'Santa Cruz', 'Maricopa', 'Yuma'])\n",
    "df"
   ]
  },
  {
   "cell_type": "markdown",
   "metadata": {},
   "source": [
    "### Capitalize all names in column `name`\n",
    "\n",
    "Initially, we create a lambda function and give it a name:"
   ]
  },
  {
   "cell_type": "code",
   "execution_count": 46,
   "metadata": {},
   "outputs": [],
   "source": [
    "capitalizer = lambda x: x.upper()"
   ]
  },
  {
   "cell_type": "markdown",
   "metadata": {},
   "source": [
    "Let's test that it works:"
   ]
  },
  {
   "cell_type": "code",
   "execution_count": 47,
   "metadata": {},
   "outputs": [
    {
     "data": {
      "text/plain": [
       "'WELLESLEY'"
      ]
     },
     "execution_count": 47,
     "metadata": {},
     "output_type": "execute_result"
    }
   ],
   "source": [
    "capitalizer(\"wellesley\")"
   ]
  },
  {
   "cell_type": "markdown",
   "metadata": {},
   "source": [
    "We now use the method `apply` on the column `name`, by passing the new function as an argument:"
   ]
  },
  {
   "cell_type": "code",
   "execution_count": 48,
   "metadata": {},
   "outputs": [
    {
     "data": {
      "text/plain": [
       "Cochice       JASON\n",
       "Pima          MOLLY\n",
       "Santa Cruz     TINA\n",
       "Maricopa       JAKE\n",
       "Yuma            AMY\n",
       "Name: name, dtype: object"
      ]
     },
     "execution_count": 48,
     "metadata": {},
     "output_type": "execute_result"
    }
   ],
   "source": [
    "df['name'].apply(capitalizer)"
   ]
  },
  {
   "cell_type": "markdown",
   "metadata": {},
   "source": [
    "However, such operation hasn't changed the dataframe:"
   ]
  },
  {
   "cell_type": "code",
   "execution_count": null,
   "metadata": {},
   "outputs": [],
   "source": [
    "df"
   ]
  },
  {
   "cell_type": "markdown",
   "metadata": {},
   "source": [
    "To do that, we can assign the new column to the old one:"
   ]
  },
  {
   "cell_type": "code",
   "execution_count": 49,
   "metadata": {},
   "outputs": [
    {
     "data": {
      "text/html": [
       "<div>\n",
       "<style scoped>\n",
       "    .dataframe tbody tr th:only-of-type {\n",
       "        vertical-align: middle;\n",
       "    }\n",
       "\n",
       "    .dataframe tbody tr th {\n",
       "        vertical-align: top;\n",
       "    }\n",
       "\n",
       "    .dataframe thead th {\n",
       "        text-align: right;\n",
       "    }\n",
       "</style>\n",
       "<table border=\"1\" class=\"dataframe\">\n",
       "  <thead>\n",
       "    <tr style=\"text-align: right;\">\n",
       "      <th></th>\n",
       "      <th>name</th>\n",
       "      <th>year</th>\n",
       "      <th>reports</th>\n",
       "      <th>coverage</th>\n",
       "    </tr>\n",
       "  </thead>\n",
       "  <tbody>\n",
       "    <tr>\n",
       "      <th>Cochice</th>\n",
       "      <td>JASON</td>\n",
       "      <td>2012</td>\n",
       "      <td>4</td>\n",
       "      <td>25</td>\n",
       "    </tr>\n",
       "    <tr>\n",
       "      <th>Pima</th>\n",
       "      <td>MOLLY</td>\n",
       "      <td>2012</td>\n",
       "      <td>24</td>\n",
       "      <td>94</td>\n",
       "    </tr>\n",
       "    <tr>\n",
       "      <th>Santa Cruz</th>\n",
       "      <td>TINA</td>\n",
       "      <td>2013</td>\n",
       "      <td>31</td>\n",
       "      <td>57</td>\n",
       "    </tr>\n",
       "    <tr>\n",
       "      <th>Maricopa</th>\n",
       "      <td>JAKE</td>\n",
       "      <td>2014</td>\n",
       "      <td>2</td>\n",
       "      <td>62</td>\n",
       "    </tr>\n",
       "    <tr>\n",
       "      <th>Yuma</th>\n",
       "      <td>AMY</td>\n",
       "      <td>2014</td>\n",
       "      <td>3</td>\n",
       "      <td>70</td>\n",
       "    </tr>\n",
       "  </tbody>\n",
       "</table>\n",
       "</div>"
      ],
      "text/plain": [
       "             name  year  reports  coverage\n",
       "Cochice     JASON  2012        4        25\n",
       "Pima        MOLLY  2012       24        94\n",
       "Santa Cruz   TINA  2013       31        57\n",
       "Maricopa     JAKE  2014        2        62\n",
       "Yuma          AMY  2014        3        70"
      ]
     },
     "execution_count": 49,
     "metadata": {},
     "output_type": "execute_result"
    }
   ],
   "source": [
    "df['name'] = df['name'].apply(capitalizer)\n",
    "df"
   ]
  },
  {
   "cell_type": "markdown",
   "metadata": {},
   "source": [
    "**YOUR TURN:** Increase the `year` values by five using the approach shown above."
   ]
  },
  {
   "cell_type": "code",
   "execution_count": 51,
   "metadata": {},
   "outputs": [
    {
     "data": {
      "text/plain": [
       "Cochice       2017\n",
       "Pima          2017\n",
       "Santa Cruz    2018\n",
       "Maricopa      2019\n",
       "Yuma          2019\n",
       "Name: year, dtype: int64"
      ]
     },
     "execution_count": 51,
     "metadata": {},
     "output_type": "execute_result"
    }
   ],
   "source": [
    "# write your solution here\n",
    "df.year.apply(lambda x: x+5)"
   ]
  },
  {
   "cell_type": "markdown",
   "metadata": {},
   "source": [
    "### Change all elements\n",
    "Writing more sophisticated functions allows to apply an operation to almost all values in the dataframe. The function below multiplies by 100 every numerical value, but doesn't touch the string elements.\n",
    "\n",
    "This function is an element-wise function, intended to be used on all elements of a dataframe, instead of an entire column, or entire row."
   ]
  },
  {
   "cell_type": "code",
   "execution_count": 52,
   "metadata": {},
   "outputs": [],
   "source": [
    "# create a function called times100\n",
    "def times100(x):\n",
    "    # that, if x is a string,\n",
    "    if type(x) is str:\n",
    "        # just returns it untouched\n",
    "        return x\n",
    "    # but, if not, return it multiplied by 100\n",
    "    elif x:\n",
    "        return 100 * x\n",
    "    # and leave everything else\n",
    "    else:\n",
    "        return"
   ]
  },
  {
   "cell_type": "code",
   "execution_count": 53,
   "metadata": {},
   "outputs": [
    {
     "name": "stderr",
     "output_type": "stream",
     "text": [
      "/var/folders/cw/4tmbrj3d1pzd4rhyrm8vnwyc0000gn/T/ipykernel_78698/701420547.py:1: FutureWarning: DataFrame.applymap has been deprecated. Use DataFrame.map instead.\n",
      "  df.applymap(times100)\n"
     ]
    },
    {
     "data": {
      "text/html": [
       "<div>\n",
       "<style scoped>\n",
       "    .dataframe tbody tr th:only-of-type {\n",
       "        vertical-align: middle;\n",
       "    }\n",
       "\n",
       "    .dataframe tbody tr th {\n",
       "        vertical-align: top;\n",
       "    }\n",
       "\n",
       "    .dataframe thead th {\n",
       "        text-align: right;\n",
       "    }\n",
       "</style>\n",
       "<table border=\"1\" class=\"dataframe\">\n",
       "  <thead>\n",
       "    <tr style=\"text-align: right;\">\n",
       "      <th></th>\n",
       "      <th>name</th>\n",
       "      <th>year</th>\n",
       "      <th>reports</th>\n",
       "      <th>coverage</th>\n",
       "    </tr>\n",
       "  </thead>\n",
       "  <tbody>\n",
       "    <tr>\n",
       "      <th>Cochice</th>\n",
       "      <td>JASON</td>\n",
       "      <td>201200</td>\n",
       "      <td>400</td>\n",
       "      <td>2500</td>\n",
       "    </tr>\n",
       "    <tr>\n",
       "      <th>Pima</th>\n",
       "      <td>MOLLY</td>\n",
       "      <td>201200</td>\n",
       "      <td>2400</td>\n",
       "      <td>9400</td>\n",
       "    </tr>\n",
       "    <tr>\n",
       "      <th>Santa Cruz</th>\n",
       "      <td>TINA</td>\n",
       "      <td>201300</td>\n",
       "      <td>3100</td>\n",
       "      <td>5700</td>\n",
       "    </tr>\n",
       "    <tr>\n",
       "      <th>Maricopa</th>\n",
       "      <td>JAKE</td>\n",
       "      <td>201400</td>\n",
       "      <td>200</td>\n",
       "      <td>6200</td>\n",
       "    </tr>\n",
       "    <tr>\n",
       "      <th>Yuma</th>\n",
       "      <td>AMY</td>\n",
       "      <td>201400</td>\n",
       "      <td>300</td>\n",
       "      <td>7000</td>\n",
       "    </tr>\n",
       "  </tbody>\n",
       "</table>\n",
       "</div>"
      ],
      "text/plain": [
       "             name    year  reports  coverage\n",
       "Cochice     JASON  201200      400      2500\n",
       "Pima        MOLLY  201200     2400      9400\n",
       "Santa Cruz   TINA  201300     3100      5700\n",
       "Maricopa     JAKE  201400      200      6200\n",
       "Yuma          AMY  201400      300      7000"
      ]
     },
     "execution_count": 53,
     "metadata": {},
     "output_type": "execute_result"
    }
   ],
   "source": [
    "df.applymap(times100)"
   ]
  },
  {
   "cell_type": "markdown",
   "metadata": {},
   "source": [
    "<a id=\"sec12\"></a>\n",
    "## 12. Creating new columns\n",
    "\n",
    "It's possible to add new columns to a dataframe at any time. Here are two ways to do that:"
   ]
  },
  {
   "cell_type": "code",
   "execution_count": null,
   "metadata": {},
   "outputs": [],
   "source": [
    "# 1. use the subscription operator []\n",
    "\n",
    "df = pd.DataFrame()\n",
    "df['name'] = ['ben', 'lyn', 'ada']\n",
    "df"
   ]
  },
  {
   "cell_type": "code",
   "execution_count": null,
   "metadata": {},
   "outputs": [],
   "source": [
    "# 2. use the method assign\n",
    "\n",
    "df = df.assign(lastname=['wood','turbak','lerner'])\n",
    "df"
   ]
  },
  {
   "cell_type": "markdown",
   "metadata": {},
   "source": [
    "<a id=\"sec13\"></a>\n",
    "## 13. Deleting duplicates\n",
    "\n",
    "Sometimes there are identical rows, and sometimes there are rows that are partially identical. The example below shows how to remove them."
   ]
  },
  {
   "cell_type": "code",
   "execution_count": 54,
   "metadata": {},
   "outputs": [
    {
     "data": {
      "text/html": [
       "<div>\n",
       "<style scoped>\n",
       "    .dataframe tbody tr th:only-of-type {\n",
       "        vertical-align: middle;\n",
       "    }\n",
       "\n",
       "    .dataframe tbody tr th {\n",
       "        vertical-align: top;\n",
       "    }\n",
       "\n",
       "    .dataframe thead th {\n",
       "        text-align: right;\n",
       "    }\n",
       "</style>\n",
       "<table border=\"1\" class=\"dataframe\">\n",
       "  <thead>\n",
       "    <tr style=\"text-align: right;\">\n",
       "      <th></th>\n",
       "      <th>first_name</th>\n",
       "      <th>last_name</th>\n",
       "      <th>age</th>\n",
       "      <th>preTestScore</th>\n",
       "      <th>postTestScore</th>\n",
       "    </tr>\n",
       "  </thead>\n",
       "  <tbody>\n",
       "    <tr>\n",
       "      <th>0</th>\n",
       "      <td>Jason</td>\n",
       "      <td>Miller</td>\n",
       "      <td>42</td>\n",
       "      <td>4</td>\n",
       "      <td>25</td>\n",
       "    </tr>\n",
       "    <tr>\n",
       "      <th>1</th>\n",
       "      <td>Jason</td>\n",
       "      <td>Miller</td>\n",
       "      <td>42</td>\n",
       "      <td>4</td>\n",
       "      <td>25</td>\n",
       "    </tr>\n",
       "    <tr>\n",
       "      <th>2</th>\n",
       "      <td>Jason</td>\n",
       "      <td>Miller</td>\n",
       "      <td>1111111</td>\n",
       "      <td>4</td>\n",
       "      <td>25</td>\n",
       "    </tr>\n",
       "    <tr>\n",
       "      <th>3</th>\n",
       "      <td>Tina</td>\n",
       "      <td>Ali</td>\n",
       "      <td>36</td>\n",
       "      <td>31</td>\n",
       "      <td>57</td>\n",
       "    </tr>\n",
       "    <tr>\n",
       "      <th>4</th>\n",
       "      <td>Jake</td>\n",
       "      <td>Milner</td>\n",
       "      <td>24</td>\n",
       "      <td>2</td>\n",
       "      <td>62</td>\n",
       "    </tr>\n",
       "    <tr>\n",
       "      <th>5</th>\n",
       "      <td>Amy</td>\n",
       "      <td>Cooze</td>\n",
       "      <td>73</td>\n",
       "      <td>3</td>\n",
       "      <td>70</td>\n",
       "    </tr>\n",
       "  </tbody>\n",
       "</table>\n",
       "</div>"
      ],
      "text/plain": [
       "  first_name last_name      age  preTestScore  postTestScore\n",
       "0      Jason    Miller       42             4             25\n",
       "1      Jason    Miller       42             4             25\n",
       "2      Jason    Miller  1111111             4             25\n",
       "3       Tina       Ali       36            31             57\n",
       "4       Jake    Milner       24             2             62\n",
       "5        Amy     Cooze       73             3             70"
      ]
     },
     "execution_count": 54,
     "metadata": {},
     "output_type": "execute_result"
    }
   ],
   "source": [
    "raw_data = {'first_name': ['Jason', 'Jason', 'Jason','Tina', 'Jake', 'Amy'], \n",
    "        'last_name': ['Miller', 'Miller', 'Miller','Ali', 'Milner', 'Cooze'], \n",
    "        'age': [42, 42, 1111111, 36, 24, 73], \n",
    "        'preTestScore': [4, 4, 4, 31, 2, 3],\n",
    "        'postTestScore': [25, 25, 25, 57, 62, 70]}\n",
    "df = pd.DataFrame(raw_data, columns = ['first_name', 'last_name', 'age', 'preTestScore', 'postTestScore'])\n",
    "df"
   ]
  },
  {
   "cell_type": "markdown",
   "metadata": {},
   "source": [
    "Notice that we have two identical rows, 0 and 1, and one that is partially identical to them (row 2).\n",
    "\n",
    "First, one can check for duplicate rows:"
   ]
  },
  {
   "cell_type": "code",
   "execution_count": 55,
   "metadata": {},
   "outputs": [
    {
     "data": {
      "text/plain": [
       "0    False\n",
       "1     True\n",
       "2    False\n",
       "3    False\n",
       "4    False\n",
       "5    False\n",
       "dtype: bool"
      ]
     },
     "execution_count": 55,
     "metadata": {},
     "output_type": "execute_result"
    }
   ],
   "source": [
    "df.duplicated()"
   ]
  },
  {
   "cell_type": "markdown",
   "metadata": {},
   "source": [
    "The result shows that row 1 is a duplicate. It's easy to drop identical duplicates:"
   ]
  },
  {
   "cell_type": "code",
   "execution_count": 56,
   "metadata": {},
   "outputs": [
    {
     "data": {
      "text/html": [
       "<div>\n",
       "<style scoped>\n",
       "    .dataframe tbody tr th:only-of-type {\n",
       "        vertical-align: middle;\n",
       "    }\n",
       "\n",
       "    .dataframe tbody tr th {\n",
       "        vertical-align: top;\n",
       "    }\n",
       "\n",
       "    .dataframe thead th {\n",
       "        text-align: right;\n",
       "    }\n",
       "</style>\n",
       "<table border=\"1\" class=\"dataframe\">\n",
       "  <thead>\n",
       "    <tr style=\"text-align: right;\">\n",
       "      <th></th>\n",
       "      <th>first_name</th>\n",
       "      <th>last_name</th>\n",
       "      <th>age</th>\n",
       "      <th>preTestScore</th>\n",
       "      <th>postTestScore</th>\n",
       "    </tr>\n",
       "  </thead>\n",
       "  <tbody>\n",
       "    <tr>\n",
       "      <th>0</th>\n",
       "      <td>Jason</td>\n",
       "      <td>Miller</td>\n",
       "      <td>42</td>\n",
       "      <td>4</td>\n",
       "      <td>25</td>\n",
       "    </tr>\n",
       "    <tr>\n",
       "      <th>2</th>\n",
       "      <td>Jason</td>\n",
       "      <td>Miller</td>\n",
       "      <td>1111111</td>\n",
       "      <td>4</td>\n",
       "      <td>25</td>\n",
       "    </tr>\n",
       "    <tr>\n",
       "      <th>3</th>\n",
       "      <td>Tina</td>\n",
       "      <td>Ali</td>\n",
       "      <td>36</td>\n",
       "      <td>31</td>\n",
       "      <td>57</td>\n",
       "    </tr>\n",
       "    <tr>\n",
       "      <th>4</th>\n",
       "      <td>Jake</td>\n",
       "      <td>Milner</td>\n",
       "      <td>24</td>\n",
       "      <td>2</td>\n",
       "      <td>62</td>\n",
       "    </tr>\n",
       "    <tr>\n",
       "      <th>5</th>\n",
       "      <td>Amy</td>\n",
       "      <td>Cooze</td>\n",
       "      <td>73</td>\n",
       "      <td>3</td>\n",
       "      <td>70</td>\n",
       "    </tr>\n",
       "  </tbody>\n",
       "</table>\n",
       "</div>"
      ],
      "text/plain": [
       "  first_name last_name      age  preTestScore  postTestScore\n",
       "0      Jason    Miller       42             4             25\n",
       "2      Jason    Miller  1111111             4             25\n",
       "3       Tina       Ali       36            31             57\n",
       "4       Jake    Milner       24             2             62\n",
       "5        Amy     Cooze       73             3             70"
      ]
     },
     "execution_count": 56,
     "metadata": {},
     "output_type": "execute_result"
    }
   ],
   "source": [
    "df.drop_duplicates()"
   ]
  },
  {
   "cell_type": "markdown",
   "metadata": {},
   "source": [
    "Notice that row 1 disappeared. Meeanwhile, the same method, if used with named arguments, can remove partial duplicates:"
   ]
  },
  {
   "cell_type": "code",
   "execution_count": 57,
   "metadata": {},
   "outputs": [
    {
     "data": {
      "text/html": [
       "<div>\n",
       "<style scoped>\n",
       "    .dataframe tbody tr th:only-of-type {\n",
       "        vertical-align: middle;\n",
       "    }\n",
       "\n",
       "    .dataframe tbody tr th {\n",
       "        vertical-align: top;\n",
       "    }\n",
       "\n",
       "    .dataframe thead th {\n",
       "        text-align: right;\n",
       "    }\n",
       "</style>\n",
       "<table border=\"1\" class=\"dataframe\">\n",
       "  <thead>\n",
       "    <tr style=\"text-align: right;\">\n",
       "      <th></th>\n",
       "      <th>first_name</th>\n",
       "      <th>last_name</th>\n",
       "      <th>age</th>\n",
       "      <th>preTestScore</th>\n",
       "      <th>postTestScore</th>\n",
       "    </tr>\n",
       "  </thead>\n",
       "  <tbody>\n",
       "    <tr>\n",
       "      <th>2</th>\n",
       "      <td>Jason</td>\n",
       "      <td>Miller</td>\n",
       "      <td>1111111</td>\n",
       "      <td>4</td>\n",
       "      <td>25</td>\n",
       "    </tr>\n",
       "    <tr>\n",
       "      <th>3</th>\n",
       "      <td>Tina</td>\n",
       "      <td>Ali</td>\n",
       "      <td>36</td>\n",
       "      <td>31</td>\n",
       "      <td>57</td>\n",
       "    </tr>\n",
       "    <tr>\n",
       "      <th>4</th>\n",
       "      <td>Jake</td>\n",
       "      <td>Milner</td>\n",
       "      <td>24</td>\n",
       "      <td>2</td>\n",
       "      <td>62</td>\n",
       "    </tr>\n",
       "    <tr>\n",
       "      <th>5</th>\n",
       "      <td>Amy</td>\n",
       "      <td>Cooze</td>\n",
       "      <td>73</td>\n",
       "      <td>3</td>\n",
       "      <td>70</td>\n",
       "    </tr>\n",
       "  </tbody>\n",
       "</table>\n",
       "</div>"
      ],
      "text/plain": [
       "  first_name last_name      age  preTestScore  postTestScore\n",
       "2      Jason    Miller  1111111             4             25\n",
       "3       Tina       Ali       36            31             57\n",
       "4       Jake    Milner       24             2             62\n",
       "5        Amy     Cooze       73             3             70"
      ]
     },
     "execution_count": 57,
     "metadata": {},
     "output_type": "execute_result"
    }
   ],
   "source": [
    "df.drop_duplicates(['first_name'], keep='last')"
   ]
  },
  {
   "cell_type": "markdown",
   "metadata": {},
   "source": [
    "That is, we removed rows with the same first_name, keeping in the table the last element (by default, this method keeps the first occurrence of a duplicate)."
   ]
  },
  {
   "cell_type": "markdown",
   "metadata": {},
   "source": [
    "<a id=\"sec14\"></a>\n",
    "## 14. Filtering values\n",
    "\n",
    "One way to \"filter\" data is to select only a few columns or a few rows, as we saw when we learned to slice a dataframe. However, often we want to filter based on the values of variables, in that case, we are going to create boolean expressions that will keep some values and ignore some others, as the examples in this section show."
   ]
  },
  {
   "cell_type": "code",
   "execution_count": 58,
   "metadata": {},
   "outputs": [
    {
     "data": {
      "text/html": [
       "<div>\n",
       "<style scoped>\n",
       "    .dataframe tbody tr th:only-of-type {\n",
       "        vertical-align: middle;\n",
       "    }\n",
       "\n",
       "    .dataframe tbody tr th {\n",
       "        vertical-align: top;\n",
       "    }\n",
       "\n",
       "    .dataframe thead th {\n",
       "        text-align: right;\n",
       "    }\n",
       "</style>\n",
       "<table border=\"1\" class=\"dataframe\">\n",
       "  <thead>\n",
       "    <tr style=\"text-align: right;\">\n",
       "      <th></th>\n",
       "      <th>name</th>\n",
       "      <th>year</th>\n",
       "      <th>reports</th>\n",
       "      <th>coverage</th>\n",
       "    </tr>\n",
       "  </thead>\n",
       "  <tbody>\n",
       "    <tr>\n",
       "      <th>Cochice</th>\n",
       "      <td>Jason</td>\n",
       "      <td>2012</td>\n",
       "      <td>4</td>\n",
       "      <td>25</td>\n",
       "    </tr>\n",
       "    <tr>\n",
       "      <th>Pima</th>\n",
       "      <td>Molly</td>\n",
       "      <td>2012</td>\n",
       "      <td>24</td>\n",
       "      <td>94</td>\n",
       "    </tr>\n",
       "    <tr>\n",
       "      <th>Santa Cruz</th>\n",
       "      <td>Tina</td>\n",
       "      <td>2013</td>\n",
       "      <td>31</td>\n",
       "      <td>57</td>\n",
       "    </tr>\n",
       "    <tr>\n",
       "      <th>Maricopa</th>\n",
       "      <td>Jake</td>\n",
       "      <td>2014</td>\n",
       "      <td>2</td>\n",
       "      <td>62</td>\n",
       "    </tr>\n",
       "    <tr>\n",
       "      <th>Yuma</th>\n",
       "      <td>Amy</td>\n",
       "      <td>2014</td>\n",
       "      <td>3</td>\n",
       "      <td>70</td>\n",
       "    </tr>\n",
       "  </tbody>\n",
       "</table>\n",
       "</div>"
      ],
      "text/plain": [
       "             name  year  reports  coverage\n",
       "Cochice     Jason  2012        4        25\n",
       "Pima        Molly  2012       24        94\n",
       "Santa Cruz   Tina  2013       31        57\n",
       "Maricopa     Jake  2014        2        62\n",
       "Yuma          Amy  2014        3        70"
      ]
     },
     "execution_count": 58,
     "metadata": {},
     "output_type": "execute_result"
    }
   ],
   "source": [
    "data = {'name': ['Jason', 'Molly', 'Tina', 'Jake', 'Amy'], \n",
    "        'year': [2012, 2012, 2013, 2014, 2014], \n",
    "        'reports': [4, 24, 31, 2, 3],\n",
    "        'coverage': [25, 94, 57, 62, 70]}\n",
    "df = pd.DataFrame(data, index = ['Cochice', 'Pima', 'Santa Cruz', 'Maricopa', 'Yuma'])\n",
    "df"
   ]
  },
  {
   "cell_type": "markdown",
   "metadata": {},
   "source": [
    "**Find rows where `coverage` is greater than 50**"
   ]
  },
  {
   "cell_type": "code",
   "execution_count": 59,
   "metadata": {},
   "outputs": [
    {
     "data": {
      "text/html": [
       "<div>\n",
       "<style scoped>\n",
       "    .dataframe tbody tr th:only-of-type {\n",
       "        vertical-align: middle;\n",
       "    }\n",
       "\n",
       "    .dataframe tbody tr th {\n",
       "        vertical-align: top;\n",
       "    }\n",
       "\n",
       "    .dataframe thead th {\n",
       "        text-align: right;\n",
       "    }\n",
       "</style>\n",
       "<table border=\"1\" class=\"dataframe\">\n",
       "  <thead>\n",
       "    <tr style=\"text-align: right;\">\n",
       "      <th></th>\n",
       "      <th>name</th>\n",
       "      <th>year</th>\n",
       "      <th>reports</th>\n",
       "      <th>coverage</th>\n",
       "    </tr>\n",
       "  </thead>\n",
       "  <tbody>\n",
       "    <tr>\n",
       "      <th>Pima</th>\n",
       "      <td>Molly</td>\n",
       "      <td>2012</td>\n",
       "      <td>24</td>\n",
       "      <td>94</td>\n",
       "    </tr>\n",
       "    <tr>\n",
       "      <th>Santa Cruz</th>\n",
       "      <td>Tina</td>\n",
       "      <td>2013</td>\n",
       "      <td>31</td>\n",
       "      <td>57</td>\n",
       "    </tr>\n",
       "    <tr>\n",
       "      <th>Maricopa</th>\n",
       "      <td>Jake</td>\n",
       "      <td>2014</td>\n",
       "      <td>2</td>\n",
       "      <td>62</td>\n",
       "    </tr>\n",
       "    <tr>\n",
       "      <th>Yuma</th>\n",
       "      <td>Amy</td>\n",
       "      <td>2014</td>\n",
       "      <td>3</td>\n",
       "      <td>70</td>\n",
       "    </tr>\n",
       "  </tbody>\n",
       "</table>\n",
       "</div>"
      ],
      "text/plain": [
       "             name  year  reports  coverage\n",
       "Pima        Molly  2012       24        94\n",
       "Santa Cruz   Tina  2013       31        57\n",
       "Maricopa     Jake  2014        2        62\n",
       "Yuma          Amy  2014        3        70"
      ]
     },
     "execution_count": 59,
     "metadata": {},
     "output_type": "execute_result"
    }
   ],
   "source": [
    "df[df['coverage'] > 50] # notice the boolean expression within the brackets"
   ]
  },
  {
   "cell_type": "markdown",
   "metadata": {},
   "source": [
    "**A complex filtering expression**"
   ]
  },
  {
   "cell_type": "code",
   "execution_count": null,
   "metadata": {},
   "outputs": [],
   "source": [
    "df[(df['coverage']  > 50) & (df['reports'] < 4)] # two combined boolean expressions"
   ]
  },
  {
   "cell_type": "markdown",
   "metadata": {},
   "source": [
    "**Note:** The operation above used the operator `&` to combine two boolean expressions, that is different from Python's expressions that use the operator `&&`."
   ]
  },
  {
   "cell_type": "markdown",
   "metadata": {},
   "source": [
    "<a id=\"sec15\"></a>\n",
    "## 15. Replacing values\n",
    "\n",
    "Sometimes, we want to replace many values at once. That is easy to do with the `replace` method."
   ]
  },
  {
   "cell_type": "code",
   "execution_count": 60,
   "metadata": {},
   "outputs": [
    {
     "data": {
      "text/html": [
       "<div>\n",
       "<style scoped>\n",
       "    .dataframe tbody tr th:only-of-type {\n",
       "        vertical-align: middle;\n",
       "    }\n",
       "\n",
       "    .dataframe tbody tr th {\n",
       "        vertical-align: top;\n",
       "    }\n",
       "\n",
       "    .dataframe thead th {\n",
       "        text-align: right;\n",
       "    }\n",
       "</style>\n",
       "<table border=\"1\" class=\"dataframe\">\n",
       "  <thead>\n",
       "    <tr style=\"text-align: right;\">\n",
       "      <th></th>\n",
       "      <th>first_name</th>\n",
       "      <th>last_name</th>\n",
       "      <th>age</th>\n",
       "      <th>preTestScore</th>\n",
       "      <th>postTestScore</th>\n",
       "    </tr>\n",
       "  </thead>\n",
       "  <tbody>\n",
       "    <tr>\n",
       "      <th>0</th>\n",
       "      <td>Jason</td>\n",
       "      <td>Miller</td>\n",
       "      <td>42</td>\n",
       "      <td>-999</td>\n",
       "      <td>2</td>\n",
       "    </tr>\n",
       "    <tr>\n",
       "      <th>1</th>\n",
       "      <td>Molly</td>\n",
       "      <td>Jacobson</td>\n",
       "      <td>52</td>\n",
       "      <td>-999</td>\n",
       "      <td>2</td>\n",
       "    </tr>\n",
       "    <tr>\n",
       "      <th>2</th>\n",
       "      <td>Tina</td>\n",
       "      <td>Ali</td>\n",
       "      <td>36</td>\n",
       "      <td>-999</td>\n",
       "      <td>-999</td>\n",
       "    </tr>\n",
       "    <tr>\n",
       "      <th>3</th>\n",
       "      <td>Jake</td>\n",
       "      <td>Milner</td>\n",
       "      <td>24</td>\n",
       "      <td>2</td>\n",
       "      <td>2</td>\n",
       "    </tr>\n",
       "    <tr>\n",
       "      <th>4</th>\n",
       "      <td>Amy</td>\n",
       "      <td>Cooze</td>\n",
       "      <td>73</td>\n",
       "      <td>1</td>\n",
       "      <td>-999</td>\n",
       "    </tr>\n",
       "  </tbody>\n",
       "</table>\n",
       "</div>"
      ],
      "text/plain": [
       "  first_name last_name  age  preTestScore  postTestScore\n",
       "0      Jason    Miller   42          -999              2\n",
       "1      Molly  Jacobson   52          -999              2\n",
       "2       Tina       Ali   36          -999           -999\n",
       "3       Jake    Milner   24             2              2\n",
       "4        Amy     Cooze   73             1           -999"
      ]
     },
     "execution_count": 60,
     "metadata": {},
     "output_type": "execute_result"
    }
   ],
   "source": [
    "raw_data = {'first_name': ['Jason', 'Molly', 'Tina', 'Jake', 'Amy'], \n",
    "        'last_name': ['Miller', 'Jacobson', 'Ali', 'Milner', 'Cooze'], \n",
    "        'age': [42, 52, 36, 24, 73], \n",
    "        'preTestScore': [-999, -999, -999, 2, 1],\n",
    "        'postTestScore': [2, 2, -999, 2, -999]}\n",
    "df = pd.DataFrame(raw_data)\n",
    "                  \n",
    "df"
   ]
  },
  {
   "cell_type": "code",
   "execution_count": 61,
   "metadata": {},
   "outputs": [
    {
     "data": {
      "text/html": [
       "<div>\n",
       "<style scoped>\n",
       "    .dataframe tbody tr th:only-of-type {\n",
       "        vertical-align: middle;\n",
       "    }\n",
       "\n",
       "    .dataframe tbody tr th {\n",
       "        vertical-align: top;\n",
       "    }\n",
       "\n",
       "    .dataframe thead th {\n",
       "        text-align: right;\n",
       "    }\n",
       "</style>\n",
       "<table border=\"1\" class=\"dataframe\">\n",
       "  <thead>\n",
       "    <tr style=\"text-align: right;\">\n",
       "      <th></th>\n",
       "      <th>first_name</th>\n",
       "      <th>last_name</th>\n",
       "      <th>age</th>\n",
       "      <th>preTestScore</th>\n",
       "      <th>postTestScore</th>\n",
       "    </tr>\n",
       "  </thead>\n",
       "  <tbody>\n",
       "    <tr>\n",
       "      <th>0</th>\n",
       "      <td>Jason</td>\n",
       "      <td>Miller</td>\n",
       "      <td>42</td>\n",
       "      <td>NaN</td>\n",
       "      <td>2.0</td>\n",
       "    </tr>\n",
       "    <tr>\n",
       "      <th>1</th>\n",
       "      <td>Molly</td>\n",
       "      <td>Jacobson</td>\n",
       "      <td>52</td>\n",
       "      <td>NaN</td>\n",
       "      <td>2.0</td>\n",
       "    </tr>\n",
       "    <tr>\n",
       "      <th>2</th>\n",
       "      <td>Tina</td>\n",
       "      <td>Ali</td>\n",
       "      <td>36</td>\n",
       "      <td>NaN</td>\n",
       "      <td>NaN</td>\n",
       "    </tr>\n",
       "    <tr>\n",
       "      <th>3</th>\n",
       "      <td>Jake</td>\n",
       "      <td>Milner</td>\n",
       "      <td>24</td>\n",
       "      <td>2.0</td>\n",
       "      <td>2.0</td>\n",
       "    </tr>\n",
       "    <tr>\n",
       "      <th>4</th>\n",
       "      <td>Amy</td>\n",
       "      <td>Cooze</td>\n",
       "      <td>73</td>\n",
       "      <td>1.0</td>\n",
       "      <td>NaN</td>\n",
       "    </tr>\n",
       "  </tbody>\n",
       "</table>\n",
       "</div>"
      ],
      "text/plain": [
       "  first_name last_name  age  preTestScore  postTestScore\n",
       "0      Jason    Miller   42           NaN            2.0\n",
       "1      Molly  Jacobson   52           NaN            2.0\n",
       "2       Tina       Ali   36           NaN            NaN\n",
       "3       Jake    Milner   24           2.0            2.0\n",
       "4        Amy     Cooze   73           1.0            NaN"
      ]
     },
     "execution_count": 61,
     "metadata": {},
     "output_type": "execute_result"
    }
   ],
   "source": [
    "df.replace(-999, np.nan) # np.nan means \"Not a Number\", a common way of denoting missing values in a dataset"
   ]
  },
  {
   "cell_type": "markdown",
   "metadata": {},
   "source": [
    "As always though, this method returns a new dataframe. If you want to save the changes, you can either:\n",
    "- store the result into a new variable\n",
    "- use the `inplace` parameter to change the exisiting datafram"
   ]
  },
  {
   "cell_type": "markdown",
   "metadata": {},
   "source": [
    "<a id=\"sec16\"></a>\n",
    "## 16. Dropping values\n",
    "\n",
    "We might want to drop entire columns or rows, we can do that with the method `drop`. Study its documentation to learn about its different parameters."
   ]
  },
  {
   "cell_type": "code",
   "execution_count": 62,
   "metadata": {},
   "outputs": [
    {
     "data": {
      "text/html": [
       "<div>\n",
       "<style scoped>\n",
       "    .dataframe tbody tr th:only-of-type {\n",
       "        vertical-align: middle;\n",
       "    }\n",
       "\n",
       "    .dataframe tbody tr th {\n",
       "        vertical-align: top;\n",
       "    }\n",
       "\n",
       "    .dataframe thead th {\n",
       "        text-align: right;\n",
       "    }\n",
       "</style>\n",
       "<table border=\"1\" class=\"dataframe\">\n",
       "  <thead>\n",
       "    <tr style=\"text-align: right;\">\n",
       "      <th></th>\n",
       "      <th>name</th>\n",
       "      <th>year</th>\n",
       "      <th>reports</th>\n",
       "    </tr>\n",
       "  </thead>\n",
       "  <tbody>\n",
       "    <tr>\n",
       "      <th>Cochice</th>\n",
       "      <td>Jason</td>\n",
       "      <td>2012</td>\n",
       "      <td>4</td>\n",
       "    </tr>\n",
       "    <tr>\n",
       "      <th>Pima</th>\n",
       "      <td>Molly</td>\n",
       "      <td>2012</td>\n",
       "      <td>24</td>\n",
       "    </tr>\n",
       "    <tr>\n",
       "      <th>Santa Cruz</th>\n",
       "      <td>Tina</td>\n",
       "      <td>2013</td>\n",
       "      <td>31</td>\n",
       "    </tr>\n",
       "    <tr>\n",
       "      <th>Maricopa</th>\n",
       "      <td>Jake</td>\n",
       "      <td>2014</td>\n",
       "      <td>2</td>\n",
       "    </tr>\n",
       "    <tr>\n",
       "      <th>Yuma</th>\n",
       "      <td>Amy</td>\n",
       "      <td>2014</td>\n",
       "      <td>3</td>\n",
       "    </tr>\n",
       "  </tbody>\n",
       "</table>\n",
       "</div>"
      ],
      "text/plain": [
       "             name  year  reports\n",
       "Cochice     Jason  2012        4\n",
       "Pima        Molly  2012       24\n",
       "Santa Cruz   Tina  2013       31\n",
       "Maricopa     Jake  2014        2\n",
       "Yuma          Amy  2014        3"
      ]
     },
     "execution_count": 62,
     "metadata": {},
     "output_type": "execute_result"
    }
   ],
   "source": [
    "data = {'name': ['Jason', 'Molly', 'Tina', 'Jake', 'Amy'], \n",
    "        'year': [2012, 2012, 2013, 2014, 2014], \n",
    "        'reports': [4, 24, 31, 2, 3]}\n",
    "df = pd.DataFrame(data, index = ['Cochice', 'Pima', 'Santa Cruz', 'Maricopa', 'Yuma'])\n",
    "df"
   ]
  },
  {
   "cell_type": "markdown",
   "metadata": {},
   "source": [
    "**Drop rows (observations)**"
   ]
  },
  {
   "cell_type": "code",
   "execution_count": 63,
   "metadata": {},
   "outputs": [
    {
     "data": {
      "text/html": [
       "<div>\n",
       "<style scoped>\n",
       "    .dataframe tbody tr th:only-of-type {\n",
       "        vertical-align: middle;\n",
       "    }\n",
       "\n",
       "    .dataframe tbody tr th {\n",
       "        vertical-align: top;\n",
       "    }\n",
       "\n",
       "    .dataframe thead th {\n",
       "        text-align: right;\n",
       "    }\n",
       "</style>\n",
       "<table border=\"1\" class=\"dataframe\">\n",
       "  <thead>\n",
       "    <tr style=\"text-align: right;\">\n",
       "      <th></th>\n",
       "      <th>name</th>\n",
       "      <th>year</th>\n",
       "      <th>reports</th>\n",
       "    </tr>\n",
       "  </thead>\n",
       "  <tbody>\n",
       "    <tr>\n",
       "      <th>Santa Cruz</th>\n",
       "      <td>Tina</td>\n",
       "      <td>2013</td>\n",
       "      <td>31</td>\n",
       "    </tr>\n",
       "    <tr>\n",
       "      <th>Maricopa</th>\n",
       "      <td>Jake</td>\n",
       "      <td>2014</td>\n",
       "      <td>2</td>\n",
       "    </tr>\n",
       "    <tr>\n",
       "      <th>Yuma</th>\n",
       "      <td>Amy</td>\n",
       "      <td>2014</td>\n",
       "      <td>3</td>\n",
       "    </tr>\n",
       "  </tbody>\n",
       "</table>\n",
       "</div>"
      ],
      "text/plain": [
       "            name  year  reports\n",
       "Santa Cruz  Tina  2013       31\n",
       "Maricopa    Jake  2014        2\n",
       "Yuma         Amy  2014        3"
      ]
     },
     "execution_count": 63,
     "metadata": {},
     "output_type": "execute_result"
    }
   ],
   "source": [
    "df.drop(['Cochice', 'Pima'])"
   ]
  },
  {
   "cell_type": "markdown",
   "metadata": {},
   "source": [
    "**Drop columns(variables)**"
   ]
  },
  {
   "cell_type": "code",
   "execution_count": 64,
   "metadata": {},
   "outputs": [
    {
     "data": {
      "text/html": [
       "<div>\n",
       "<style scoped>\n",
       "    .dataframe tbody tr th:only-of-type {\n",
       "        vertical-align: middle;\n",
       "    }\n",
       "\n",
       "    .dataframe tbody tr th {\n",
       "        vertical-align: top;\n",
       "    }\n",
       "\n",
       "    .dataframe thead th {\n",
       "        text-align: right;\n",
       "    }\n",
       "</style>\n",
       "<table border=\"1\" class=\"dataframe\">\n",
       "  <thead>\n",
       "    <tr style=\"text-align: right;\">\n",
       "      <th></th>\n",
       "      <th>name</th>\n",
       "      <th>year</th>\n",
       "    </tr>\n",
       "  </thead>\n",
       "  <tbody>\n",
       "    <tr>\n",
       "      <th>Cochice</th>\n",
       "      <td>Jason</td>\n",
       "      <td>2012</td>\n",
       "    </tr>\n",
       "    <tr>\n",
       "      <th>Pima</th>\n",
       "      <td>Molly</td>\n",
       "      <td>2012</td>\n",
       "    </tr>\n",
       "    <tr>\n",
       "      <th>Santa Cruz</th>\n",
       "      <td>Tina</td>\n",
       "      <td>2013</td>\n",
       "    </tr>\n",
       "    <tr>\n",
       "      <th>Maricopa</th>\n",
       "      <td>Jake</td>\n",
       "      <td>2014</td>\n",
       "    </tr>\n",
       "    <tr>\n",
       "      <th>Yuma</th>\n",
       "      <td>Amy</td>\n",
       "      <td>2014</td>\n",
       "    </tr>\n",
       "  </tbody>\n",
       "</table>\n",
       "</div>"
      ],
      "text/plain": [
       "             name  year\n",
       "Cochice     Jason  2012\n",
       "Pima        Molly  2012\n",
       "Santa Cruz   Tina  2013\n",
       "Maricopa     Jake  2014\n",
       "Yuma          Amy  2014"
      ]
     },
     "execution_count": 64,
     "metadata": {},
     "output_type": "execute_result"
    }
   ],
   "source": [
    "df.drop('reports', axis=1) # axis=1 denotes that we are referring to a column, not a row"
   ]
  },
  {
   "cell_type": "markdown",
   "metadata": {},
   "source": [
    "**Note:** Both examples above didn't change the original frame. To do that, use `inplace=True`."
   ]
  },
  {
   "cell_type": "markdown",
   "metadata": {},
   "source": [
    "<a id=\"sec17\"></a>\n",
    "## 17. A simple `groupby` example\n",
    "\n",
    "This is just a simple taste of this powerful method. We will keep talking about it in future assignments."
   ]
  },
  {
   "cell_type": "code",
   "execution_count": 65,
   "metadata": {},
   "outputs": [
    {
     "data": {
      "text/html": [
       "<div>\n",
       "<style scoped>\n",
       "    .dataframe tbody tr th:only-of-type {\n",
       "        vertical-align: middle;\n",
       "    }\n",
       "\n",
       "    .dataframe tbody tr th {\n",
       "        vertical-align: top;\n",
       "    }\n",
       "\n",
       "    .dataframe thead th {\n",
       "        text-align: right;\n",
       "    }\n",
       "</style>\n",
       "<table border=\"1\" class=\"dataframe\">\n",
       "  <thead>\n",
       "    <tr style=\"text-align: right;\">\n",
       "      <th></th>\n",
       "      <th>regiment</th>\n",
       "      <th>company</th>\n",
       "      <th>name</th>\n",
       "      <th>preTestScore</th>\n",
       "      <th>postTestScore</th>\n",
       "    </tr>\n",
       "  </thead>\n",
       "  <tbody>\n",
       "    <tr>\n",
       "      <th>0</th>\n",
       "      <td>Nighthawks</td>\n",
       "      <td>1st</td>\n",
       "      <td>Miller</td>\n",
       "      <td>4</td>\n",
       "      <td>25</td>\n",
       "    </tr>\n",
       "    <tr>\n",
       "      <th>1</th>\n",
       "      <td>Nighthawks</td>\n",
       "      <td>1st</td>\n",
       "      <td>Jacobson</td>\n",
       "      <td>24</td>\n",
       "      <td>94</td>\n",
       "    </tr>\n",
       "    <tr>\n",
       "      <th>2</th>\n",
       "      <td>Nighthawks</td>\n",
       "      <td>2nd</td>\n",
       "      <td>Ali</td>\n",
       "      <td>31</td>\n",
       "      <td>57</td>\n",
       "    </tr>\n",
       "    <tr>\n",
       "      <th>3</th>\n",
       "      <td>Nighthawks</td>\n",
       "      <td>2nd</td>\n",
       "      <td>Milner</td>\n",
       "      <td>2</td>\n",
       "      <td>62</td>\n",
       "    </tr>\n",
       "    <tr>\n",
       "      <th>4</th>\n",
       "      <td>Dragoons</td>\n",
       "      <td>1st</td>\n",
       "      <td>Cooze</td>\n",
       "      <td>3</td>\n",
       "      <td>70</td>\n",
       "    </tr>\n",
       "    <tr>\n",
       "      <th>5</th>\n",
       "      <td>Dragoons</td>\n",
       "      <td>1st</td>\n",
       "      <td>Jacon</td>\n",
       "      <td>4</td>\n",
       "      <td>25</td>\n",
       "    </tr>\n",
       "    <tr>\n",
       "      <th>6</th>\n",
       "      <td>Dragoons</td>\n",
       "      <td>2nd</td>\n",
       "      <td>Ryaner</td>\n",
       "      <td>24</td>\n",
       "      <td>94</td>\n",
       "    </tr>\n",
       "    <tr>\n",
       "      <th>7</th>\n",
       "      <td>Dragoons</td>\n",
       "      <td>2nd</td>\n",
       "      <td>Sone</td>\n",
       "      <td>31</td>\n",
       "      <td>57</td>\n",
       "    </tr>\n",
       "    <tr>\n",
       "      <th>8</th>\n",
       "      <td>Scouts</td>\n",
       "      <td>1st</td>\n",
       "      <td>Sloan</td>\n",
       "      <td>2</td>\n",
       "      <td>62</td>\n",
       "    </tr>\n",
       "    <tr>\n",
       "      <th>9</th>\n",
       "      <td>Scouts</td>\n",
       "      <td>1st</td>\n",
       "      <td>Piger</td>\n",
       "      <td>3</td>\n",
       "      <td>70</td>\n",
       "    </tr>\n",
       "    <tr>\n",
       "      <th>10</th>\n",
       "      <td>Scouts</td>\n",
       "      <td>2nd</td>\n",
       "      <td>Riani</td>\n",
       "      <td>2</td>\n",
       "      <td>62</td>\n",
       "    </tr>\n",
       "    <tr>\n",
       "      <th>11</th>\n",
       "      <td>Scouts</td>\n",
       "      <td>2nd</td>\n",
       "      <td>Ali</td>\n",
       "      <td>3</td>\n",
       "      <td>70</td>\n",
       "    </tr>\n",
       "  </tbody>\n",
       "</table>\n",
       "</div>"
      ],
      "text/plain": [
       "      regiment company      name  preTestScore  postTestScore\n",
       "0   Nighthawks     1st    Miller             4             25\n",
       "1   Nighthawks     1st  Jacobson            24             94\n",
       "2   Nighthawks     2nd       Ali            31             57\n",
       "3   Nighthawks     2nd    Milner             2             62\n",
       "4     Dragoons     1st     Cooze             3             70\n",
       "5     Dragoons     1st     Jacon             4             25\n",
       "6     Dragoons     2nd    Ryaner            24             94\n",
       "7     Dragoons     2nd      Sone            31             57\n",
       "8       Scouts     1st     Sloan             2             62\n",
       "9       Scouts     1st     Piger             3             70\n",
       "10      Scouts     2nd     Riani             2             62\n",
       "11      Scouts     2nd       Ali             3             70"
      ]
     },
     "execution_count": 65,
     "metadata": {},
     "output_type": "execute_result"
    }
   ],
   "source": [
    "# Example dataframe\n",
    "raw_data = {'regiment': ['Nighthawks', 'Nighthawks', 'Nighthawks', 'Nighthawks', 'Dragoons', 'Dragoons', 'Dragoons', 'Dragoons', 'Scouts', 'Scouts', 'Scouts', 'Scouts'], \n",
    "        'company': ['1st', '1st', '2nd', '2nd', '1st', '1st', '2nd', '2nd','1st', '1st', '2nd', '2nd'], \n",
    "        'name': ['Miller', 'Jacobson', 'Ali', 'Milner', 'Cooze', 'Jacon', 'Ryaner', 'Sone', 'Sloan', 'Piger', 'Riani', 'Ali'], \n",
    "        'preTestScore': [4, 24, 31, 2, 3, 4, 24, 31, 2, 3, 2, 3],\n",
    "        'postTestScore': [25, 94, 57, 62, 70, 25, 94, 57, 62, 70, 62, 70]}\n",
    "df = pd.DataFrame(raw_data, columns = ['regiment', 'company', 'name', 'preTestScore', 'postTestScore'])\n",
    "df"
   ]
  },
  {
   "cell_type": "code",
   "execution_count": 66,
   "metadata": {},
   "outputs": [
    {
     "data": {
      "text/plain": [
       "<pandas.core.groupby.generic.SeriesGroupBy object at 0x119062dd0>"
      ]
     },
     "execution_count": 66,
     "metadata": {},
     "output_type": "execute_result"
    }
   ],
   "source": [
    "# Create a grouping object. In other words, create an object that\n",
    "# represents that particular grouping. In this case we group\n",
    "# pre-test scores by the regiment.\n",
    "regiment_preScore = df['preTestScore'].groupby(df['regiment'])\n",
    "regiment_preScore"
   ]
  },
  {
   "cell_type": "code",
   "execution_count": 67,
   "metadata": {},
   "outputs": [
    {
     "data": {
      "text/plain": [
       "regiment\n",
       "Dragoons      15.50\n",
       "Nighthawks    15.25\n",
       "Scouts         2.50\n",
       "Name: preTestScore, dtype: float64"
      ]
     },
     "execution_count": 67,
     "metadata": {},
     "output_type": "execute_result"
    }
   ],
   "source": [
    "# Display the mean value of the each regiment's pre-test score\n",
    "regiment_preScore.mean()"
   ]
  },
  {
   "cell_type": "code",
   "execution_count": 68,
   "metadata": {},
   "outputs": [
    {
     "data": {
      "text/plain": [
       "regiment\n",
       "Dragoons      31\n",
       "Nighthawks    31\n",
       "Scouts         3\n",
       "Name: preTestScore, dtype: int64"
      ]
     },
     "execution_count": 68,
     "metadata": {},
     "output_type": "execute_result"
    }
   ],
   "source": [
    "# Display the max value of the each regiment's pre-test score\n",
    "regiment_preScore.max()"
   ]
  },
  {
   "cell_type": "code",
   "execution_count": 69,
   "metadata": {},
   "outputs": [
    {
     "data": {
      "text/plain": [
       "regiment\n",
       "Dragoons      4\n",
       "Nighthawks    4\n",
       "Scouts        4\n",
       "Name: preTestScore, dtype: int64"
      ]
     },
     "execution_count": 69,
     "metadata": {},
     "output_type": "execute_result"
    }
   ],
   "source": [
    "# Display the total count of the each regiment\n",
    "regiment_preScore.count()"
   ]
  },
  {
   "cell_type": "markdown",
   "metadata": {},
   "source": [
    "The idea is that once we have grouped the data by a certain variable, we can apply many variuos statistical operations to the groups.\n",
    "\n",
    "For a very detailed and long explanation of `groupBy`, you can read [this page](https://pandas.pydata.org/pandas-docs/stable/user_guide/groupby.html)."
   ]
  },
  {
   "cell_type": "code",
   "execution_count": null,
   "metadata": {},
   "outputs": [],
   "source": []
  }
 ],
 "metadata": {
  "kernelspec": {
   "display_name": "Python 3 (ipykernel)",
   "language": "python",
   "name": "python3"
  },
  "language_info": {
   "codemirror_mode": {
    "name": "ipython",
    "version": 3
   },
   "file_extension": ".py",
   "mimetype": "text/x-python",
   "name": "python",
   "nbconvert_exporter": "python",
   "pygments_lexer": "ipython3",
   "version": "3.11.5"
  }
 },
 "nbformat": 4,
 "nbformat_minor": 4
}
