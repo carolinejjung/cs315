{
 "cells": [
  {
   "cell_type": "markdown",
   "id": "6a65aa27-1d4e-45c0-91cb-16ccd7eb91c6",
   "metadata": {},
   "source": [
    "# Practice 1 for Python"
   ]
  },
  {
   "cell_type": "markdown",
   "id": "b11ffc21-32d6-4aab-9fc7-9226970f7300",
   "metadata": {},
   "source": [
    "##### Use the csv library to write some data into a CSV file - create data"
   ]
  },
  {
   "cell_type": "code",
   "execution_count": 1,
   "id": "daf0c137-4e96-4f44-b618-819f77e9821e",
   "metadata": {},
   "outputs": [],
   "source": [
    "import csv\n",
    "newdata = [{'Title': 'Back Door', 'Artist': 'Stray Kids', 'Views': 345462761, 'Year': 2020},\n",
    "           {'Title': 'DASH', 'Artist': 'NMIXX', 'Views': 21813949, 'Year': 2024},\n",
    "           {'Title': 'MANIAC', 'Artist': 'VIVIZ', 'Views': 11652154, 'Year' : 2023},\n",
    "           {'Title': 'View', 'Artist': 'SHINee', 'Views': 64111719, 'Year': 2015},\n",
    "           {'Title': 'I AM', 'Artist': 'IVE', 'Views': 208168309, 'Year': 2023},\n",
    "           {'Title': 'ON', 'Artist': 'BTS', 'Views': 590926064, 'Year': 2020},\n",
    "           {'Title': 'Super', 'Artist': 'SEVENTEEN', 'Views': 174740544, 'Year': 2023}]\n",
    "\n",
    "with open(\"songs.csv\", 'w') as fileToWrite:\n",
    "    csvWriter = csv.DictWriter(fileToWrite, \n",
    "                               fieldnames=newdata[0].keys()) # get the key names as column names   \n",
    "    csvWriter.writeheader() # write the column names\n",
    "    csvWriter.writerows(newdata) # write all rows"
   ]
  },
  {
   "cell_type": "markdown",
   "id": "f085fce8-9962-4368-87d1-d546375c0947",
   "metadata": {},
   "source": [
    "##### Then, use csv and jinja2 to convert that information into an HTML file. Upload that file into the server"
   ]
  },
  {
   "cell_type": "code",
   "execution_count": 2,
   "id": "2a62b40f-c8e7-4019-bd13-74eeff90cd11",
   "metadata": {},
   "outputs": [
    {
     "name": "stdout",
     "output_type": "stream",
     "text": [
      "\n",
      "<DOCTYPE html>\n",
      "<html>\n",
      "    <head><title>Some songs on YouTube</title></head>\n",
      "    <body>\n",
      "        <h1>Some songs on YouTube</h1>\n",
      "        <ul>\n",
      "        \n",
      "            <li class=\"songs\"> <span class=\"title\">Back Door</span> by \n",
      "            <span class=\"artist\">Stray Kids</span> was released in \n",
      "            <span class=\"year\"> 2020 </span> and has \n",
      "            <span class=\"views\"> 345462761</span> views.</li> \n",
      "        \n",
      "            <li class=\"songs\"> <span class=\"title\">DASH</span> by \n",
      "            <span class=\"artist\">NMIXX</span> was released in \n",
      "            <span class=\"year\"> 2024 </span> and has \n",
      "            <span class=\"views\"> 21813949</span> views.</li> \n",
      "        \n",
      "            <li class=\"songs\"> <span class=\"title\">MANIAC</span> by \n",
      "            <span class=\"artist\">VIVIZ</span> was released in \n",
      "            <span class=\"year\"> 2023 </span> and has \n",
      "            <span class=\"views\"> 11652154</span> views.</li> \n",
      "        \n",
      "            <li class=\"songs\"> <span class=\"title\">View</span> by \n",
      "            <span class=\"artist\">SHINee</span> was released in \n",
      "            <span class=\"year\"> 2015 </span> and has \n",
      "            <span class=\"views\"> 64111719</span> views.</li> \n",
      "        \n",
      "            <li class=\"songs\"> <span class=\"title\">I AM</span> by \n",
      "            <span class=\"artist\">IVE</span> was released in \n",
      "            <span class=\"year\"> 2023 </span> and has \n",
      "            <span class=\"views\"> 208168309</span> views.</li> \n",
      "        \n",
      "            <li class=\"songs\"> <span class=\"title\">ON</span> by \n",
      "            <span class=\"artist\">BTS</span> was released in \n",
      "            <span class=\"year\"> 2020 </span> and has \n",
      "            <span class=\"views\"> 590926064</span> views.</li> \n",
      "        \n",
      "            <li class=\"songs\"> <span class=\"title\">Super</span> by \n",
      "            <span class=\"artist\">SEVENTEEN</span> was released in \n",
      "            <span class=\"year\"> 2023 </span> and has \n",
      "            <span class=\"views\"> 174740544</span> views.</li> \n",
      "        \n",
      "        </ul>\n",
      "    </body>\n",
      "</html>\n"
     ]
    }
   ],
   "source": [
    "from jinja2 import Template\n",
    "\n",
    "# Step 1: Read the content from CSV as a list of dictionaries\n",
    "with open(\"songs.csv\") as fileToRead:     \n",
    "    csvReader = csv.DictReader(fileToRead) \n",
    "    songs = [row for row in csvReader] \n",
    "\n",
    "# Step 2: Create the HTML template\n",
    "htmlTemplate = \"\"\"\n",
    "<DOCTYPE html>\n",
    "<html>\n",
    "    <head><title>Some songs on YouTube</title></head>\n",
    "    <body>\n",
    "        <h1>Some songs on YouTube</h1>\n",
    "        <ul>\n",
    "        {% for st in songList %}\n",
    "            <li class=\"songs\"> <span class=\"title\">{{st['Title']}}</span> by \n",
    "            <span class=\"artist\">{{st['Artist']}}</span> was released in \n",
    "            <span class=\"year\"> {{st['Year']}} </span> and has \n",
    "            <span class=\"views\"> {{st['Views']}}</span> views.</li> \n",
    "        {% endfor %}\n",
    "        </ul>\n",
    "    </body>\n",
    "</html>\n",
    "\"\"\"\n",
    "tempObj = Template(htmlTemplate)\n",
    "\n",
    "# Step 3: Render the template by passing as an argument the list of objects.\n",
    "result = tempObj.render(songList=songs)\n",
    "print(result)\n",
    "\n",
    "with open('songs.html', 'w') as outFile:\n",
    "    outFile.write(result)"
   ]
  },
  {
   "cell_type": "markdown",
   "id": "b28b7d7c-0786-4d7f-a1c9-35ca63b3e898",
   "metadata": {},
   "source": [
    "##### Pair up with a peer to exchange URLs of the files you created"
   ]
  },
  {
   "cell_type": "code",
   "execution_count": 3,
   "id": "5295a9ea-9054-43ab-9644-f4eb368f0c1b",
   "metadata": {
    "scrolled": true
   },
   "outputs": [],
   "source": [
    "#my url for reference = \"https://cs.wellesley.edu/~cj104/songs.html\"\n",
    "url = \"https://cs.wellesley.edu/~tr100/events.html\""
   ]
  },
  {
   "cell_type": "markdown",
   "id": "29aba3e1-eaf8-45ec-820b-ffbfcacdcd99",
   "metadata": {},
   "source": [
    "##### Write code to get the friend’s file onto your computer and use beautifulsoup to extract the content of what your friend has written, and then save that content into a JSON file (as a dictionary of values)."
   ]
  },
  {
   "cell_type": "code",
   "execution_count": 4,
   "id": "e147be68-867e-4e0a-b695-081dcaae90d9",
   "metadata": {},
   "outputs": [
    {
     "name": "stdout",
     "output_type": "stream",
     "text": [
      "\n",
      "<doctype html=\"\">\n",
      "<html>\n",
      "<head><title>SIDI Events</title></head>\n",
      "<body>\n",
      "<h1>SIDI Spring 2024 Events</h1>\n",
      "<ul>\n",
      "<li class=\"event\">What: <span class=\"what\">Love Data Week: Happy Hour w/ SIDI</span>, When: <span class=\"when\">February 15 at 4pm</span>, Where: <span class=\"where\">Sci Hub</span></li>\n",
      "<li class=\"event\">What: <span class=\"what\">Love Data Week: Python Workshop</span>, When: <span class=\"when\">February 16 at 2pm</span>, Where: <span class=\"where\">Sci H102</span></li>\n",
      "<li class=\"event\">What: <span class=\"what\">First-Year Bonding</span>, When: <span class=\"when\">February 25 at 3pm</span>, Where: <span class=\"where\">Sci L035</span></li>\n",
      "<li class=\"event\">What: <span class=\"what\">Spring Fundraiser</span>, When: <span class=\"when\">March 8 at 1pm</span>, Where: <span class=\"where\">Lulu 2nd Floor</span></li>\n",
      "</ul>\n",
      "<p style=\"color:DarkBlue;\">Questions? Email tr100 or cj104</p>\n",
      "</body>\n",
      "</html></doctype>\n"
     ]
    }
   ],
   "source": [
    "import requests\n",
    "import json\n",
    "from bs4 import BeautifulSoup as BS\n",
    "\n",
    "def getHTMLPage(url):\n",
    "    \"\"\"Given a url, get the HTML page content\"\"\"\n",
    "    response = requests.get(url)\n",
    "    if response.status_code == 200:\n",
    "        return response.text\n",
    "    else:\n",
    "        print(\"Failure resaon:\", response.reason)\n",
    "        return\n",
    "\n",
    "htmlPage = getHTMLPage(url)\n",
    "domTree = BS(htmlPage, 'html.parser')\n",
    "\n",
    "print(domTree) #the html contents"
   ]
  },
  {
   "cell_type": "markdown",
   "id": "72c1f15a-854a-4a9f-a15c-f9ecc44331c2",
   "metadata": {},
   "source": [
    "##### saving into json file part"
   ]
  },
  {
   "cell_type": "code",
   "execution_count": 65,
   "id": "06eed136-8184-4c3c-9fee-cf251ccd7611",
   "metadata": {},
   "outputs": [
    {
     "name": "stdout",
     "output_type": "stream",
     "text": [
      "[{'What': 'Love Data Week: Happy Hour w/ SIDI', 'When': 'February 15 at 4pm', 'Where': 'Sci Hub'}, {'What': 'Love Data Week: Python Workshop', 'When': 'February 16 at 2pm', 'Where': 'Sci H102'}, {'What': 'First-Year Bonding', 'When': 'February 25 at 3pm', 'Where': 'Sci L035'}, {'What': 'Spring Fundraiser', 'When': 'March 8 at 1pm', 'Where': 'Lulu 2nd Floor'}]\n"
     ]
    }
   ],
   "source": [
    "#parse data into list of dictionaries\n",
    "parsed = []\n",
    "\n",
    "nrows = len(domTree.find_all('li'))\n",
    "for i in range(nrows):\n",
    "    row = domTree.find_all('li')[i]\n",
    "    what_val = row.find('span', class_=\"what\").text #put this in dictionary\n",
    "    when_val = row.find('span', class_=\"when\").text\n",
    "    where_val = row.find('span', class_=\"where\").text\n",
    "\n",
    "    dictrow = {\"What\": what_val, \"When\": when_val, \"Where\": where_val}\n",
    "    parsed.append(dictrow)\n",
    "\n",
    "print(parsed)\n",
    "\n",
    "#format into json file\n",
    "with open('week1practice.json', 'w') as outFile:\n",
    "    json.dump(parsed, outFile)"
   ]
  }
 ],
 "metadata": {
  "kernelspec": {
   "display_name": "Python 3 (ipykernel)",
   "language": "python",
   "name": "python3"
  },
  "language_info": {
   "codemirror_mode": {
    "name": "ipython",
    "version": 3
   },
   "file_extension": ".py",
   "mimetype": "text/x-python",
   "name": "python",
   "nbconvert_exporter": "python",
   "pygments_lexer": "ipython3",
   "version": "3.11.5"
  }
 },
 "nbformat": 4,
 "nbformat_minor": 5
}
