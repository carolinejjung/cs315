{
 "cells": [
  {
   "cell_type": "markdown",
   "metadata": {},
   "source": [
    "### Tutorial on Lasso Regression Method\n",
    "Mini-lecture given on April 23, 2024 for CS315\\\n",
    "Authors: Caroline Jung, Tayae Rogers\\\n",
    "References: [https://machinelearningmastery.com/lasso-regression-with-python/](https://machinelearningmastery.com/lasso-regression-with-python/)"
   ]
  },
  {
   "cell_type": "code",
   "execution_count": 18,
   "metadata": {},
   "outputs": [],
   "source": [
    "import pandas as pd\n",
    "from sklearn.model_selection import train_test_split\n",
    "from sklearn.linear_model import Lasso"
   ]
  },
  {
   "cell_type": "code",
   "execution_count": 149,
   "metadata": {},
   "outputs": [
    {
     "data": {
      "text/plain": [
       "Index(['video_id', 'video_timestamp', 'video_duration',\n",
       "       'video_locationcreated', 'suggested_words', 'video_diggcount',\n",
       "       'video_sharecount', 'video_commentcount', 'video_playcount',\n",
       "       'video_description', 'video_is_ad', 'video_stickers', 'author_username',\n",
       "       'author_name', 'author_followercount', 'author_followingcount',\n",
       "       'author_heartcount', 'author_videocount', 'author_diggcount',\n",
       "       'author_verified'],\n",
       "      dtype='object')"
      ]
     },
     "execution_count": 149,
     "metadata": {},
     "output_type": "execute_result"
    }
   ],
   "source": [
    "# read in dataset\n",
    "data = pd.read_csv(\"tiktok_metadata.csv\")\n",
    "data.columns"
   ]
  },
  {
   "cell_type": "markdown",
   "metadata": {},
   "source": [
    "We are interested in the following columns:\n",
    "* features: video_duration, video_sharecount, video_commentcount, video_is_ad, author_verified\n",
    "* label: video_playcount"
   ]
  },
  {
   "cell_type": "code",
   "execution_count": 172,
   "metadata": {},
   "outputs": [
    {
     "name": "stdout",
     "output_type": "stream",
     "text": [
      "Dimensions:  (7663, 6)\n",
      "Dimensions after dropping NAs:  (7652, 6)\n"
     ]
    },
    {
     "name": "stderr",
     "output_type": "stream",
     "text": [
      "/var/folders/cw/4tmbrj3d1pzd4rhyrm8vnwyc0000gn/T/ipykernel_10621/4080415583.py:5: FutureWarning: Downcasting behavior in `replace` is deprecated and will be removed in a future version. To retain the old behavior, explicitly call `result.infer_objects(copy=False)`. To opt-in to the future behavior, set `pd.set_option('future.no_silent_downcasting', True)`\n",
      "  data_clean.replace({False: 0, True: 1}, inplace=True)\n"
     ]
    },
    {
     "data": {
      "text/html": [
       "<div>\n",
       "<style scoped>\n",
       "    .dataframe tbody tr th:only-of-type {\n",
       "        vertical-align: middle;\n",
       "    }\n",
       "\n",
       "    .dataframe tbody tr th {\n",
       "        vertical-align: top;\n",
       "    }\n",
       "\n",
       "    .dataframe thead th {\n",
       "        text-align: right;\n",
       "    }\n",
       "</style>\n",
       "<table border=\"1\" class=\"dataframe\">\n",
       "  <thead>\n",
       "    <tr style=\"text-align: right;\">\n",
       "      <th></th>\n",
       "      <th>video_playcount</th>\n",
       "      <th>video_duration</th>\n",
       "      <th>video_sharecount</th>\n",
       "      <th>video_commentcount</th>\n",
       "      <th>video_is_ad</th>\n",
       "      <th>author_verified</th>\n",
       "    </tr>\n",
       "  </thead>\n",
       "  <tbody>\n",
       "    <tr>\n",
       "      <th>0</th>\n",
       "      <td>19000000.0</td>\n",
       "      <td>18.0</td>\n",
       "      <td>40100.0</td>\n",
       "      <td>11000.0</td>\n",
       "      <td>0</td>\n",
       "      <td>0</td>\n",
       "    </tr>\n",
       "    <tr>\n",
       "      <th>1</th>\n",
       "      <td>6589.0</td>\n",
       "      <td>8.0</td>\n",
       "      <td>1.0</td>\n",
       "      <td>2.0</td>\n",
       "      <td>0</td>\n",
       "      <td>0</td>\n",
       "    </tr>\n",
       "    <tr>\n",
       "      <th>2</th>\n",
       "      <td>42400.0</td>\n",
       "      <td>6.0</td>\n",
       "      <td>3.0</td>\n",
       "      <td>8.0</td>\n",
       "      <td>0</td>\n",
       "      <td>0</td>\n",
       "    </tr>\n",
       "    <tr>\n",
       "      <th>3</th>\n",
       "      <td>6589.0</td>\n",
       "      <td>8.0</td>\n",
       "      <td>1.0</td>\n",
       "      <td>2.0</td>\n",
       "      <td>0</td>\n",
       "      <td>0</td>\n",
       "    </tr>\n",
       "    <tr>\n",
       "      <th>4</th>\n",
       "      <td>42400.0</td>\n",
       "      <td>6.0</td>\n",
       "      <td>3.0</td>\n",
       "      <td>8.0</td>\n",
       "      <td>0</td>\n",
       "      <td>0</td>\n",
       "    </tr>\n",
       "    <tr>\n",
       "      <th>...</th>\n",
       "      <td>...</td>\n",
       "      <td>...</td>\n",
       "      <td>...</td>\n",
       "      <td>...</td>\n",
       "      <td>...</td>\n",
       "      <td>...</td>\n",
       "    </tr>\n",
       "    <tr>\n",
       "      <th>7658</th>\n",
       "      <td>1800000.0</td>\n",
       "      <td>77.0</td>\n",
       "      <td>18700.0</td>\n",
       "      <td>8859.0</td>\n",
       "      <td>0</td>\n",
       "      <td>0</td>\n",
       "    </tr>\n",
       "    <tr>\n",
       "      <th>7659</th>\n",
       "      <td>338900000.0</td>\n",
       "      <td>17.0</td>\n",
       "      <td>3921.0</td>\n",
       "      <td>0.0</td>\n",
       "      <td>1</td>\n",
       "      <td>0</td>\n",
       "    </tr>\n",
       "    <tr>\n",
       "      <th>7660</th>\n",
       "      <td>19600.0</td>\n",
       "      <td>13.0</td>\n",
       "      <td>6.0</td>\n",
       "      <td>21.0</td>\n",
       "      <td>0</td>\n",
       "      <td>0</td>\n",
       "    </tr>\n",
       "    <tr>\n",
       "      <th>7661</th>\n",
       "      <td>14600000.0</td>\n",
       "      <td>61.0</td>\n",
       "      <td>13700.0</td>\n",
       "      <td>6615.0</td>\n",
       "      <td>0</td>\n",
       "      <td>0</td>\n",
       "    </tr>\n",
       "    <tr>\n",
       "      <th>7662</th>\n",
       "      <td>1200000.0</td>\n",
       "      <td>33.0</td>\n",
       "      <td>3151.0</td>\n",
       "      <td>445.0</td>\n",
       "      <td>0</td>\n",
       "      <td>0</td>\n",
       "    </tr>\n",
       "  </tbody>\n",
       "</table>\n",
       "<p>7652 rows × 6 columns</p>\n",
       "</div>"
      ],
      "text/plain": [
       "      video_playcount  video_duration  video_sharecount  video_commentcount  \\\n",
       "0          19000000.0            18.0           40100.0             11000.0   \n",
       "1              6589.0             8.0               1.0                 2.0   \n",
       "2             42400.0             6.0               3.0                 8.0   \n",
       "3              6589.0             8.0               1.0                 2.0   \n",
       "4             42400.0             6.0               3.0                 8.0   \n",
       "...               ...             ...               ...                 ...   \n",
       "7658        1800000.0            77.0           18700.0              8859.0   \n",
       "7659      338900000.0            17.0            3921.0                 0.0   \n",
       "7660          19600.0            13.0               6.0                21.0   \n",
       "7661       14600000.0            61.0           13700.0              6615.0   \n",
       "7662        1200000.0            33.0            3151.0               445.0   \n",
       "\n",
       "      video_is_ad  author_verified  \n",
       "0               0                0  \n",
       "1               0                0  \n",
       "2               0                0  \n",
       "3               0                0  \n",
       "4               0                0  \n",
       "...           ...              ...  \n",
       "7658            0                0  \n",
       "7659            1                0  \n",
       "7660            0                0  \n",
       "7661            0                0  \n",
       "7662            0                0  \n",
       "\n",
       "[7652 rows x 6 columns]"
      ]
     },
     "execution_count": 172,
     "metadata": {},
     "output_type": "execute_result"
    }
   ],
   "source": [
    "import numpy as np\n",
    "columns = [\"video_playcount\", \"video_duration\", \"video_sharecount\", \"video_commentcount\", \"video_is_ad\", \"author_verified\"]\n",
    "\n",
    "data_clean = data.loc[:, columns]\n",
    "data_clean.replace({False: 0, True: 1}, inplace=True)\n",
    "#this order of columns seems to matter with the coefficients we get... --> values are slightly diff but which variables get set to 0 are the same\n",
    "print(\"Dimensions: \", data_clean.shape)\n",
    "data_clean.dropna(axis=0, inplace=True)\n",
    "print(\"Dimensions after dropping NAs: \", data_clean.shape)\n",
    "\n",
    "data_clean"
   ]
  },
  {
   "cell_type": "markdown",
   "metadata": {},
   "source": [
    "Now we have our cleaned dataset with specific columns of interest and no NA values (for the sake of simplicity and due to large number of rows, we chose to drop the entire row if one of our columns of interest had at least one missing value). Now, let's split them into training and test data sets with a 70-30 split:"
   ]
  },
  {
   "cell_type": "code",
   "execution_count": 165,
   "metadata": {},
   "outputs": [],
   "source": [
    "# split into train and test data\n",
    "train, test = train_test_split(data_clean, test_size=0.3)\n",
    "\n",
    "x_train, y_train = train.iloc[:,1:], train.iloc[:,[1]]\n",
    "x_test, y_test = test.iloc[:,1:], test.iloc[:,[1]]"
   ]
  },
  {
   "cell_type": "code",
   "execution_count": 176,
   "metadata": {},
   "outputs": [
    {
     "name": "stdout",
     "output_type": "stream",
     "text": [
      "                               0\n",
      "video_duration      9.995931e-01\n",
      "video_sharecount    2.262831e-08\n",
      "video_commentcount  4.259128e-08\n",
      "video_is_ad        -0.000000e+00\n",
      "author_verified     0.000000e+00\n",
      "intercept           1.251692e-02\n"
     ]
    }
   ],
   "source": [
    "lassoreg = Lasso(alpha=1) #hyperparameter of 1 (default value without tuning)\n",
    "lassoreg.fit(x_train, y_train)\n",
    "\n",
    "# Note for Tayae: our predictions with alpha=1 is really good. I reran it with alpha=0 (aka no regularization) and then \n",
    "# the predictions were off by ~2 views when comparing the predicted and actual values of the y variable in the test dataset \n",
    "# which is promising because that means that without regularization, it is actually overfitting!\n",
    "\n",
    "# regression coefficients\n",
    "coefs = pd.DataFrame(index=columns[1:], data=lassoreg.coef_)\n",
    "coefs.loc[\"intercept\"] = lassoreg.intercept_[0]\n",
    "print(coefs)"
   ]
  },
  {
   "cell_type": "markdown",
   "metadata": {},
   "source": [
    "Note that two of our features of interest have coefficients of 0: video_is_ad and author_verified. Our lasso regression has reduced the dimensionality of our model to only 3 features (video_duration, video_sharecount, video_commentcount) and calculated coefficient estimates"
   ]
  },
  {
   "cell_type": "code",
   "execution_count": 177,
   "metadata": {},
   "outputs": [
    {
     "name": "stderr",
     "output_type": "stream",
     "text": [
      "/var/folders/cw/4tmbrj3d1pzd4rhyrm8vnwyc0000gn/T/ipykernel_10621/2859609748.py:4: SettingWithCopyWarning: \n",
      "A value is trying to be set on a copy of a slice from a DataFrame.\n",
      "Try using .loc[row_indexer,col_indexer] = value instead\n",
      "\n",
      "See the caveats in the documentation: https://pandas.pydata.org/pandas-docs/stable/user_guide/indexing.html#returning-a-view-versus-a-copy\n",
      "  y_test[\"predicted_val\"] = y_pred\n",
      "/var/folders/cw/4tmbrj3d1pzd4rhyrm8vnwyc0000gn/T/ipykernel_10621/2859609748.py:5: SettingWithCopyWarning: \n",
      "A value is trying to be set on a copy of a slice from a DataFrame.\n",
      "Try using .loc[row_indexer,col_indexer] = value instead\n",
      "\n",
      "See the caveats in the documentation: https://pandas.pydata.org/pandas-docs/stable/user_guide/indexing.html#returning-a-view-versus-a-copy\n",
      "  y_test[\"diff\"] = y_test[\"video_duration\"]-y_pred\n"
     ]
    },
    {
     "data": {
      "text/html": [
       "<div>\n",
       "<style scoped>\n",
       "    .dataframe tbody tr th:only-of-type {\n",
       "        vertical-align: middle;\n",
       "    }\n",
       "\n",
       "    .dataframe tbody tr th {\n",
       "        vertical-align: top;\n",
       "    }\n",
       "\n",
       "    .dataframe thead th {\n",
       "        text-align: right;\n",
       "    }\n",
       "</style>\n",
       "<table border=\"1\" class=\"dataframe\">\n",
       "  <thead>\n",
       "    <tr style=\"text-align: right;\">\n",
       "      <th></th>\n",
       "      <th>actual_val</th>\n",
       "      <th>predicted_val</th>\n",
       "      <th>diff</th>\n",
       "    </tr>\n",
       "  </thead>\n",
       "  <tbody>\n",
       "    <tr>\n",
       "      <th>7109</th>\n",
       "      <td>15</td>\n",
       "      <td>15.006416</td>\n",
       "      <td>-0.006416</td>\n",
       "    </tr>\n",
       "    <tr>\n",
       "      <th>5100</th>\n",
       "      <td>16</td>\n",
       "      <td>16.006123</td>\n",
       "      <td>-0.006123</td>\n",
       "    </tr>\n",
       "    <tr>\n",
       "      <th>1366</th>\n",
       "      <td>20</td>\n",
       "      <td>20.004390</td>\n",
       "      <td>-0.004390</td>\n",
       "    </tr>\n",
       "    <tr>\n",
       "      <th>3078</th>\n",
       "      <td>30</td>\n",
       "      <td>30.000313</td>\n",
       "      <td>-0.000313</td>\n",
       "    </tr>\n",
       "    <tr>\n",
       "      <th>6147</th>\n",
       "      <td>55</td>\n",
       "      <td>54.990182</td>\n",
       "      <td>0.009818</td>\n",
       "    </tr>\n",
       "    <tr>\n",
       "      <th>...</th>\n",
       "      <td>...</td>\n",
       "      <td>...</td>\n",
       "      <td>...</td>\n",
       "    </tr>\n",
       "    <tr>\n",
       "      <th>651</th>\n",
       "      <td>12</td>\n",
       "      <td>12.007918</td>\n",
       "      <td>-0.007918</td>\n",
       "    </tr>\n",
       "    <tr>\n",
       "      <th>4177</th>\n",
       "      <td>44</td>\n",
       "      <td>43.997741</td>\n",
       "      <td>0.002259</td>\n",
       "    </tr>\n",
       "    <tr>\n",
       "      <th>1356</th>\n",
       "      <td>8</td>\n",
       "      <td>8.009564</td>\n",
       "      <td>-0.009564</td>\n",
       "    </tr>\n",
       "    <tr>\n",
       "      <th>6177</th>\n",
       "      <td>7</td>\n",
       "      <td>7.009737</td>\n",
       "      <td>-0.009737</td>\n",
       "    </tr>\n",
       "    <tr>\n",
       "      <th>385</th>\n",
       "      <td>15</td>\n",
       "      <td>15.006482</td>\n",
       "      <td>-0.006482</td>\n",
       "    </tr>\n",
       "  </tbody>\n",
       "</table>\n",
       "<p>2296 rows × 3 columns</p>\n",
       "</div>"
      ],
      "text/plain": [
       "      actual_val  predicted_val      diff\n",
       "7109          15      15.006416 -0.006416\n",
       "5100          16      16.006123 -0.006123\n",
       "1366          20      20.004390 -0.004390\n",
       "3078          30      30.000313 -0.000313\n",
       "6147          55      54.990182  0.009818\n",
       "...          ...            ...       ...\n",
       "651           12      12.007918 -0.007918\n",
       "4177          44      43.997741  0.002259\n",
       "1356           8       8.009564 -0.009564\n",
       "6177           7       7.009737 -0.009737\n",
       "385           15      15.006482 -0.006482\n",
       "\n",
       "[2296 rows x 3 columns]"
      ]
     },
     "execution_count": 177,
     "metadata": {},
     "output_type": "execute_result"
    }
   ],
   "source": [
    "import matplotlib.pyplot as plt\n",
    "y_pred = lassoreg.predict(x_test)\n",
    "\n",
    "y_test[\"predicted_val\"] = y_pred\n",
    "y_test[\"diff\"] = y_test[\"video_duration\"]-y_pred\n",
    "y_test.rename(columns={\"video_duration\": \"actual_val\"})"
   ]
  },
  {
   "cell_type": "code",
   "execution_count": 178,
   "metadata": {},
   "outputs": [
    {
     "data": {
      "image/png": "[encoded data removed]",
      "text/plain": [
       "<Figure size 640x480 with 1 Axes>"
      ]
     },
     "metadata": {},
     "output_type": "display_data"
    }
   ],
   "source": [
    "plt.scatter(y_test.index, y_test[\"diff\"]) # Our predictions are pretty good on the training set\n",
    "plt.show()"
   ]
  },
  {
   "cell_type": "markdown",
   "metadata": {},
   "source": [
    "#### Tuning the Hyperparameter"
   ]
  },
  {
   "cell_type": "code",
   "execution_count": null,
   "metadata": {},
   "outputs": [],
   "source": [
    "# hyperparameter is the \"alpha\" in lasso regression\n",
    "# this site might have an example of this? @tayae: https://machinelearningmastery.com/lasso-regression-with-python/"
   ]
  }
 ],
 "metadata": {
  "kernelspec": {
   "display_name": "base",
   "language": "python",
   "name": "python3"
  },
  "language_info": {
   "codemirror_mode": {
    "name": "ipython",
    "version": 3
   },
   "file_extension": ".py",
   "mimetype": "text/x-python",
   "name": "python",
   "nbconvert_exporter": "python",
   "pygments_lexer": "ipython3",
   "version": "3.11.5"
  }
 },
 "nbformat": 4,
 "nbformat_minor": 2
}
