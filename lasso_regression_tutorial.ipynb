{
  "cells": [
    {
      "cell_type": "markdown",
      "metadata": {
        "id": "fhGZ61j_gUBC"
      },
      "source": [
        "### Tutorial on Lasso Regression Method\n",
        "Mini-lecture given on April 23, 2024 for CS315\\\n",
        "Authors: Caroline Jung, Tayae Rogers\\\n",
        "References: [https://machinelearningmastery.com/lasso-regression-with-python/](https://machinelearningmastery.com/lasso-regression-with-python/)"
      ]
    },
    {
      "cell_type": "code",
      "execution_count": 1,
      "metadata": {
        "id": "rQTbCgoigUBE"
      },
      "outputs": [
        {
          "name": "stderr",
          "output_type": "stream",
          "text": [
            "/var/folders/cw/4tmbrj3d1pzd4rhyrm8vnwyc0000gn/T/ipykernel_13592/3164397486.py:1: DeprecationWarning: \n",
            "Pyarrow will become a required dependency of pandas in the next major release of pandas (pandas 3.0),\n",
            "(to allow more performant data types, such as the Arrow string type, and better interoperability with other libraries)\n",
            "but was not found to be installed on your system.\n",
            "If this would cause problems for you,\n",
            "please provide us feedback at https://github.com/pandas-dev/pandas/issues/54466\n",
            "        \n",
            "  import pandas as pd\n"
          ]
        }
      ],
      "source": [
        "import pandas as pd\n",
        "from sklearn.model_selection import train_test_split\n",
        "from sklearn.linear_model import Lasso"
      ]
    },
    {
      "cell_type": "code",
      "execution_count": 2,
      "metadata": {
        "colab": {
          "base_uri": "https://localhost:8080/"
        },
        "id": "1aQ4WPY-gUBF",
        "outputId": "5c7c1e7e-efba-4280-9b45-489839f7c1ca"
      },
      "outputs": [
        {
          "data": {
            "text/plain": [
              "Index(['video_id', 'video_timestamp', 'video_duration',\n",
              "       'video_locationcreated', 'suggested_words', 'video_diggcount',\n",
              "       'video_sharecount', 'video_commentcount', 'video_playcount',\n",
              "       'video_description', 'video_is_ad', 'video_stickers', 'author_username',\n",
              "       'author_name', 'author_followercount', 'author_followingcount',\n",
              "       'author_heartcount', 'author_videocount', 'author_diggcount',\n",
              "       'author_verified'],\n",
              "      dtype='object')"
            ]
          },
          "execution_count": 2,
          "metadata": {},
          "output_type": "execute_result"
        }
      ],
      "source": [
        "# read in dataset\n",
        "data = pd.read_csv(\"tiktok_metadata.csv\")\n",
        "data.columns"
      ]
    },
    {
      "cell_type": "markdown",
      "metadata": {
        "id": "gb5uRZ_egUBG"
      },
      "source": [
        "We are interested in the following columns:\n",
        "* features: video_duration, video_sharecount, video_commentcount, video_is_ad, author_verified\n",
        "* label: video_playcount"
      ]
    },
    {
      "cell_type": "code",
      "execution_count": 4,
      "metadata": {
        "colab": {
          "base_uri": "https://localhost:8080/",
          "height": 458
        },
        "id": "q7BcsaBYgUBG",
        "outputId": "808ff8e2-c5ff-4720-b0d7-9ba403f7c26a"
      },
      "outputs": [
        {
          "name": "stdout",
          "output_type": "stream",
          "text": [
            "Dimensions:  (7663, 6)\n",
            "Dimensions after dropping NAs:  (7652, 6)\n"
          ]
        },
        {
          "name": "stderr",
          "output_type": "stream",
          "text": [
            "/var/folders/cw/4tmbrj3d1pzd4rhyrm8vnwyc0000gn/T/ipykernel_13592/2419427330.py:5: FutureWarning: Downcasting behavior in `replace` is deprecated and will be removed in a future version. To retain the old behavior, explicitly call `result.infer_objects(copy=False)`. To opt-in to the future behavior, set `pd.set_option('future.no_silent_downcasting', True)`\n",
            "  data_clean.replace({False: 0, True: 1}, inplace=True)\n"
          ]
        },
        {
          "data": {
            "text/html": [
              "<div>\n",
              "<style scoped>\n",
              "    .dataframe tbody tr th:only-of-type {\n",
              "        vertical-align: middle;\n",
              "    }\n",
              "\n",
              "    .dataframe tbody tr th {\n",
              "        vertical-align: top;\n",
              "    }\n",
              "\n",
              "    .dataframe thead th {\n",
              "        text-align: right;\n",
              "    }\n",
              "</style>\n",
              "<table border=\"1\" class=\"dataframe\">\n",
              "  <thead>\n",
              "    <tr style=\"text-align: right;\">\n",
              "      <th></th>\n",
              "      <th>video_playcount</th>\n",
              "      <th>video_duration</th>\n",
              "      <th>video_sharecount</th>\n",
              "      <th>video_commentcount</th>\n",
              "      <th>video_is_ad</th>\n",
              "      <th>author_verified</th>\n",
              "    </tr>\n",
              "  </thead>\n",
              "  <tbody>\n",
              "    <tr>\n",
              "      <th>0</th>\n",
              "      <td>19000000.0</td>\n",
              "      <td>18.0</td>\n",
              "      <td>40100.0</td>\n",
              "      <td>11000.0</td>\n",
              "      <td>0</td>\n",
              "      <td>0</td>\n",
              "    </tr>\n",
              "    <tr>\n",
              "      <th>1</th>\n",
              "      <td>6589.0</td>\n",
              "      <td>8.0</td>\n",
              "      <td>1.0</td>\n",
              "      <td>2.0</td>\n",
              "      <td>0</td>\n",
              "      <td>0</td>\n",
              "    </tr>\n",
              "    <tr>\n",
              "      <th>2</th>\n",
              "      <td>42400.0</td>\n",
              "      <td>6.0</td>\n",
              "      <td>3.0</td>\n",
              "      <td>8.0</td>\n",
              "      <td>0</td>\n",
              "      <td>0</td>\n",
              "    </tr>\n",
              "    <tr>\n",
              "      <th>3</th>\n",
              "      <td>6589.0</td>\n",
              "      <td>8.0</td>\n",
              "      <td>1.0</td>\n",
              "      <td>2.0</td>\n",
              "      <td>0</td>\n",
              "      <td>0</td>\n",
              "    </tr>\n",
              "    <tr>\n",
              "      <th>4</th>\n",
              "      <td>42400.0</td>\n",
              "      <td>6.0</td>\n",
              "      <td>3.0</td>\n",
              "      <td>8.0</td>\n",
              "      <td>0</td>\n",
              "      <td>0</td>\n",
              "    </tr>\n",
              "    <tr>\n",
              "      <th>...</th>\n",
              "      <td>...</td>\n",
              "      <td>...</td>\n",
              "      <td>...</td>\n",
              "      <td>...</td>\n",
              "      <td>...</td>\n",
              "      <td>...</td>\n",
              "    </tr>\n",
              "    <tr>\n",
              "      <th>7658</th>\n",
              "      <td>1800000.0</td>\n",
              "      <td>77.0</td>\n",
              "      <td>18700.0</td>\n",
              "      <td>8859.0</td>\n",
              "      <td>0</td>\n",
              "      <td>0</td>\n",
              "    </tr>\n",
              "    <tr>\n",
              "      <th>7659</th>\n",
              "      <td>338900000.0</td>\n",
              "      <td>17.0</td>\n",
              "      <td>3921.0</td>\n",
              "      <td>0.0</td>\n",
              "      <td>1</td>\n",
              "      <td>0</td>\n",
              "    </tr>\n",
              "    <tr>\n",
              "      <th>7660</th>\n",
              "      <td>19600.0</td>\n",
              "      <td>13.0</td>\n",
              "      <td>6.0</td>\n",
              "      <td>21.0</td>\n",
              "      <td>0</td>\n",
              "      <td>0</td>\n",
              "    </tr>\n",
              "    <tr>\n",
              "      <th>7661</th>\n",
              "      <td>14600000.0</td>\n",
              "      <td>61.0</td>\n",
              "      <td>13700.0</td>\n",
              "      <td>6615.0</td>\n",
              "      <td>0</td>\n",
              "      <td>0</td>\n",
              "    </tr>\n",
              "    <tr>\n",
              "      <th>7662</th>\n",
              "      <td>1200000.0</td>\n",
              "      <td>33.0</td>\n",
              "      <td>3151.0</td>\n",
              "      <td>445.0</td>\n",
              "      <td>0</td>\n",
              "      <td>0</td>\n",
              "    </tr>\n",
              "  </tbody>\n",
              "</table>\n",
              "<p>7652 rows × 6 columns</p>\n",
              "</div>"
            ],
            "text/plain": [
              "      video_playcount  video_duration  video_sharecount  video_commentcount  \\\n",
              "0          19000000.0            18.0           40100.0             11000.0   \n",
              "1              6589.0             8.0               1.0                 2.0   \n",
              "2             42400.0             6.0               3.0                 8.0   \n",
              "3              6589.0             8.0               1.0                 2.0   \n",
              "4             42400.0             6.0               3.0                 8.0   \n",
              "...               ...             ...               ...                 ...   \n",
              "7658        1800000.0            77.0           18700.0              8859.0   \n",
              "7659      338900000.0            17.0            3921.0                 0.0   \n",
              "7660          19600.0            13.0               6.0                21.0   \n",
              "7661       14600000.0            61.0           13700.0              6615.0   \n",
              "7662        1200000.0            33.0            3151.0               445.0   \n",
              "\n",
              "      video_is_ad  author_verified  \n",
              "0               0                0  \n",
              "1               0                0  \n",
              "2               0                0  \n",
              "3               0                0  \n",
              "4               0                0  \n",
              "...           ...              ...  \n",
              "7658            0                0  \n",
              "7659            1                0  \n",
              "7660            0                0  \n",
              "7661            0                0  \n",
              "7662            0                0  \n",
              "\n",
              "[7652 rows x 6 columns]"
            ]
          },
          "execution_count": 4,
          "metadata": {},
          "output_type": "execute_result"
        }
      ],
      "source": [
        "import numpy as np\n",
        "columns = [\"video_playcount\", \"video_duration\", \"video_sharecount\", \"video_commentcount\", \"video_is_ad\", \"author_verified\"]\n",
        "\n",
        "data_clean = data.loc[:, columns]\n",
        "data_clean.replace({False: 0, True: 1}, inplace=True)\n",
        "print(\"Dimensions: \", data_clean.shape)\n",
        "data_clean.dropna(axis=0, inplace=True)\n",
        "print(\"Dimensions after dropping NAs: \", data_clean.shape)\n",
        "\n",
        "data_clean"
      ]
    },
    {
      "cell_type": "markdown",
      "metadata": {
        "id": "JkSl5y22gUBG"
      },
      "source": [
        "Now we have our cleaned dataset with specific columns of interest and no NA values (for the sake of simplicity and due to large number of rows, we chose to drop the entire row if one of our columns of interest had at least one missing value). Now, let's split them into training and test data sets with a 70-30 split:"
      ]
    },
    {
      "cell_type": "code",
      "execution_count": 5,
      "metadata": {
        "id": "I48YoYUYgUBG"
      },
      "outputs": [],
      "source": [
        "# split into train and test data\n",
        "train, test = train_test_split(data_clean, test_size=0.3)\n",
        "\n",
        "x_train, y_train = train.iloc[:,1:], train.iloc[:,[1]]\n",
        "x_test, y_test = test.iloc[:,1:], test.iloc[:,[1]]"
      ]
    },
    {
      "cell_type": "code",
      "execution_count": 9,
      "metadata": {
        "colab": {
          "base_uri": "https://localhost:8080/"
        },
        "id": "kx49AJJxgUBH",
        "outputId": "70b194df-11d8-4805-f436-da8d1ceba42d"
      },
      "outputs": [
        {
          "name": "stdout",
          "output_type": "stream",
          "text": [
            "                               0\n",
            "video_duration      9.998743e-01\n",
            "video_sharecount    5.889714e-09\n",
            "video_commentcount  1.671872e-08\n",
            "video_is_ad        -0.000000e+00\n",
            "author_verified     0.000000e+00\n",
            "intercept           3.856554e-03\n"
          ]
        }
      ],
      "source": [
        "lassoreg = Lasso(alpha=0.3)\n",
        "lassoreg.fit(x_train, y_train)\n",
        "\n",
        "# regression coefficients\n",
        "coefs = pd.DataFrame(index=columns[1:], data=lassoreg.coef_)\n",
        "coefs.loc[\"intercept\"] = lassoreg.intercept_[0]\n",
        "print(coefs)"
      ]
    },
    {
      "cell_type": "markdown",
      "metadata": {
        "id": "iEEp2r4bgUBH"
      },
      "source": [
        "Note that two of our features of interest have coefficients of 0: video_is_ad and author_verified. Our lasso regression has reduced the dimensionality of our model to only 3 features (video_duration, video_sharecount, video_commentcount) and calculated coefficient estimates"
      ]
    },
    {
      "cell_type": "code",
      "execution_count": 7,
      "metadata": {
        "colab": {
          "base_uri": "https://localhost:8080/",
          "height": 652
        },
        "id": "YTil-R-5gUBH",
        "outputId": "f3182eec-8bb0-49dc-f65a-0fddb8ea3c98"
      },
      "outputs": [
        {
          "name": "stderr",
          "output_type": "stream",
          "text": [
            "/var/folders/cw/4tmbrj3d1pzd4rhyrm8vnwyc0000gn/T/ipykernel_13592/2859609748.py:4: SettingWithCopyWarning: \n",
            "A value is trying to be set on a copy of a slice from a DataFrame.\n",
            "Try using .loc[row_indexer,col_indexer] = value instead\n",
            "\n",
            "See the caveats in the documentation: https://pandas.pydata.org/pandas-docs/stable/user_guide/indexing.html#returning-a-view-versus-a-copy\n",
            "  y_test[\"predicted_val\"] = y_pred\n",
            "/var/folders/cw/4tmbrj3d1pzd4rhyrm8vnwyc0000gn/T/ipykernel_13592/2859609748.py:5: SettingWithCopyWarning: \n",
            "A value is trying to be set on a copy of a slice from a DataFrame.\n",
            "Try using .loc[row_indexer,col_indexer] = value instead\n",
            "\n",
            "See the caveats in the documentation: https://pandas.pydata.org/pandas-docs/stable/user_guide/indexing.html#returning-a-view-versus-a-copy\n",
            "  y_test[\"diff\"] = y_test[\"video_duration\"]-y_pred\n"
          ]
        },
        {
          "data": {
            "text/html": [
              "<div>\n",
              "<style scoped>\n",
              "    .dataframe tbody tr th:only-of-type {\n",
              "        vertical-align: middle;\n",
              "    }\n",
              "\n",
              "    .dataframe tbody tr th {\n",
              "        vertical-align: top;\n",
              "    }\n",
              "\n",
              "    .dataframe thead th {\n",
              "        text-align: right;\n",
              "    }\n",
              "</style>\n",
              "<table border=\"1\" class=\"dataframe\">\n",
              "  <thead>\n",
              "    <tr style=\"text-align: right;\">\n",
              "      <th></th>\n",
              "      <th>actual_val</th>\n",
              "      <th>predicted_val</th>\n",
              "      <th>diff</th>\n",
              "    </tr>\n",
              "  </thead>\n",
              "  <tbody>\n",
              "    <tr>\n",
              "      <th>4409</th>\n",
              "      <td>15.0</td>\n",
              "      <td>15.001975</td>\n",
              "      <td>-0.001975</td>\n",
              "    </tr>\n",
              "    <tr>\n",
              "      <th>5454</th>\n",
              "      <td>7.0</td>\n",
              "      <td>7.002996</td>\n",
              "      <td>-0.002996</td>\n",
              "    </tr>\n",
              "    <tr>\n",
              "      <th>5397</th>\n",
              "      <td>13.0</td>\n",
              "      <td>13.002268</td>\n",
              "      <td>-0.002268</td>\n",
              "    </tr>\n",
              "    <tr>\n",
              "      <th>1629</th>\n",
              "      <td>0.0</td>\n",
              "      <td>0.003872</td>\n",
              "      <td>-0.003872</td>\n",
              "    </tr>\n",
              "    <tr>\n",
              "      <th>3873</th>\n",
              "      <td>0.0</td>\n",
              "      <td>0.003914</td>\n",
              "      <td>-0.003914</td>\n",
              "    </tr>\n",
              "    <tr>\n",
              "      <th>...</th>\n",
              "      <td>...</td>\n",
              "      <td>...</td>\n",
              "      <td>...</td>\n",
              "    </tr>\n",
              "    <tr>\n",
              "      <th>2916</th>\n",
              "      <td>8.0</td>\n",
              "      <td>8.002851</td>\n",
              "      <td>-0.002851</td>\n",
              "    </tr>\n",
              "    <tr>\n",
              "      <th>1420</th>\n",
              "      <td>0.0</td>\n",
              "      <td>0.003869</td>\n",
              "      <td>-0.003869</td>\n",
              "    </tr>\n",
              "    <tr>\n",
              "      <th>7480</th>\n",
              "      <td>40.0</td>\n",
              "      <td>39.998831</td>\n",
              "      <td>0.001169</td>\n",
              "    </tr>\n",
              "    <tr>\n",
              "      <th>4650</th>\n",
              "      <td>20.0</td>\n",
              "      <td>20.002766</td>\n",
              "      <td>-0.002766</td>\n",
              "    </tr>\n",
              "    <tr>\n",
              "      <th>1144</th>\n",
              "      <td>74.0</td>\n",
              "      <td>73.994558</td>\n",
              "      <td>0.005442</td>\n",
              "    </tr>\n",
              "  </tbody>\n",
              "</table>\n",
              "<p>2296 rows × 3 columns</p>\n",
              "</div>"
            ],
            "text/plain": [
              "      actual_val  predicted_val      diff\n",
              "4409        15.0      15.001975 -0.001975\n",
              "5454         7.0       7.002996 -0.002996\n",
              "5397        13.0      13.002268 -0.002268\n",
              "1629         0.0       0.003872 -0.003872\n",
              "3873         0.0       0.003914 -0.003914\n",
              "...          ...            ...       ...\n",
              "2916         8.0       8.002851 -0.002851\n",
              "1420         0.0       0.003869 -0.003869\n",
              "7480        40.0      39.998831  0.001169\n",
              "4650        20.0      20.002766 -0.002766\n",
              "1144        74.0      73.994558  0.005442\n",
              "\n",
              "[2296 rows x 3 columns]"
            ]
          },
          "execution_count": 7,
          "metadata": {},
          "output_type": "execute_result"
        }
      ],
      "source": [
        "import matplotlib.pyplot as plt\n",
        "y_pred = lassoreg.predict(x_test)\n",
        "\n",
        "y_test[\"predicted_val\"] = y_pred\n",
        "y_test[\"diff\"] = y_test[\"video_duration\"]-y_pred\n",
        "y_test.rename(columns={\"video_duration\": \"actual_val\"})"
      ]
    },
    {
      "cell_type": "code",
      "execution_count": 8,
      "metadata": {
        "colab": {
          "base_uri": "https://localhost:8080/",
          "height": 430
        },
        "id": "uCz8dCeqgUBH",
        "outputId": "f2939c7c-2261-450c-99b9-38366ff83ba6"
      },
      "outputs": [
        {
          "data": {
            "image/png": "[encoded data removed]",
            "text/plain": [
              "<Figure size 640x480 with 1 Axes>"
            ]
          },
          "metadata": {},
          "output_type": "display_data"
        }
      ],
      "source": [
        "plt.scatter(y_test.index, y_test[\"diff\"]) # Our predictions are pretty good on the training set\n",
        "plt.show()"
      ]
    },
    {
      "cell_type": "markdown",
      "metadata": {
        "id": "A4A-SbVTgUBH"
      },
      "source": [
        "#### Tuning the Hyperparameter"
      ]
    },
    {
      "cell_type": "code",
      "execution_count": 10,
      "metadata": {
        "id": "nnB1Esd--Pz9"
      },
      "outputs": [],
      "source": [
        "from sklearn.model_selection import GridSearchCV\n",
        "from sklearn.model_selection import RepeatedKFold"
      ]
    },
    {
      "cell_type": "code",
      "execution_count": 11,
      "metadata": {
        "id": "e8V91Mdu-MG2"
      },
      "outputs": [],
      "source": [
        "model = Lasso()\n",
        "cv = RepeatedKFold(n_splits=10, n_repeats=3, random_state=1)"
      ]
    },
    {
      "cell_type": "code",
      "execution_count": 12,
      "metadata": {
        "id": "TozMrF61-bhe"
      },
      "outputs": [],
      "source": [
        "grid = dict()\n",
        "grid['alpha'] = np.arange(0.01,1,0.01)"
      ]
    },
    {
      "cell_type": "code",
      "execution_count": null,
      "metadata": {
        "id": "cE290OjPmgT3"
      },
      "outputs": [],
      "source": [
        "# Try it with train/test split\n",
        "search = GridSearchCV(model, grid, scoring='neg_mean_absolute_error',\n",
        "                      cv=cv, refit=True, n_jobs=-1)\n",
        "results = search.fit(x_train, y_train)"
      ]
    },
    {
      "cell_type": "code",
      "execution_count": null,
      "metadata": {
        "colab": {
          "base_uri": "https://localhost:8080/"
        },
        "id": "cOq9bTK4q7MQ",
        "outputId": "b4606679-0280-4f41-c526-ae2fe15e515f"
      },
      "outputs": [
        {
          "data": {
            "text/plain": [
              "array([2.10000438e+01, 1.26905390e-04, 1.50000659e+01, ...,\n",
              "       1.27739548e-04, 2.20000376e+01, 1.10000824e+01])"
            ]
          },
          "execution_count": 43,
          "metadata": {},
          "output_type": "execute_result"
        }
      ],
      "source": [
        "search.predict(x_test)"
      ]
    },
    {
      "cell_type": "code",
      "execution_count": null,
      "metadata": {
        "colab": {
          "base_uri": "https://localhost:8080/",
          "height": 652
        },
        "id": "yN1YPiyprRx7",
        "outputId": "ce392d8f-9576-42f2-9115-8ef4880f827f"
      },
      "outputs": [
        {
          "name": "stderr",
          "output_type": "stream",
          "text": [
            "<ipython-input-44-d00469ae834a>:3: SettingWithCopyWarning: \n",
            "A value is trying to be set on a copy of a slice from a DataFrame.\n",
            "Try using .loc[row_indexer,col_indexer] = value instead\n",
            "\n",
            "See the caveats in the documentation: https://pandas.pydata.org/pandas-docs/stable/user_guide/indexing.html#returning-a-view-versus-a-copy\n",
            "  y_test[\"predicted_val2\"] = y_pred2\n",
            "<ipython-input-44-d00469ae834a>:4: SettingWithCopyWarning: \n",
            "A value is trying to be set on a copy of a slice from a DataFrame.\n",
            "Try using .loc[row_indexer,col_indexer] = value instead\n",
            "\n",
            "See the caveats in the documentation: https://pandas.pydata.org/pandas-docs/stable/user_guide/indexing.html#returning-a-view-versus-a-copy\n",
            "  y_test[\"diff2\"] = y_test[\"video_duration\"]-y_pred2\n"
          ]
        },
        {
          "data": {
            "application/vnd.google.colaboratory.intrinsic+json": {
              "summary": "{\n  \"name\": \"y_test\",\n  \"rows\": 2296,\n  \"fields\": [\n    {\n      \"column\": \"actual_val\",\n      \"properties\": {\n        \"dtype\": \"number\",\n        \"std\": 47.11292155997053,\n        \"min\": 0.0,\n        \"max\": 900.0,\n        \"num_unique_values\": 174,\n        \"samples\": [\n          187.0,\n          104.0,\n          129.0\n        ],\n        \"semantic_type\": \"\",\n        \"description\": \"\"\n      }\n    },\n    {\n      \"column\": \"predicted_val\",\n      \"properties\": {\n        \"dtype\": \"number\",\n        \"std\": 47.09380642055175,\n        \"min\": 0.012678248882036058,\n        \"max\": 899.6466120065554,\n        \"num_unique_values\": 2225,\n        \"samples\": [\n          58.98868031836693,\n          24.002958891942175,\n          45.993971863890025\n        ],\n        \"semantic_type\": \"\",\n        \"description\": \"\"\n      }\n    },\n    {\n      \"column\": \"diff\",\n      \"properties\": {\n        \"dtype\": \"number\",\n        \"std\": 0.019138673303184518,\n        \"min\": -0.025092194521381117,\n        \"max\": 0.35338799344458494,\n        \"num_unique_values\": 2225,\n        \"samples\": [\n          0.011319681633068512,\n          -0.0029588919421748017,\n          0.006028136109975435\n        ],\n        \"semantic_type\": \"\",\n        \"description\": \"\"\n      }\n    },\n    {\n      \"column\": \"predicted_val2\",\n      \"properties\": {\n        \"dtype\": \"number\",\n        \"std\": 47.11273040848175,\n        \"min\": 0.00012678248882380672,\n        \"max\": 899.9964661200655,\n        \"num_unique_values\": 2225,\n        \"samples\": [\n          58.99988680318367,\n          24.000029588919425,\n          45.9999397186389\n        ],\n        \"semantic_type\": \"\",\n        \"description\": \"\"\n      }\n    },\n    {\n      \"column\": \"diff2\",\n      \"properties\": {\n        \"dtype\": \"number\",\n        \"std\": 0.00019138673303775212,\n        \"min\": -0.0002509219452164757,\n        \"max\": 0.0035338799344799554,\n        \"num_unique_values\": 2225,\n        \"samples\": [\n          0.00011319681632926404,\n          -2.9588919424838878e-05,\n          6.0281361101033326e-05\n        ],\n        \"semantic_type\": \"\",\n        \"description\": \"\"\n      }\n    }\n  ]\n}",
              "type": "dataframe"
            },
            "text/html": [
              "\n",
              "  <div id=\"df-eeb959e2-9675-411b-9096-33bb3e1daa80\" class=\"colab-df-container\">\n",
              "    <div>\n",
              "<style scoped>\n",
              "    .dataframe tbody tr th:only-of-type {\n",
              "        vertical-align: middle;\n",
              "    }\n",
              "\n",
              "    .dataframe tbody tr th {\n",
              "        vertical-align: top;\n",
              "    }\n",
              "\n",
              "    .dataframe thead th {\n",
              "        text-align: right;\n",
              "    }\n",
              "</style>\n",
              "<table border=\"1\" class=\"dataframe\">\n",
              "  <thead>\n",
              "    <tr style=\"text-align: right;\">\n",
              "      <th></th>\n",
              "      <th>actual_val</th>\n",
              "      <th>predicted_val</th>\n",
              "      <th>diff</th>\n",
              "      <th>predicted_val2</th>\n",
              "      <th>diff2</th>\n",
              "    </tr>\n",
              "  </thead>\n",
              "  <tbody>\n",
              "    <tr>\n",
              "      <th>4010</th>\n",
              "      <td>21.0</td>\n",
              "      <td>21.004379</td>\n",
              "      <td>-0.004379</td>\n",
              "      <td>21.000044</td>\n",
              "      <td>-0.000044</td>\n",
              "    </tr>\n",
              "    <tr>\n",
              "      <th>976</th>\n",
              "      <td>0.0</td>\n",
              "      <td>0.012691</td>\n",
              "      <td>-0.012691</td>\n",
              "      <td>0.000127</td>\n",
              "      <td>-0.000127</td>\n",
              "    </tr>\n",
              "    <tr>\n",
              "      <th>4830</th>\n",
              "      <td>15.0</td>\n",
              "      <td>15.006587</td>\n",
              "      <td>-0.006587</td>\n",
              "      <td>15.000066</td>\n",
              "      <td>-0.000066</td>\n",
              "    </tr>\n",
              "    <tr>\n",
              "      <th>7364</th>\n",
              "      <td>62.0</td>\n",
              "      <td>61.987484</td>\n",
              "      <td>0.012516</td>\n",
              "      <td>61.999875</td>\n",
              "      <td>0.000125</td>\n",
              "    </tr>\n",
              "    <tr>\n",
              "      <th>6624</th>\n",
              "      <td>14.0</td>\n",
              "      <td>14.006984</td>\n",
              "      <td>-0.006984</td>\n",
              "      <td>14.000070</td>\n",
              "      <td>-0.000070</td>\n",
              "    </tr>\n",
              "    <tr>\n",
              "      <th>...</th>\n",
              "      <td>...</td>\n",
              "      <td>...</td>\n",
              "      <td>...</td>\n",
              "      <td>...</td>\n",
              "      <td>...</td>\n",
              "    </tr>\n",
              "    <tr>\n",
              "      <th>7272</th>\n",
              "      <td>12.0</td>\n",
              "      <td>12.007931</td>\n",
              "      <td>-0.007931</td>\n",
              "      <td>12.000079</td>\n",
              "      <td>-0.000079</td>\n",
              "    </tr>\n",
              "    <tr>\n",
              "      <th>7641</th>\n",
              "      <td>363.0</td>\n",
              "      <td>362.865145</td>\n",
              "      <td>0.134855</td>\n",
              "      <td>362.998651</td>\n",
              "      <td>0.001349</td>\n",
              "    </tr>\n",
              "    <tr>\n",
              "      <th>1246</th>\n",
              "      <td>0.0</td>\n",
              "      <td>0.012774</td>\n",
              "      <td>-0.012774</td>\n",
              "      <td>0.000128</td>\n",
              "      <td>-0.000128</td>\n",
              "    </tr>\n",
              "    <tr>\n",
              "      <th>4723</th>\n",
              "      <td>22.0</td>\n",
              "      <td>22.003759</td>\n",
              "      <td>-0.003759</td>\n",
              "      <td>22.000038</td>\n",
              "      <td>-0.000038</td>\n",
              "    </tr>\n",
              "    <tr>\n",
              "      <th>5943</th>\n",
              "      <td>11.0</td>\n",
              "      <td>11.008242</td>\n",
              "      <td>-0.008242</td>\n",
              "      <td>11.000082</td>\n",
              "      <td>-0.000082</td>\n",
              "    </tr>\n",
              "  </tbody>\n",
              "</table>\n",
              "<p>2296 rows × 5 columns</p>\n",
              "</div>\n",
              "    <div class=\"colab-df-buttons\">\n",
              "\n",
              "  <div class=\"colab-df-container\">\n",
              "    <button class=\"colab-df-convert\" onclick=\"convertToInteractive('df-eeb959e2-9675-411b-9096-33bb3e1daa80')\"\n",
              "            title=\"Convert this dataframe to an interactive table.\"\n",
              "            style=\"display:none;\">\n",
              "\n",
              "  <svg xmlns=\"http://www.w3.org/2000/svg\" height=\"24px\" viewBox=\"0 -960 960 960\">\n",
              "    <path d=\"M120-120v-720h720v720H120Zm60-500h600v-160H180v160Zm220 220h160v-160H400v160Zm0 220h160v-160H400v160ZM180-400h160v-160H180v160Zm440 0h160v-160H620v160ZM180-180h160v-160H180v160Zm440 0h160v-160H620v160Z\"/>\n",
              "  </svg>\n",
              "    </button>\n",
              "\n",
              "  <style>\n",
              "    .colab-df-container {\n",
              "      display:flex;\n",
              "      gap: 12px;\n",
              "    }\n",
              "\n",
              "    .colab-df-convert {\n",
              "      background-color: #E8F0FE;\n",
              "      border: none;\n",
              "      border-radius: 50%;\n",
              "      cursor: pointer;\n",
              "      display: none;\n",
              "      fill: #1967D2;\n",
              "      height: 32px;\n",
              "      padding: 0 0 0 0;\n",
              "      width: 32px;\n",
              "    }\n",
              "\n",
              "    .colab-df-convert:hover {\n",
              "      background-color: #E2EBFA;\n",
              "      box-shadow: 0px 1px 2px rgba(60, 64, 67, 0.3), 0px 1px 3px 1px rgba(60, 64, 67, 0.15);\n",
              "      fill: #174EA6;\n",
              "    }\n",
              "\n",
              "    .colab-df-buttons div {\n",
              "      margin-bottom: 4px;\n",
              "    }\n",
              "\n",
              "    [theme=dark] .colab-df-convert {\n",
              "      background-color: #3B4455;\n",
              "      fill: #D2E3FC;\n",
              "    }\n",
              "\n",
              "    [theme=dark] .colab-df-convert:hover {\n",
              "      background-color: #434B5C;\n",
              "      box-shadow: 0px 1px 3px 1px rgba(0, 0, 0, 0.15);\n",
              "      filter: drop-shadow(0px 1px 2px rgba(0, 0, 0, 0.3));\n",
              "      fill: #FFFFFF;\n",
              "    }\n",
              "  </style>\n",
              "\n",
              "    <script>\n",
              "      const buttonEl =\n",
              "        document.querySelector('#df-eeb959e2-9675-411b-9096-33bb3e1daa80 button.colab-df-convert');\n",
              "      buttonEl.style.display =\n",
              "        google.colab.kernel.accessAllowed ? 'block' : 'none';\n",
              "\n",
              "      async function convertToInteractive(key) {\n",
              "        const element = document.querySelector('#df-eeb959e2-9675-411b-9096-33bb3e1daa80');\n",
              "        const dataTable =\n",
              "          await google.colab.kernel.invokeFunction('convertToInteractive',\n",
              "                                                    [key], {});\n",
              "        if (!dataTable) return;\n",
              "\n",
              "        const docLinkHtml = 'Like what you see? Visit the ' +\n",
              "          '<a target=\"_blank\" href=https://colab.research.google.com/notebooks/data_table.ipynb>data table notebook</a>'\n",
              "          + ' to learn more about interactive tables.';\n",
              "        element.innerHTML = '';\n",
              "        dataTable['output_type'] = 'display_data';\n",
              "        await google.colab.output.renderOutput(dataTable, element);\n",
              "        const docLink = document.createElement('div');\n",
              "        docLink.innerHTML = docLinkHtml;\n",
              "        element.appendChild(docLink);\n",
              "      }\n",
              "    </script>\n",
              "  </div>\n",
              "\n",
              "\n",
              "<div id=\"df-79b7c544-6401-4728-a0cb-abb8e71d0f38\">\n",
              "  <button class=\"colab-df-quickchart\" onclick=\"quickchart('df-79b7c544-6401-4728-a0cb-abb8e71d0f38')\"\n",
              "            title=\"Suggest charts\"\n",
              "            style=\"display:none;\">\n",
              "\n",
              "<svg xmlns=\"http://www.w3.org/2000/svg\" height=\"24px\"viewBox=\"0 0 24 24\"\n",
              "     width=\"24px\">\n",
              "    <g>\n",
              "        <path d=\"M19 3H5c-1.1 0-2 .9-2 2v14c0 1.1.9 2 2 2h14c1.1 0 2-.9 2-2V5c0-1.1-.9-2-2-2zM9 17H7v-7h2v7zm4 0h-2V7h2v10zm4 0h-2v-4h2v4z\"/>\n",
              "    </g>\n",
              "</svg>\n",
              "  </button>\n",
              "\n",
              "<style>\n",
              "  .colab-df-quickchart {\n",
              "      --bg-color: #E8F0FE;\n",
              "      --fill-color: #1967D2;\n",
              "      --hover-bg-color: #E2EBFA;\n",
              "      --hover-fill-color: #174EA6;\n",
              "      --disabled-fill-color: #AAA;\n",
              "      --disabled-bg-color: #DDD;\n",
              "  }\n",
              "\n",
              "  [theme=dark] .colab-df-quickchart {\n",
              "      --bg-color: #3B4455;\n",
              "      --fill-color: #D2E3FC;\n",
              "      --hover-bg-color: #434B5C;\n",
              "      --hover-fill-color: #FFFFFF;\n",
              "      --disabled-bg-color: #3B4455;\n",
              "      --disabled-fill-color: #666;\n",
              "  }\n",
              "\n",
              "  .colab-df-quickchart {\n",
              "    background-color: var(--bg-color);\n",
              "    border: none;\n",
              "    border-radius: 50%;\n",
              "    cursor: pointer;\n",
              "    display: none;\n",
              "    fill: var(--fill-color);\n",
              "    height: 32px;\n",
              "    padding: 0;\n",
              "    width: 32px;\n",
              "  }\n",
              "\n",
              "  .colab-df-quickchart:hover {\n",
              "    background-color: var(--hover-bg-color);\n",
              "    box-shadow: 0 1px 2px rgba(60, 64, 67, 0.3), 0 1px 3px 1px rgba(60, 64, 67, 0.15);\n",
              "    fill: var(--button-hover-fill-color);\n",
              "  }\n",
              "\n",
              "  .colab-df-quickchart-complete:disabled,\n",
              "  .colab-df-quickchart-complete:disabled:hover {\n",
              "    background-color: var(--disabled-bg-color);\n",
              "    fill: var(--disabled-fill-color);\n",
              "    box-shadow: none;\n",
              "  }\n",
              "\n",
              "  .colab-df-spinner {\n",
              "    border: 2px solid var(--fill-color);\n",
              "    border-color: transparent;\n",
              "    border-bottom-color: var(--fill-color);\n",
              "    animation:\n",
              "      spin 1s steps(1) infinite;\n",
              "  }\n",
              "\n",
              "  @keyframes spin {\n",
              "    0% {\n",
              "      border-color: transparent;\n",
              "      border-bottom-color: var(--fill-color);\n",
              "      border-left-color: var(--fill-color);\n",
              "    }\n",
              "    20% {\n",
              "      border-color: transparent;\n",
              "      border-left-color: var(--fill-color);\n",
              "      border-top-color: var(--fill-color);\n",
              "    }\n",
              "    30% {\n",
              "      border-color: transparent;\n",
              "      border-left-color: var(--fill-color);\n",
              "      border-top-color: var(--fill-color);\n",
              "      border-right-color: var(--fill-color);\n",
              "    }\n",
              "    40% {\n",
              "      border-color: transparent;\n",
              "      border-right-color: var(--fill-color);\n",
              "      border-top-color: var(--fill-color);\n",
              "    }\n",
              "    60% {\n",
              "      border-color: transparent;\n",
              "      border-right-color: var(--fill-color);\n",
              "    }\n",
              "    80% {\n",
              "      border-color: transparent;\n",
              "      border-right-color: var(--fill-color);\n",
              "      border-bottom-color: var(--fill-color);\n",
              "    }\n",
              "    90% {\n",
              "      border-color: transparent;\n",
              "      border-bottom-color: var(--fill-color);\n",
              "    }\n",
              "  }\n",
              "</style>\n",
              "\n",
              "  <script>\n",
              "    async function quickchart(key) {\n",
              "      const quickchartButtonEl =\n",
              "        document.querySelector('#' + key + ' button');\n",
              "      quickchartButtonEl.disabled = true;  // To prevent multiple clicks.\n",
              "      quickchartButtonEl.classList.add('colab-df-spinner');\n",
              "      try {\n",
              "        const charts = await google.colab.kernel.invokeFunction(\n",
              "            'suggestCharts', [key], {});\n",
              "      } catch (error) {\n",
              "        console.error('Error during call to suggestCharts:', error);\n",
              "      }\n",
              "      quickchartButtonEl.classList.remove('colab-df-spinner');\n",
              "      quickchartButtonEl.classList.add('colab-df-quickchart-complete');\n",
              "    }\n",
              "    (() => {\n",
              "      let quickchartButtonEl =\n",
              "        document.querySelector('#df-79b7c544-6401-4728-a0cb-abb8e71d0f38 button');\n",
              "      quickchartButtonEl.style.display =\n",
              "        google.colab.kernel.accessAllowed ? 'block' : 'none';\n",
              "    })();\n",
              "  </script>\n",
              "</div>\n",
              "    </div>\n",
              "  </div>\n"
            ],
            "text/plain": [
              "      actual_val  predicted_val      diff  predicted_val2     diff2\n",
              "4010        21.0      21.004379 -0.004379       21.000044 -0.000044\n",
              "976          0.0       0.012691 -0.012691        0.000127 -0.000127\n",
              "4830        15.0      15.006587 -0.006587       15.000066 -0.000066\n",
              "7364        62.0      61.987484  0.012516       61.999875  0.000125\n",
              "6624        14.0      14.006984 -0.006984       14.000070 -0.000070\n",
              "...          ...            ...       ...             ...       ...\n",
              "7272        12.0      12.007931 -0.007931       12.000079 -0.000079\n",
              "7641       363.0     362.865145  0.134855      362.998651  0.001349\n",
              "1246         0.0       0.012774 -0.012774        0.000128 -0.000128\n",
              "4723        22.0      22.003759 -0.003759       22.000038 -0.000038\n",
              "5943        11.0      11.008242 -0.008242       11.000082 -0.000082\n",
              "\n",
              "[2296 rows x 5 columns]"
            ]
          },
          "execution_count": 44,
          "metadata": {},
          "output_type": "execute_result"
        }
      ],
      "source": [
        "y_pred2 = search.predict(x_test)\n",
        "\n",
        "y_test[\"predicted_val2\"] = y_pred2\n",
        "y_test[\"diff2\"] = y_test[\"video_duration\"]-y_pred2\n",
        "y_test.rename(columns={\"video_duration\": \"actual_val\"})"
      ]
    },
    {
      "cell_type": "code",
      "execution_count": null,
      "metadata": {
        "colab": {
          "base_uri": "https://localhost:8080/"
        },
        "id": "CXLAHrZRsfGq",
        "outputId": "1dd4da29-ac8b-4956-d8e0-2581ddf00d8a"
      },
      "outputs": [
        {
          "data": {
            "text/plain": [
              "count    2296.000000\n",
              "mean       -0.000007\n",
              "std         0.000191\n",
              "min        -0.000251\n",
              "25%        -0.000097\n",
              "50%        -0.000067\n",
              "75%         0.000019\n",
              "max         0.003534\n",
              "Name: diff2, dtype: float64"
            ]
          },
          "execution_count": 45,
          "metadata": {},
          "output_type": "execute_result"
        }
      ],
      "source": [
        "y_test['diff2'].describe()"
      ]
    },
    {
      "cell_type": "code",
      "execution_count": null,
      "metadata": {
        "colab": {
          "base_uri": "https://localhost:8080/",
          "height": 430
        },
        "id": "oRTuBFh7r9tP",
        "outputId": "38c2cdc0-79d7-4f60-d877-452f4e22d04c"
      },
      "outputs": [
        {
          "data": {
            "image/png": "[encoded data removed]",
            "text/plain": [
              "<Figure size 640x480 with 1 Axes>"
            ]
          },
          "metadata": {},
          "output_type": "display_data"
        }
      ],
      "source": [
        "plt.scatter(y_test.index, y_test[\"diff2\"]) # Our predictions are pretty good on the training set\n",
        "plt.show()"
      ]
    },
    {
      "cell_type": "code",
      "execution_count": null,
      "metadata": {
        "colab": {
          "base_uri": "https://localhost:8080/",
          "height": 75
        },
        "id": "xrD8eoBlnc3F",
        "outputId": "361af76b-10bf-4524-a2bf-45df7467a7aa"
      },
      "outputs": [
        {
          "data": {
            "text/html": [
              "<style>#sk-container-id-3 {color: black;background-color: white;}#sk-container-id-3 pre{padding: 0;}#sk-container-id-3 div.sk-toggleable {background-color: white;}#sk-container-id-3 label.sk-toggleable__label {cursor: pointer;display: block;width: 100%;margin-bottom: 0;padding: 0.3em;box-sizing: border-box;text-align: center;}#sk-container-id-3 label.sk-toggleable__label-arrow:before {content: \"▸\";float: left;margin-right: 0.25em;color: #696969;}#sk-container-id-3 label.sk-toggleable__label-arrow:hover:before {color: black;}#sk-container-id-3 div.sk-estimator:hover label.sk-toggleable__label-arrow:before {color: black;}#sk-container-id-3 div.sk-toggleable__content {max-height: 0;max-width: 0;overflow: hidden;text-align: left;background-color: #f0f8ff;}#sk-container-id-3 div.sk-toggleable__content pre {margin: 0.2em;color: black;border-radius: 0.25em;background-color: #f0f8ff;}#sk-container-id-3 input.sk-toggleable__control:checked~div.sk-toggleable__content {max-height: 200px;max-width: 100%;overflow: auto;}#sk-container-id-3 input.sk-toggleable__control:checked~label.sk-toggleable__label-arrow:before {content: \"▾\";}#sk-container-id-3 div.sk-estimator input.sk-toggleable__control:checked~label.sk-toggleable__label {background-color: #d4ebff;}#sk-container-id-3 div.sk-label input.sk-toggleable__control:checked~label.sk-toggleable__label {background-color: #d4ebff;}#sk-container-id-3 input.sk-hidden--visually {border: 0;clip: rect(1px 1px 1px 1px);clip: rect(1px, 1px, 1px, 1px);height: 1px;margin: -1px;overflow: hidden;padding: 0;position: absolute;width: 1px;}#sk-container-id-3 div.sk-estimator {font-family: monospace;background-color: #f0f8ff;border: 1px dotted black;border-radius: 0.25em;box-sizing: border-box;margin-bottom: 0.5em;}#sk-container-id-3 div.sk-estimator:hover {background-color: #d4ebff;}#sk-container-id-3 div.sk-parallel-item::after {content: \"\";width: 100%;border-bottom: 1px solid gray;flex-grow: 1;}#sk-container-id-3 div.sk-label:hover label.sk-toggleable__label {background-color: #d4ebff;}#sk-container-id-3 div.sk-serial::before {content: \"\";position: absolute;border-left: 1px solid gray;box-sizing: border-box;top: 0;bottom: 0;left: 50%;z-index: 0;}#sk-container-id-3 div.sk-serial {display: flex;flex-direction: column;align-items: center;background-color: white;padding-right: 0.2em;padding-left: 0.2em;position: relative;}#sk-container-id-3 div.sk-item {position: relative;z-index: 1;}#sk-container-id-3 div.sk-parallel {display: flex;align-items: stretch;justify-content: center;background-color: white;position: relative;}#sk-container-id-3 div.sk-item::before, #sk-container-id-3 div.sk-parallel-item::before {content: \"\";position: absolute;border-left: 1px solid gray;box-sizing: border-box;top: 0;bottom: 0;left: 50%;z-index: -1;}#sk-container-id-3 div.sk-parallel-item {display: flex;flex-direction: column;z-index: 1;position: relative;background-color: white;}#sk-container-id-3 div.sk-parallel-item:first-child::after {align-self: flex-end;width: 50%;}#sk-container-id-3 div.sk-parallel-item:last-child::after {align-self: flex-start;width: 50%;}#sk-container-id-3 div.sk-parallel-item:only-child::after {width: 0;}#sk-container-id-3 div.sk-dashed-wrapped {border: 1px dashed gray;margin: 0 0.4em 0.5em 0.4em;box-sizing: border-box;padding-bottom: 0.4em;background-color: white;}#sk-container-id-3 div.sk-label label {font-family: monospace;font-weight: bold;display: inline-block;line-height: 1.2em;}#sk-container-id-3 div.sk-label-container {text-align: center;}#sk-container-id-3 div.sk-container {/* jupyter's `normalize.less` sets `[hidden] { display: none; }` but bootstrap.min.css set `[hidden] { display: none !important; }` so we also need the `!important` here to be able to override the default hidden behavior on the sphinx rendered scikit-learn.org. See: https://github.com/scikit-learn/scikit-learn/issues/21755 */display: inline-block !important;position: relative;}#sk-container-id-3 div.sk-text-repr-fallback {display: none;}</style><div id=\"sk-container-id-3\" class=\"sk-top-container\"><div class=\"sk-text-repr-fallback\"><pre>Lasso(alpha=0.01)</pre><b>In a Jupyter environment, please rerun this cell to show the HTML representation or trust the notebook. <br />On GitHub, the HTML representation is unable to render, please try loading this page with nbviewer.org.</b></div><div class=\"sk-container\" hidden><div class=\"sk-item\"><div class=\"sk-estimator sk-toggleable\"><input class=\"sk-toggleable__control sk-hidden--visually\" id=\"sk-estimator-id-3\" type=\"checkbox\" checked><label for=\"sk-estimator-id-3\" class=\"sk-toggleable__label sk-toggleable__label-arrow\">Lasso</label><div class=\"sk-toggleable__content\"><pre>Lasso(alpha=0.01)</pre></div></div></div></div></div>"
            ],
            "text/plain": [
              "Lasso(alpha=0.01)"
            ]
          },
          "execution_count": 47,
          "metadata": {},
          "output_type": "execute_result"
        }
      ],
      "source": [
        "search.best_estimator_\n",
        "#search.best_score_\n",
        "#search.best_params_"
      ]
    }
  ],
  "metadata": {
    "colab": {
      "provenance": []
    },
    "kernelspec": {
      "display_name": "base",
      "language": "python",
      "name": "python3"
    },
    "language_info": {
      "codemirror_mode": {
        "name": "ipython",
        "version": 3
      },
      "file_extension": ".py",
      "mimetype": "text/x-python",
      "name": "python",
      "nbconvert_exporter": "python",
      "pygments_lexer": "ipython3",
      "version": "3.11.5"
    }
  },
  "nbformat": 4,
  "nbformat_minor": 0
}
